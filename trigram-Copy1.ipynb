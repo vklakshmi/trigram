{
 "cells": [
  {
   "cell_type": "code",
   "execution_count": 1,
   "metadata": {},
   "outputs": [],
   "source": [
    "import pandas as pd"
   ]
  },
  {
   "cell_type": "code",
   "execution_count": 2,
   "metadata": {},
   "outputs": [],
   "source": [
    "data = pd.read_csv('F:\\kutty\\severeinjury1.csv',encoding='cp1252')\n"
   ]
  },
  {
   "cell_type": "code",
   "execution_count": 3,
   "metadata": {},
   "outputs": [],
   "source": [
    "\n",
    "import nltk"
   ]
  },
  {
   "cell_type": "code",
   "execution_count": 4,
   "metadata": {},
   "outputs": [],
   "source": [
    "from nltk.util import ngrams"
   ]
  },
  {
   "cell_type": "code",
   "execution_count": 5,
   "metadata": {},
   "outputs": [],
   "source": [
    "from nltk.tokenize import WhitespaceTokenizer"
   ]
  },
  {
   "cell_type": "code",
   "execution_count": 6,
   "metadata": {},
   "outputs": [],
   "source": [
    "from nltk.stem.snowball import SnowballStemmer\n",
    "stemming = SnowballStemmer(\"english\")"
   ]
  },
  {
   "cell_type": "code",
   "execution_count": 7,
   "metadata": {},
   "outputs": [],
   "source": [
    "data[\"narrative\"]= data[\"title.new\"]+data[\"summary.new\"]"
   ]
  },
  {
   "cell_type": "code",
   "execution_count": 8,
   "metadata": {},
   "outputs": [],
   "source": [
    "def identify_tokens(row):\n",
    "    summary_title = row[\"narrative\"]\n",
    "    tokens = nltk.word_tokenize(summary_title)\n",
    "    token_words = ngrams(tokens,3)\n",
    "    tok = [\" \".join(t) for t in token_words]\n",
    "    return tok"
   ]
  },
  {
   "cell_type": "code",
   "execution_count": 9,
   "metadata": {},
   "outputs": [],
   "source": [
    "data['words']= data.apply(identify_tokens,axis=1)"
   ]
  },
  {
   "cell_type": "code",
   "execution_count": 10,
   "metadata": {},
   "outputs": [
    {
     "data": {
      "text/plain": [
       "0      [two workers are, workers are struck, are stru...\n",
       "1      [foreman is fatally, is fatally crushed, fatal...\n",
       "2      [employee suffers abdominal, suffers abdominal...\n",
       "3      [employee 's body, 's body is, body is caught,...\n",
       "4      [employee is punctured, is punctured in, punct...\n",
       "5      [carpenter is injured, is injured in, injured ...\n",
       "6      [pipeline worker is, worker is struck, is stru...\n",
       "7      [employee crushes leg, crushes leg suffers, le...\n",
       "8      [worker falls from, falls from roof, from roof...\n",
       "9      [driver hurt when, hurt when truck, when truck...\n",
       "10     [tile setter sustains, setter sustains injurie...\n",
       "11     [crane operator incurs, operator incurs knee, ...\n",
       "12     [employee is killed, is killed in, killed in f...\n",
       "13     [employee killed in, killed in fall, in fall f...\n",
       "14     [employee killed in, killed in fall, in fall f...\n",
       "15     [employee 's thigh, 's thigh lacerated, thigh ...\n",
       "16     [asphyxiated in rail, in rail car, rail car ;,...\n",
       "17     [employee killed in, killed in fall, in fall f...\n",
       "18     [worker is struck, is struck by, struck by abr...\n",
       "19     [worker lacerates hand, lacerates hand on, han...\n",
       "20     [abrasive wheel cut, wheel cut off, cut off sa...\n",
       "21     [employee cuts his, cuts his thumb, his thumb ...\n",
       "22     [employee 's face, 's face is, face is injured...\n",
       "23     [employee is injured, is injured while, injure...\n",
       "24     [employee 's hand, 's hand lacerated, hand lac...\n",
       "25     [worker 's finger, 's finger is, finger is bro...\n",
       "26     [employee is killed, is killed when, killed wh...\n",
       "27     [employee injured in, injured in fall, in fall...\n",
       "28     [employee dies after, dies after exposure, aft...\n",
       "29     [employee 's eye, 's eye is, eye is burned, is...\n",
       "                             ...                        \n",
       "970    [employee falls 30, falls 30 ft, 30 ft in, ft ...\n",
       "971    [employee is struck, is struck and, struck and...\n",
       "972    [employee is injured, is injured when, injured...\n",
       "973    [employee falls from, falls from elevation, fr...\n",
       "974    [employee killed in, killed in fall, in fall f...\n",
       "975    [employee injured in, injured in fall, in fall...\n",
       "976    [employee falls to, falls to his, to his death...\n",
       "977    [employee killed in, killed in fall, in fall f...\n",
       "978    [employee 's injured, 's injured when, injured...\n",
       "979    [employee killed in, killed in fall, in fall w...\n",
       "980    [employee killed in, killed in fall, in fall w...\n",
       "981    [employee 's foot, 's foot injured, foot injur...\n",
       "982    [employee is struck, is struck by, struck by f...\n",
       "983    [employee 's foot, 's foot injured, foot injur...\n",
       "984    [employee 's legs, 's legs amputated, legs amp...\n",
       "985    [employee 's spine, 's spine is, spine is frac...\n",
       "986    [employee struck by, struck by bar, by bar joi...\n",
       "987    [employee injured when, injured when struck, w...\n",
       "988    [employee is struck, is struck by, struck by b...\n",
       "989    [employee injured in, injured in fall, in fall...\n",
       "990    [two employees killed, employees killed in, ki...\n",
       "991    [employee is killed, is killed when, killed wh...\n",
       "992    [employee killed in, killed in fall, in fall f...\n",
       "993    [employee dies after, dies after being, after ...\n",
       "994    [employee injured in, injured in fall, in fall...\n",
       "995    [two employees are, employees are killed, are ...\n",
       "996    [employee suffered face, suffered face injury,...\n",
       "997    [machine operator is, operator is injured, is ...\n",
       "998    [two employees are, employees are killed, are ...\n",
       "999    [employee fall from, fall from roof, from roof...\n",
       "Name: words, Length: 1000, dtype: object"
      ]
     },
     "execution_count": 10,
     "metadata": {},
     "output_type": "execute_result"
    }
   ],
   "source": [
    "\n",
    "data['words']"
   ]
  },
  {
   "cell_type": "code",
   "execution_count": 11,
   "metadata": {},
   "outputs": [],
   "source": [
    "\n",
    "def stem_list(row):\n",
    "    my_list = row['words']\n",
    "    stemmed_list = [stemming.stem(word) for word in my_list]\n",
    "    return(stemmed_list)\n",
    "\n",
    "data['stemmed_words'] = data.apply(stem_list, axis=1)"
   ]
  },
  {
   "cell_type": "code",
   "execution_count": 12,
   "metadata": {},
   "outputs": [
    {
     "data": {
      "text/plain": [
       "0      [two workers ar, workers are struck, are struc...\n",
       "1      [foreman is fat, is fatally crush, fatally cru...\n",
       "2      [employee suffers abdomin, suffers abdominal f...\n",
       "3      [employee 's bodi, s body i, body is caught, i...\n",
       "4      [employee is punctur, is punctured in, punctur...\n",
       "5      [carpenter is injur, is injured in, injured in...\n",
       "6      [pipeline worker i, worker is struck, is struc...\n",
       "7      [employee crushes leg, crushes leg suff, leg s...\n",
       "8      [worker falls from, falls from roof, from roof...\n",
       "9      [driver hurt when, hurt when truck, when truck...\n",
       "10     [tile setter sustain, setter sustains injuri, ...\n",
       "11     [crane operator incur, operator incurs kne, in...\n",
       "12     [employee is kil, is killed in, killed in fal,...\n",
       "13     [employee killed in, killed in fal, in fall fr...\n",
       "14     [employee killed in, killed in fal, in fall fr...\n",
       "15     [employee 's thigh, s thigh lacer, thigh lacer...\n",
       "16     [asphyxiated in rail, in rail car, rail car ;,...\n",
       "17     [employee killed in, killed in fal, in fall fr...\n",
       "18     [worker is struck, is struck bi, struck by abr...\n",
       "19     [worker lacerates hand, lacerates hand on, han...\n",
       "20     [abrasive wheel cut, wheel cut off, cut off sa...\n",
       "21     [employee cuts hi, cuts his thumb, his thumb w...\n",
       "22     [employee 's fac, s face i, face is injur, is ...\n",
       "23     [employee is injur, is injured whil, injured w...\n",
       "24     [employee 's hand, s hand lacer, hand lacerate...\n",
       "25     [worker 's fing, s finger i, finger is broken,...\n",
       "26     [employee is kil, is killed when, killed when ...\n",
       "27     [employee injured in, injured in fal, in fall ...\n",
       "28     [employee dies aft, dies after exposur, after ...\n",
       "29     [employee 's ey, s eye i, eye is burn, is burn...\n",
       "                             ...                        \n",
       "970    [employee falls 30, falls 30 ft, 30 ft in, ft ...\n",
       "971    [employee is struck, is struck and, struck and...\n",
       "972    [employee is injur, is injured when, injured w...\n",
       "973    [employee falls from, falls from elev, from el...\n",
       "974    [employee killed in, killed in fal, in fall fr...\n",
       "975    [employee injured in, injured in fal, in fall ...\n",
       "976    [employee falls to, falls to hi, to his death,...\n",
       "977    [employee killed in, killed in fal, in fall fr...\n",
       "978    [employee 's injur, s injured when, injured wh...\n",
       "979    [employee killed in, killed in fal, in fall wh...\n",
       "980    [employee killed in, killed in fal, in fall wh...\n",
       "981    [employee 's foot, s foot injur, foot injured ...\n",
       "982    [employee is struck, is struck bi, struck by f...\n",
       "983    [employee 's foot, s foot injur, foot injured ...\n",
       "984    [employee 's leg, s legs amput, legs amputated...\n",
       "985    [employee 's spin, s spine i, spine is fractur...\n",
       "986    [employee struck bi, struck by bar, by bar joi...\n",
       "987    [employee injured when, injured when struck, w...\n",
       "988    [employee is struck, is struck bi, struck by b...\n",
       "989    [employee injured in, injured in fal, in fall ...\n",
       "990    [two employees kil, employees killed in, kille...\n",
       "991    [employee is kil, is killed when, killed when ...\n",
       "992    [employee killed in, killed in fal, in fall fr...\n",
       "993    [employee dies aft, dies after b, after being ...\n",
       "994    [employee injured in, injured in fal, in fall ...\n",
       "995    [two employees ar, employees are kil, are kill...\n",
       "996    [employee suffered fac, suffered face injuri, ...\n",
       "997    [machine operator i, operator is injur, is inj...\n",
       "998    [two employees ar, employees are kil, are kill...\n",
       "999    [employee fall from, fall from roof, from roof...\n",
       "Name: stemmed_words, Length: 1000, dtype: object"
      ]
     },
     "execution_count": 12,
     "metadata": {},
     "output_type": "execute_result"
    }
   ],
   "source": [
    "data['stemmed_words']"
   ]
  },
  {
   "cell_type": "code",
   "execution_count": 13,
   "metadata": {},
   "outputs": [],
   "source": [
    "\n",
    "from nltk.corpus import stopwords\n",
    "stops = set(stopwords.words(\"english\"))                  \n",
    "\n",
    "def remove_stops(row):\n",
    "    my_list = row['stemmed_words']\n",
    "    meaningful_words = [w for w in my_list if not w in stops]\n",
    "    return (meaningful_words)\n",
    "\n",
    "data['stem_meaningful'] = data.apply(remove_stops, axis=1)"
   ]
  },
  {
   "cell_type": "code",
   "execution_count": 14,
   "metadata": {},
   "outputs": [
    {
     "data": {
      "text/plain": [
       "0      [two workers ar, workers are struck, are struc...\n",
       "1      [foreman is fat, is fatally crush, fatally cru...\n",
       "2      [employee suffers abdomin, suffers abdominal f...\n",
       "3      [employee 's bodi, s body i, body is caught, i...\n",
       "4      [employee is punctur, is punctured in, punctur...\n",
       "5      [carpenter is injur, is injured in, injured in...\n",
       "6      [pipeline worker i, worker is struck, is struc...\n",
       "7      [employee crushes leg, crushes leg suff, leg s...\n",
       "8      [worker falls from, falls from roof, from roof...\n",
       "9      [driver hurt when, hurt when truck, when truck...\n",
       "10     [tile setter sustain, setter sustains injuri, ...\n",
       "11     [crane operator incur, operator incurs kne, in...\n",
       "12     [employee is kil, is killed in, killed in fal,...\n",
       "13     [employee killed in, killed in fal, in fall fr...\n",
       "14     [employee killed in, killed in fal, in fall fr...\n",
       "15     [employee 's thigh, s thigh lacer, thigh lacer...\n",
       "16     [asphyxiated in rail, in rail car, rail car ;,...\n",
       "17     [employee killed in, killed in fal, in fall fr...\n",
       "18     [worker is struck, is struck bi, struck by abr...\n",
       "19     [worker lacerates hand, lacerates hand on, han...\n",
       "20     [abrasive wheel cut, wheel cut off, cut off sa...\n",
       "21     [employee cuts hi, cuts his thumb, his thumb w...\n",
       "22     [employee 's fac, s face i, face is injur, is ...\n",
       "23     [employee is injur, is injured whil, injured w...\n",
       "24     [employee 's hand, s hand lacer, hand lacerate...\n",
       "25     [worker 's fing, s finger i, finger is broken,...\n",
       "26     [employee is kil, is killed when, killed when ...\n",
       "27     [employee injured in, injured in fal, in fall ...\n",
       "28     [employee dies aft, dies after exposur, after ...\n",
       "29     [employee 's ey, s eye i, eye is burn, is burn...\n",
       "                             ...                        \n",
       "970    [employee falls 30, falls 30 ft, 30 ft in, ft ...\n",
       "971    [employee is struck, is struck and, struck and...\n",
       "972    [employee is injur, is injured when, injured w...\n",
       "973    [employee falls from, falls from elev, from el...\n",
       "974    [employee killed in, killed in fal, in fall fr...\n",
       "975    [employee injured in, injured in fal, in fall ...\n",
       "976    [employee falls to, falls to hi, to his death,...\n",
       "977    [employee killed in, killed in fal, in fall fr...\n",
       "978    [employee 's injur, s injured when, injured wh...\n",
       "979    [employee killed in, killed in fal, in fall wh...\n",
       "980    [employee killed in, killed in fal, in fall wh...\n",
       "981    [employee 's foot, s foot injur, foot injured ...\n",
       "982    [employee is struck, is struck bi, struck by f...\n",
       "983    [employee 's foot, s foot injur, foot injured ...\n",
       "984    [employee 's leg, s legs amput, legs amputated...\n",
       "985    [employee 's spin, s spine i, spine is fractur...\n",
       "986    [employee struck bi, struck by bar, by bar joi...\n",
       "987    [employee injured when, injured when struck, w...\n",
       "988    [employee is struck, is struck bi, struck by b...\n",
       "989    [employee injured in, injured in fal, in fall ...\n",
       "990    [two employees kil, employees killed in, kille...\n",
       "991    [employee is kil, is killed when, killed when ...\n",
       "992    [employee killed in, killed in fal, in fall fr...\n",
       "993    [employee dies aft, dies after b, after being ...\n",
       "994    [employee injured in, injured in fal, in fall ...\n",
       "995    [two employees ar, employees are kil, are kill...\n",
       "996    [employee suffered fac, suffered face injuri, ...\n",
       "997    [machine operator i, operator is injur, is inj...\n",
       "998    [two employees ar, employees are kil, are kill...\n",
       "999    [employee fall from, fall from roof, from roof...\n",
       "Name: stem_meaningful, Length: 1000, dtype: object"
      ]
     },
     "execution_count": 14,
     "metadata": {},
     "output_type": "execute_result"
    }
   ],
   "source": [
    "\n",
    "data['stem_meaningful']"
   ]
  },
  {
   "cell_type": "code",
   "execution_count": 15,
   "metadata": {},
   "outputs": [],
   "source": [
    "from sklearn.feature_extraction.text import TfidfVectorizer\n",
    "import math"
   ]
  },
  {
   "cell_type": "code",
   "execution_count": 16,
   "metadata": {},
   "outputs": [],
   "source": [
    "data['stem_meaningful'] = [\"  \".join(review) for review in data['stem_meaningful'].values]"
   ]
  },
  {
   "cell_type": "code",
   "execution_count": 17,
   "metadata": {},
   "outputs": [
    {
     "data": {
      "text/plain": [
       "0      two workers ar  workers are struck  are struck...\n",
       "1      foreman is fat  is fatally crush  fatally crus...\n",
       "2      employee suffers abdomin  suffers abdominal fr...\n",
       "3      employee 's bodi  s body i  body is caught  is...\n",
       "4      employee is punctur  is punctured in  puncture...\n",
       "5      carpenter is injur  is injured in  injured in ...\n",
       "6      pipeline worker i  worker is struck  is struck...\n",
       "7      employee crushes leg  crushes leg suff  leg su...\n",
       "8      worker falls from  falls from roof  from roof ...\n",
       "9      driver hurt when  hurt when truck  when truck ...\n",
       "10     tile setter sustain  setter sustains injuri  s...\n",
       "11     crane operator incur  operator incurs kne  inc...\n",
       "12     employee is kil  is killed in  killed in fal  ...\n",
       "13     employee killed in  killed in fal  in fall fro...\n",
       "14     employee killed in  killed in fal  in fall fro...\n",
       "15     employee 's thigh  s thigh lacer  thigh lacera...\n",
       "16     asphyxiated in rail  in rail car  rail car ;  ...\n",
       "17     employee killed in  killed in fal  in fall fro...\n",
       "18     worker is struck  is struck bi  struck by abra...\n",
       "19     worker lacerates hand  lacerates hand on  hand...\n",
       "20     abrasive wheel cut  wheel cut off  cut off saw...\n",
       "21     employee cuts hi  cuts his thumb  his thumb wi...\n",
       "22     employee 's fac  s face i  face is injur  is i...\n",
       "23     employee is injur  is injured whil  injured wh...\n",
       "24     employee 's hand  s hand lacer  hand lacerated...\n",
       "25     worker 's fing  s finger i  finger is broken  ...\n",
       "26     employee is kil  is killed when  killed when s...\n",
       "27     employee injured in  injured in fal  in fall f...\n",
       "28     employee dies aft  dies after exposur  after e...\n",
       "29     employee 's ey  s eye i  eye is burn  is burne...\n",
       "                             ...                        \n",
       "970    employee falls 30  falls 30 ft  30 ft in  ft i...\n",
       "971    employee is struck  is struck and  struck and ...\n",
       "972    employee is injur  is injured when  injured wh...\n",
       "973    employee falls from  falls from elev  from ele...\n",
       "974    employee killed in  killed in fal  in fall fro...\n",
       "975    employee injured in  injured in fal  in fall w...\n",
       "976    employee falls to  falls to hi  to his death  ...\n",
       "977    employee killed in  killed in fal  in fall fro...\n",
       "978    employee 's injur  s injured when  injured whe...\n",
       "979    employee killed in  killed in fal  in fall whe...\n",
       "980    employee killed in  killed in fal  in fall whe...\n",
       "981    employee 's foot  s foot injur  foot injured b...\n",
       "982    employee is struck  is struck bi  struck by fa...\n",
       "983    employee 's foot  s foot injur  foot injured w...\n",
       "984    employee 's leg  s legs amput  legs amputated ...\n",
       "985    employee 's spin  s spine i  spine is fractur ...\n",
       "986    employee struck bi  struck by bar  by bar jois...\n",
       "987    employee injured when  injured when struck  wh...\n",
       "988    employee is struck  is struck bi  struck by br...\n",
       "989    employee injured in  injured in fal  in fall w...\n",
       "990    two employees kil  employees killed in  killed...\n",
       "991    employee is kil  is killed when  killed when c...\n",
       "992    employee killed in  killed in fal  in fall fro...\n",
       "993    employee dies aft  dies after b  after being s...\n",
       "994    employee injured in  injured in fal  in fall w...\n",
       "995    two employees ar  employees are kil  are kille...\n",
       "996    employee suffered fac  suffered face injuri  f...\n",
       "997    machine operator i  operator is injur  is inju...\n",
       "998    two employees ar  employees are kil  are kille...\n",
       "999    employee fall from  fall from roof  from roof ...\n",
       "Name: stem_meaningful, Length: 1000, dtype: object"
      ]
     },
     "execution_count": 17,
     "metadata": {},
     "output_type": "execute_result"
    }
   ],
   "source": [
    "data['stem_meaningful']"
   ]
  },
  {
   "cell_type": "code",
   "execution_count": 18,
   "metadata": {},
   "outputs": [],
   "source": [
    "import numpy as np\n",
    "from sklearn.feature_extraction.text import TfidfVectorizer\n",
    "v=TfidfVectorizer()"
   ]
  },
  {
   "cell_type": "code",
   "execution_count": 19,
   "metadata": {},
   "outputs": [],
   "source": [
    "x=v.fit_transform(data['stem_meaningful'])"
   ]
  },
  {
   "cell_type": "code",
   "execution_count": 20,
   "metadata": {},
   "outputs": [],
   "source": [
    "first_vector_v = x[0]"
   ]
  },
  {
   "cell_type": "code",
   "execution_count": 21,
   "metadata": {},
   "outputs": [
    {
     "data": {
      "text/html": [
       "<div>\n",
       "<style scoped>\n",
       "    .dataframe tbody tr th:only-of-type {\n",
       "        vertical-align: middle;\n",
       "    }\n",
       "\n",
       "    .dataframe tbody tr th {\n",
       "        vertical-align: top;\n",
       "    }\n",
       "\n",
       "    .dataframe thead th {\n",
       "        text-align: right;\n",
       "    }\n",
       "</style>\n",
       "<table border=\"1\" class=\"dataframe\">\n",
       "  <thead>\n",
       "    <tr style=\"text-align: right;\">\n",
       "      <th></th>\n",
       "      <th>tfidf</th>\n",
       "    </tr>\n",
       "  </thead>\n",
       "  <tbody>\n",
       "    <tr>\n",
       "      <th>lane</th>\n",
       "      <td>0.263434</td>\n",
       "    </tr>\n",
       "    <tr>\n",
       "      <th>vehicle</th>\n",
       "      <td>0.230604</td>\n",
       "    </tr>\n",
       "    <tr>\n",
       "      <th>highway</th>\n",
       "      <td>0.224491</td>\n",
       "    </tr>\n",
       "    <tr>\n",
       "      <th>turn</th>\n",
       "      <td>0.215269</td>\n",
       "    </tr>\n",
       "    <tr>\n",
       "      <th>templar</th>\n",
       "      <td>0.187255</td>\n",
       "    </tr>\n",
       "    <tr>\n",
       "      <th>the</th>\n",
       "      <td>0.178987</td>\n",
       "    </tr>\n",
       "    <tr>\n",
       "      <th>struck</th>\n",
       "      <td>0.174371</td>\n",
       "    </tr>\n",
       "    <tr>\n",
       "      <th>travel</th>\n",
       "      <td>0.157142</td>\n",
       "    </tr>\n",
       "    <tr>\n",
       "      <th>and</th>\n",
       "      <td>0.141555</td>\n",
       "    </tr>\n",
       "    <tr>\n",
       "      <th>limit</th>\n",
       "      <td>0.136756</td>\n",
       "    </tr>\n",
       "    <tr>\n",
       "      <th>55</th>\n",
       "      <td>0.134965</td>\n",
       "    </tr>\n",
       "    <tr>\n",
       "      <th>underground</th>\n",
       "      <td>0.133290</td>\n",
       "    </tr>\n",
       "    <tr>\n",
       "      <th>lan</th>\n",
       "      <td>0.128831</td>\n",
       "    </tr>\n",
       "    <tr>\n",
       "      <th>workers</th>\n",
       "      <td>0.128687</td>\n",
       "    </tr>\n",
       "    <tr>\n",
       "      <th>motor</th>\n",
       "      <td>0.127499</td>\n",
       "    </tr>\n",
       "    <tr>\n",
       "      <th>posted</th>\n",
       "      <td>0.117821</td>\n",
       "    </tr>\n",
       "    <tr>\n",
       "      <th>refused</th>\n",
       "      <td>0.117821</td>\n",
       "    </tr>\n",
       "    <tr>\n",
       "      <th>privately</th>\n",
       "      <td>0.117821</td>\n",
       "    </tr>\n",
       "    <tr>\n",
       "      <th>was</th>\n",
       "      <td>0.116342</td>\n",
       "    </tr>\n",
       "    <tr>\n",
       "      <th>ran</th>\n",
       "      <td>0.116126</td>\n",
       "    </tr>\n",
       "    <tr>\n",
       "      <th>services</th>\n",
       "      <td>0.113625</td>\n",
       "    </tr>\n",
       "    <tr>\n",
       "      <th>veered</th>\n",
       "      <td>0.112844</td>\n",
       "    </tr>\n",
       "    <tr>\n",
       "      <th>next</th>\n",
       "      <td>0.112246</td>\n",
       "    </tr>\n",
       "    <tr>\n",
       "      <th>vehicl</th>\n",
       "      <td>0.112246</td>\n",
       "    </tr>\n",
       "    <tr>\n",
       "      <th>27</th>\n",
       "      <td>0.110168</td>\n",
       "    </tr>\n",
       "    <tr>\n",
       "      <th>along</th>\n",
       "      <td>0.109511</td>\n",
       "    </tr>\n",
       "    <tr>\n",
       "      <th>travelling</th>\n",
       "      <td>0.108984</td>\n",
       "    </tr>\n",
       "    <tr>\n",
       "      <th>marking</th>\n",
       "      <td>0.108984</td>\n",
       "    </tr>\n",
       "    <tr>\n",
       "      <th>emergency</th>\n",
       "      <td>0.108877</td>\n",
       "    </tr>\n",
       "    <tr>\n",
       "      <th>hour</th>\n",
       "      <td>0.106455</td>\n",
       "    </tr>\n",
       "    <tr>\n",
       "      <th>...</th>\n",
       "      <td>...</td>\n",
       "    </tr>\n",
       "    <tr>\n",
       "      <th>expos</th>\n",
       "      <td>0.000000</td>\n",
       "    </tr>\n",
       "    <tr>\n",
       "      <th>explosive</th>\n",
       "      <td>0.000000</td>\n",
       "    </tr>\n",
       "    <tr>\n",
       "      <th>explosion</th>\n",
       "      <td>0.000000</td>\n",
       "    </tr>\n",
       "    <tr>\n",
       "      <th>explos</th>\n",
       "      <td>0.000000</td>\n",
       "    </tr>\n",
       "    <tr>\n",
       "      <th>exploding</th>\n",
       "      <td>0.000000</td>\n",
       "    </tr>\n",
       "    <tr>\n",
       "      <th>explodes</th>\n",
       "      <td>0.000000</td>\n",
       "    </tr>\n",
       "    <tr>\n",
       "      <th>exploded</th>\n",
       "      <td>0.000000</td>\n",
       "    </tr>\n",
       "    <tr>\n",
       "      <th>explode</th>\n",
       "      <td>0.000000</td>\n",
       "    </tr>\n",
       "    <tr>\n",
       "      <th>explod</th>\n",
       "      <td>0.000000</td>\n",
       "    </tr>\n",
       "    <tr>\n",
       "      <th>explained</th>\n",
       "      <td>0.000000</td>\n",
       "    </tr>\n",
       "    <tr>\n",
       "      <th>explain</th>\n",
       "      <td>0.000000</td>\n",
       "    </tr>\n",
       "    <tr>\n",
       "      <th>experiencing</th>\n",
       "      <td>0.000000</td>\n",
       "    </tr>\n",
       "    <tr>\n",
       "      <th>experiences</th>\n",
       "      <td>0.000000</td>\n",
       "    </tr>\n",
       "    <tr>\n",
       "      <th>experience</th>\n",
       "      <td>0.000000</td>\n",
       "    </tr>\n",
       "    <tr>\n",
       "      <th>existing</th>\n",
       "      <td>0.000000</td>\n",
       "    </tr>\n",
       "    <tr>\n",
       "      <th>experienc</th>\n",
       "      <td>0.000000</td>\n",
       "    </tr>\n",
       "    <tr>\n",
       "      <th>experi</th>\n",
       "      <td>0.000000</td>\n",
       "    </tr>\n",
       "    <tr>\n",
       "      <th>expelling</th>\n",
       "      <td>0.000000</td>\n",
       "    </tr>\n",
       "    <tr>\n",
       "      <th>expel</th>\n",
       "      <td>0.000000</td>\n",
       "    </tr>\n",
       "    <tr>\n",
       "      <th>expected</th>\n",
       "      <td>0.000000</td>\n",
       "    </tr>\n",
       "    <tr>\n",
       "      <th>expect</th>\n",
       "      <td>0.000000</td>\n",
       "    </tr>\n",
       "    <tr>\n",
       "      <th>expansion</th>\n",
       "      <td>0.000000</td>\n",
       "    </tr>\n",
       "    <tr>\n",
       "      <th>expans</th>\n",
       "      <td>0.000000</td>\n",
       "    </tr>\n",
       "    <tr>\n",
       "      <th>expanding</th>\n",
       "      <td>0.000000</td>\n",
       "    </tr>\n",
       "    <tr>\n",
       "      <th>expanded</th>\n",
       "      <td>0.000000</td>\n",
       "    </tr>\n",
       "    <tr>\n",
       "      <th>expand</th>\n",
       "      <td>0.000000</td>\n",
       "    </tr>\n",
       "    <tr>\n",
       "      <th>exiting</th>\n",
       "      <td>0.000000</td>\n",
       "    </tr>\n",
       "    <tr>\n",
       "      <th>exited</th>\n",
       "      <td>0.000000</td>\n",
       "    </tr>\n",
       "    <tr>\n",
       "      <th>exit</th>\n",
       "      <td>0.000000</td>\n",
       "    </tr>\n",
       "    <tr>\n",
       "      <th>zones</th>\n",
       "      <td>0.000000</td>\n",
       "    </tr>\n",
       "  </tbody>\n",
       "</table>\n",
       "<p>8907 rows × 1 columns</p>\n",
       "</div>"
      ],
      "text/plain": [
       "                 tfidf\n",
       "lane          0.263434\n",
       "vehicle       0.230604\n",
       "highway       0.224491\n",
       "turn          0.215269\n",
       "templar       0.187255\n",
       "the           0.178987\n",
       "struck        0.174371\n",
       "travel        0.157142\n",
       "and           0.141555\n",
       "limit         0.136756\n",
       "55            0.134965\n",
       "underground   0.133290\n",
       "lan           0.128831\n",
       "workers       0.128687\n",
       "motor         0.127499\n",
       "posted        0.117821\n",
       "refused       0.117821\n",
       "privately     0.117821\n",
       "was           0.116342\n",
       "ran           0.116126\n",
       "services      0.113625\n",
       "veered        0.112844\n",
       "next          0.112246\n",
       "vehicl        0.112246\n",
       "27            0.110168\n",
       "along         0.109511\n",
       "travelling    0.108984\n",
       "marking       0.108984\n",
       "emergency     0.108877\n",
       "hour          0.106455\n",
       "...                ...\n",
       "expos         0.000000\n",
       "explosive     0.000000\n",
       "explosion     0.000000\n",
       "explos        0.000000\n",
       "exploding     0.000000\n",
       "explodes      0.000000\n",
       "exploded      0.000000\n",
       "explode       0.000000\n",
       "explod        0.000000\n",
       "explained     0.000000\n",
       "explain       0.000000\n",
       "experiencing  0.000000\n",
       "experiences   0.000000\n",
       "experience    0.000000\n",
       "existing      0.000000\n",
       "experienc     0.000000\n",
       "experi        0.000000\n",
       "expelling     0.000000\n",
       "expel         0.000000\n",
       "expected      0.000000\n",
       "expect        0.000000\n",
       "expansion     0.000000\n",
       "expans        0.000000\n",
       "expanding     0.000000\n",
       "expanded      0.000000\n",
       "expand        0.000000\n",
       "exiting       0.000000\n",
       "exited        0.000000\n",
       "exit          0.000000\n",
       "zones         0.000000\n",
       "\n",
       "[8907 rows x 1 columns]"
      ]
     },
     "execution_count": 21,
     "metadata": {},
     "output_type": "execute_result"
    }
   ],
   "source": [
    "df = pd.DataFrame(first_vector_v.T.todense(),index = v.get_feature_names(),columns = [\"tfidf\"])\n",
    "df.sort_values(by=[\"tfidf\"],ascending=False)"
   ]
  },
  {
   "cell_type": "code",
   "execution_count": 22,
   "metadata": {},
   "outputs": [],
   "source": [
    "\n",
    "from sklearn.preprocessing import LabelEncoder\n",
    "from collections import defaultdict\n",
    "from nltk.corpus import wordnet as wn\n",
    "from sklearn.feature_extraction.text import TfidfVectorizer\n",
    "from sklearn import model_selection, naive_bayes,svm\n",
    "from sklearn.metrics import accuracy_score"
   ]
  },
  {
   "cell_type": "code",
   "execution_count": 23,
   "metadata": {},
   "outputs": [],
   "source": [
    "import numpy as np"
   ]
  },
  {
   "cell_type": "code",
   "execution_count": 24,
   "metadata": {},
   "outputs": [],
   "source": [
    "\n",
    "Train_X, Test_X, Train_Y, Test_Y = model_selection.train_test_split(data['summary.new'],data['Tagged2'],test_size=0.2)"
   ]
  },
  {
   "cell_type": "code",
   "execution_count": 25,
   "metadata": {},
   "outputs": [],
   "source": [
    "Encoder = LabelEncoder()\n",
    "Train_Y = Encoder.fit_transform(Train_Y)\n",
    "Test_Y = Encoder.fit_transform(Test_Y)"
   ]
  },
  {
   "cell_type": "code",
   "execution_count": 26,
   "metadata": {},
   "outputs": [],
   "source": [
    "Train_X_Tfidf = v.transform(Train_X)\n",
    "Test_X_Tfidf = v.transform(Test_X)"
   ]
  },
  {
   "cell_type": "code",
   "execution_count": 27,
   "metadata": {},
   "outputs": [
    {
     "name": "stdout",
     "output_type": "stream",
     "text": [
      "{u'yellow': 8893, u'interchang': 4209, u'four': 3366, u'railing': 6170, u'increase': 4054, u'electricity': 2739, u'wheeled': 8753, u'meadows': 4890, u'sinking': 7118, u'digit': 2417, u'propane': 6045, u'regional': 6358, u'foul': 3362, u'malfunctioned': 4798, u'ignit': 3964, u'bringing': 1266, u'elevations': 2757, u'disturb': 2512, u'wooden': 8834, u'piling': 5736, u'crotch': 2118, u'succession': 7656, u'path': 5604, u'nordiazepam': 5252, u'rusti': 6726, u'tired': 8063, u'miller': 4982, u'hanging': 3710, u'scrapes': 6828, u'scraper': 6826, u'tires': 8064, u'second': 6864, u'277': 180, u'scraped': 6825, u'pubis': 6086, u'milled': 4981, u'dynamit': 2676, u'contributed': 1972, u'fingers': 3210, u'replaced': 6449, u'increasing': 4056, u'shocks': 7022, u'ongo': 5378, u'misjudged': 5013, u'crouch': 2119, u'ravenel': 6213, u'splinter': 7368, u'reported': 6454, u'dorm': 2564, u'splinted': 7367, u'pancreas': 5541, u'substance': 7647, u'aug': 891, u'postop': 5884, u'climbed': 1682, u'reports': 6457, u'military': 4979, u'climber': 1683, u'appropriately': 748, u'projection': 6032, u'explained': 2997, u'replace': 6448, u'brought': 1275, u'substr': 7651, u'sterl': 7514, u'ladd': 4472, u'unit': 8391, u'marine': 4847, u'trackhoe': 8136, u'occupying': 5336, u'backing': 949, u'untie': 8457, u'therefore': 7970, u'soffit': 7246, u'strike': 7587, u'until': 8459, u'suffocated': 7671, u'relay': 6383, u'successful': 7654, u'belmont': 1065, u'notif': 5277, u'notic': 5274, u'hurt': 3926, u'99': 378, u'glass': 3532, u'tying': 8287, u'suffocates': 7672, u'91': 363, u'90': 358, u'hole': 3857, u'hold': 3853, u'95': 372, u'94': 371, u'97': 376, u'circumstances': 1634, u'accid': 421, u'intake': 4191, u'locked': 4696, u'sandblast': 6764, u'bladd': 1115, u'blade': 1117, u'temperatures': 7907, u'overstress': 5496, u'hentges': 3806, u'wand': 8670, u'swivel': 7796, u'caution': 1495, u'want': 8671, u'pintl': 5748, u'hog': 3846, u'hoe': 3845, u'vicent': 8600, u'complaining': 1823, u'cylind': 2170, u'travel': 8187, u'hom': 3862, u'damage': 2189, u'classifi': 1653, u'machine': 4766, u'how': 3903, u'hot': 3894, u'hos': 3882, u'activation': 473, u'guardri': 3646, u'shored': 7035, u'shores': 7036, u'wrong': 8873, u'endang': 2816, u'vicin': 8602, u'unlicens': 8403, u'caisson': 1374, u'baggage': 962, u'18th': 96, u'timers': 8052, u'splatt': 7360, u'wind': 8799, u'disengaging': 2472, u'appar': 720, u'diagonally': 2390, u'vari': 8539, u'wrought': 8874, u'fir': 3220, u'fiv': 3237, u'fit': 3230, u'directional': 2438, u'lifeline': 4622, u'screaming': 6832, u'fix': 3239, u'striking': 7589, u'fib': 3178, u'rescued': 6475, u'hillsid': 3821, u'reentered': 6326, u'hidden': 3811, u'fin': 3202, u'fil': 3193, u'recours': 6294, u'proce': 6002, u'rectangl': 6303, u'detachment': 2355, u'effects': 2715, u'interrupt': 4223, u'township': 8122, u'wedg': 8714, u'eisenhower': 2722, u'structural': 7606, u'barton': 1009, u'hemorrhag': 3799, u'accommod': 426, u'lockout': 4698, u'cerrito': 1533, u'arrow': 799, u'development': 2373, u'whil': 8771, u'mdo': 4888, u'concord': 1863, u'mdb': 4887, u'series': 6917, u'spider': 7338, u'contracting': 1963, u'laboratory': 4456, u'whit': 8775, u'blinded': 1136, u'finishers': 3216, u'ridgid': 6587, u'chokers': 1611, u'thoracotomi': 7993, u'mason': 4857, u'unclog': 8325, u're': 6221, u'rb': 6219, u'nonserious': 5249, u'thoracotomy': 7994, u'foundation': 3364, u'stamping': 7458, u'sheetrock': 6993, u'given': 3529, u'knif': 4423, u'checked': 1575, u'estimate': 2919, u'chlorine': 1604, u'allerg': 595, u'exposing': 3010, u'lighthead': 4633, u'att': 865, u'disturbed': 2514, u'dentures': 2312, u'wasp': 8687, u'wast': 8689, u'wash': 8681, u'spinning': 7352, u'177': 86, u'curing': 2144, u'170': 84, u'basketball': 1017, u'service': 6926, u'evolut': 2947, u'stack': 7430, u'needed': 5185, u'master': 4864, u'listed': 4663, u'legs': 4587, u'ranging': 6200, u'rectifier': 6307, u'collapse': 1745, u'crawl': 2087, u'positively': 5876, u'270': 179, u'cheekbon': 1578, u'showed': 7055, u'tree': 8201, u'likely': 4641, u'project': 6030, u'pneumonia': 5824, u'idle': 3960, u'lehigh': 4588, u'feeling': 3152, u'idlh': 3961, u'unintended': 8383, u'kne': 4417, u'runner': 6709, u'sustaining': 7765, u'paddles': 5519, u'bothman': 1199, u'crozer': 2124, u'person': 5677, u'paramedics': 5559, u'responsible': 6508, u'metallic': 4935, u'recommended': 6284, u'causing': 1491, u'doors': 2562, u'grips': 3619, u'buck': 1288, u'unknow': 8398, u'object': 5309, u'wells': 8735, u'mouth': 5108, u'entry': 2870, u'retaining': 6535, u'grove': 3640, u'spooled': 7379, u'hospit': 3885, u'tech': 7881, u'paneling': 5545, u'neg': 5189, u'lpg': 4740, u'scream': 6831, u'came': 1389, u'prim': 5982, u'reclined': 6282, u'padded': 5516, u'gauge': 3493, u'priv': 5993, u'layout': 4539, u'lubr': 4745, u'excavator': 2959, u'695': 314, u'ment': 4925, u'buss': 1346, u'restaur': 6511, u'bust': 1347, u'1549': 71, u'theme': 7957, u'busi': 1344, u'touched': 8110, u'siem': 7083, u'avulsed': 923, u'plate': 5794, u'rosebuds': 6671, u'ceil': 1508, u'pocket': 5826, u'tungsten': 8261, u'tips': 8060, u'unfortunately': 8365, u'spilling': 7345, u'patch': 5602, u'release': 6385, u'require': 6467, u'respond': 6500, u'blew': 1134, u'mandatory': 4809, u'fair': 3085, u'specialist': 7317, u'unexpectedly': 8363, u'bled': 1129, u'pads': 5520, u'radius': 6161, u'result': 6525, u'respons': 6504, u'fail': 3078, u'hammer': 3685, u'manson': 4826, u'rings': 6599, u'pressures': 5962, u'aquat': 762, u'conductive': 1885, u'occupational': 5333, u'b932': 939, u'side': 7072, u'men': 4923, u'extend': 3014, u'nature': 5168, u'rolled': 6641, u'smelled': 7221, u'extens': 3018, u'medallion': 4906, u'tendons': 7922, u'carbon': 1418, u'roller': 6644, u'accident': 422, u'veer': 8546, u'triggers': 8220, u'heating': 3775, u'carwash': 1453, u'seri': 6915, u'asked': 820, u'and': 670, u'2nd': 191, u'unprotected': 8423, u'950b': 373, u'253': 172, u'250': 169, u'assum': 850, u'rend': 6423, u'frc': 3390, u'cardboard': 1421, u'roofer': 6654, u'fre': 3391, u'union': 8387, u'fri': 3404, u'integris': 4197, u'subside': 7645, u'7711102100': 330, u'much': 5122, u'interpret': 4221, u'sponges': 7377, u'spir': 7354, u'life': 4620, u'electrocution': 2743, u'regul': 6361, u'hospitalized': 3890, u'worker': 8842, u'irvine': 4264, u'hepa': 3807, u'lift': 4624, u'spid': 7337, u'spik': 7339, u'worked': 8841, u'mateo': 4867, u'spin': 7347, u'spil': 7342, u'diverted': 2526, u'seismically': 6892, u'taper': 7854, u'commerci': 1788, u'intak': 4190, u'employ': 2784, u'decapitated': 2238, u'militari': 4978, u'nonresidenti': 5244, u'075': 15, u'actuated': 480, u'conditioned': 1876, u'conditioner': 1877, u'bricklayer': 1248, u'damaged': 2190, u'split': 7369, u'ladderway': 4476, u'bid': 1095, u'fairly': 3087, u'inadvertently': 4025, u'northtech': 5262, u'tops': 8095, u'refit': 6337, u'posit': 5870, u'prognosi': 6022, u'boiler': 1167, u'refin': 6331, u'unhook': 8372, u'simulated': 7109, u'eagle': 2684, u'corporate': 2018, u'golden': 3552, u'masons': 4860, u'rotated': 6675, u'previous': 5978, u'enters': 2861, u'hal': 3675, u'10042': 23, u'dining': 2429, u'haa': 3667, u'had': 3670, u'hay': 3747, u'har': 3716, u'has': 3733, u'hat': 3734, u'hav': 3743, u'elevation': 2756, u'pothol': 5892, u'possible': 5880, u'possibly': 5881, u'eastwardly': 2701, u'shadow': 6962, u'occurring': 5342, u'measur': 4895, u'articulated': 809, u'semi': 6900, u'tapering': 7855, u'pavement': 5614, u'steps': 7513, u'groundwater': 3635, u'oncom': 5374, u'attorney': 885, u'right': 6594, u'old': 5367, u'creek': 2096, u'people': 5652, u'crown': 2122, u'consultants': 1934, u'billboard': 1101, u'transmiss': 8170, u'26607': 177, u'for': 3332, u'bottom': 1203, u'contributing': 1973, u'summoned': 7687, u'condit': 1874, u'pinched': 5742, u'colleg': 1757, u'losing': 4727, u'pliers': 5802, u'manufacturing': 4837, u'spangler': 7305, u'roadheader': 6618, u'lacked': 4469, u'slightly': 7181, u'ems': 2798, u'raised': 6178, u'statements': 7483, u'sod': 7245, u'facility': 3068, u'marshall': 4853, u'218h': 153, u'som': 7265, u'sol': 7251, u'son': 7275, u'sor': 7279, u'wrap': 8861, u'unclip': 8323, u'suffici': 7668, u'support': 7725, u'cantilevered': 1404, u'avail': 911, u'width': 8790, u'grasping': 3588, u'spring': 7405, u'resulted': 6526, u'overhead': 5481, u'tamp': 7842, u'contusions': 1983, u'overhang': 5479, u'headach': 3756, u'manufacturers': 4836, u'forming': 3354, u'recommend': 6283, u'incorporation': 4051, u'palmetto': 5535, u'sunstate': 7699, u'4600': 256, u'incinerator': 4037, u'signalman': 7094, u'inside': 4154, u'devices': 2376, u'complications': 1835, u'smashed': 7217, u'sampl': 6759, u'panels': 5546, u'150': 66, u'153': 69, u'shooter': 7029, u'traff': 8147, u'157': 72, u'159': 73, u'exist': 2975, u'tooth': 8090, u'floor': 3286, u'cerritos': 1534, u'knuckl': 4438, u'presum': 5969, u'developers': 2372, u'smell': 7220, u'roll': 6639, u'relat': 6379, u'intend': 4199, u'palms': 5536, u'outage': 5445, u'taurus': 7871, u'transported': 8174, u'intens': 4202, u'intent': 4206, u'variable': 8541, u'nxt': 5305, u'fastened': 3115, u'pion': 5750, u'98': 377, u'timb': 8047, u'fastener': 3116, u'time': 8050, u'push': 6123, u'overturned': 5499, u'wheth': 8766, u'irrigation': 4260, u'chain': 1545, u'activated': 471, u'avalanche': 914, u'chair': 1547, u'retrofit': 6549, u'decid': 2243, u'uneven': 8358, u'crates': 2086, u'rel': 6378, u'carpenters': 1434, u'larg': 4507, u'veterans': 8590, u'taconite': 7818, u'eliminate': 2760, u'flatbed': 3270, u'jerk': 4309, u'chiaramont': 1587, u'servicing': 6929, u'minute': 5000, u'1700': 85, u'femur': 3164, u'tear': 7878, u'leftov': 4580, u'nagel': 5148, u'splitt': 7370, u'leave': 4570, u'unsupport': 8452, u'team': 7877, u'cooki': 1991, u'unclogging': 8326, u'loads': 4681, u'unaware': 8315, u'prevent': 5973, u'bulldozer': 1312, u'meadow': 4889, u'attic': 884, u'scen': 6801, u'compens': 1815, u'sign': 7087, u'bulldozed': 1311, u'roof': 6652, u'unprotect': 8422, u'bagging': 963, u'current': 2147, u'300': 193, u'falling': 3092, u'fifti': 3188, u'boost': 1184, u'unintentionally': 8386, u'cribbing': 2102, u'coccyx': 1729, u'protrusion': 6068, u'continuing': 1956, u'bi': 1093, u'modif': 5040, u'yards': 8885, u'alone': 606, u'along': 607, u'anchoring': 668, u'passengers': 5598, u'impacted': 3997, u'saws': 6783, u'commonly': 1791, u'geotechn': 3516, u'subgrad': 7635, u'accomplished': 432, u'ineffective': 4081, u'sawn': 6782, u'myers': 5146, u'reclaim': 6276, u'concealed': 1851, u'tasks': 7866, u'br': 1216, u'instal': 4162, u'flagging': 3251, u'sky': 7153, u'undergone': 8342, u'toppled': 8094, u'working': 8844, u'turret': 8277, u'positive': 5875, u'angry': 680, u'punctur': 6106, u'opposed': 5406, u'scope': 6819, u'angri': 679, u'resuscitation': 6532, u'skul': 7151, u'rockslide': 6629, u'peopl': 5651, u'apparent': 722, u'visual': 8630, u'tines': 8056, u'rebounding': 6254, u'falsework': 3096, u'originally': 5427, u'overloaded': 5486, u'vega': 8548, u'believed': 1061, u'detached': 2354, u'sheeting': 6992, u'encapsul': 2802, u'mirrors': 5005, u'frogs': 3410, u'fairfax': 3086, u'allowed': 601, u'clothing': 1705, u'230': 162, u'r22': 6153, u'monitoring': 5065, u'immune': 3994, u'reconfigured': 6286, u'23n': 163, u'suct': 7659, u'blasting': 1123, u'spot': 7386, u'fueled': 3423, u'date': 2208, u'such': 7658, u'revealed': 6555, u'lids': 4615, u'pulley': 6093, u'stress': 7582, u'natural': 5167, u'conscious': 1911, u'ss': 7422, u'puller': 6092, u'sp': 7297, u'sw': 7772, u'st': 7423, u'sj': 7132, u'sh': 6955, u'truck': 8238, u'sn': 7229, u'auger': 892, u'sc': 6788, u'pulled': 6091, u'hol': 3852, u'se': 6846, u'unacceptable': 8306, u'years': 8888, u'course': 2051, u'legionnair': 4585, u'maneuvered': 4812, u'reattached': 6249, u'tore': 8098, u'jig': 4316, u'disconnect': 2457, u'thumb': 8019, u'torn': 8099, u'mats': 4871, u'monopol': 5068, u'torr': 8102, u'pushbuttons': 6125, u'suspension': 7762, u'instantly': 4172, u'apron': 760, u'thereby': 7968, u'records': 6293, u'drilling': 2610, u'therebi': 7967, u'arriving': 798, u'maintaining': 4783, u'folsom': 3321, u'cathead': 1480, u'revers': 6557, u'separ': 6904, u'quarter': 6147, u'repaired': 6440, u'square': 7414, u'retrieve': 6546, u'crushing': 2131, u'entering': 2858, u'796': 334, u'canvas': 1406, u'container': 1945, u'blu': 1149, u'standpipe': 7465, u'contained': 1944, u'investigation': 4246, u'trauma': 8184, u'ble': 1127, u'bld': 1126, u'lubric': 4746, u'hcn': 3752, u'igniting': 3968, u'creating': 2095, u'domest': 2553, u'million': 4987, u'inhaled': 4110, u'1136': 37, u'november1': 5283, u'besides': 1086, u'pyle': 6135, u'remainder': 6399, u'torqu': 8100, u'training': 8157, u'backside': 953, u'collapsing': 1748, u'gaff': 3455, u'acetylen': 442, u'benching': 1071, u'routed': 6686, u'recov': 6296, u'938g': 370, u'massive': 4862, u'oper': 5395, u'saving': 6779, u'onc': 5372, u'one': 5376, u'reopen': 6437, u'gases': 3479, u'open': 5389, u'ripping': 6601, u'urin': 8493, u'city': 1642, u'teardown': 7879, u'indicate': 4066, u'draft': 2580, u'streetlight': 7578, u'structures': 7609, u'guyed': 3660, u'southbound': 7289, u'slashed': 7165, u'surged': 7743, u'effective': 2713, u'l45': 4447, u'depressed': 2325, u'stoneworks': 7538, u'siding': 7081, u'winkle': 8810, u'drywall': 2645, u'illness': 3978, u'san': 6762, u'sam': 6755, u'sal': 6747, u'turned': 8271, u'saf': 6736, u'alley': 597, u'alleg': 590, u'say': 6786, u'buried': 1325, u'allen': 594, u'saw': 6780, u'sav': 6776, u'sat': 6773, u'zon': 8904, u'sledgehamm': 7168, u'note': 5270, u'take': 7833, u'noth': 5272, u'butterfly': 1353, u'altered': 617, u'opposite': 5408, u'mendota': 4924, u'knew': 4422, u'compress': 1841, u'butterfli': 1352, u'abut': 410, u'jobsites': 4325, u'amerag': 634, u'knee': 4418, u'inserted': 4150, u'lawn': 4534, u'energize': 2822, u'sala': 6748, u'average': 918, u'drive': 2617, u'compactor': 1805, u'anchors': 669, u'axi': 932, u'salt': 6754, u'axl': 934, u'walking': 8661, u'knoxville': 4437, u'friction': 3407, u'surgically': 7748, u'slot': 7196, u'slow': 7198, u'slop': 7192, u'corrug': 2024, u'imbal': 3985, u'activ': 469, u'intracrani': 4238, u'going': 3551, u'equipped': 2888, u'slon': 7190, u'carolina': 1429, u'guarded': 3643, u'assistant': 844, u'tilting': 8045, u'balconies': 973, u'outlet': 5454, u'requir': 6466, u'resource': 6491, u'borrow': 1192, u'twelv': 8279, u'westbound': 8743, u'uncover': 8332, u'where': 8760, u'hinged': 3828, u'vision': 8625, u'sheathed': 6984, u'surgeri': 7744, u'dived': 2520, u'overflowed': 5478, u'surgery': 7746, u'towboat': 8116, u'dormitori': 2566, u'televis': 7902, u'jumped': 4358, u'80x60': 337, u'silti': 7103, u'sites': 7121, u'dormitory': 2567, u'originated': 5428, u'silty': 7104, u'molds': 5052, u'jumper': 4359, u'jobs': 4322, u'vertical': 8583, u'ugstad': 8295, u'screen': 6833, u'farth': 3107, u'jets': 4314, u'spark': 7309, u'concentrated': 1853, u'manu': 4829, u'parapet': 5562, u'many': 4838, u'electrolyt': 2746, u'coccidioid': 1727, u'flipped': 3283, u'83a': 341, u'impl': 4008, u'mani': 4815, u'leath': 4566, u'mann': 4822, u'donoghue': 2560, u'anti': 704, u'aerial': 527, u'dislocation': 2478, u'curl': 2145, u'boat': 1155, u'cramps': 2074, u'stretch': 7584, u'west': 8741, u'airlines': 569, u'theat': 7951, u'breath': 1242, u'collided': 1760, u'combined': 1774, u'reflective': 6339, u'reflex': 6342, u'enable': 2801, u'lanes': 4503, u'influence': 4093, u'thousand': 8001, u'formed': 3352, u'readings': 6234, u'catastroph': 1472, u'escondido': 2908, u'asplundh': 827, u'former': 3353, u'felling': 3157, u'straighten': 7562, u'conveyance': 1989, u'squeezed': 7421, u'situation': 7125, u'stockpil': 7528, u'necks': 5183, u'pinki': 5743, u'trelli': 8203, u'blaz': 1124, u'influ': 4092, u'engaged': 2831, u'391z': 230, u'pinky': 5744, u'warehous': 8673, u'brok': 1268, u'ambient': 631, u'fractu': 3369, u'demolition': 2300, u'kettl': 4390, u'laceration': 4465, u'shutt': 7066, u'prestraighten': 5965, u'preparatory': 5943, u'wiring': 8818, u'preparatori': 5942, u'breakdown': 1237, u'wires': 8817, u'structurally': 7607, u'edges': 2711, u'extern': 3024, u'booster': 1185, u'costa': 2027, u'reenergized': 6324, u'engulfing': 2842, u'trains': 8158, u'genie': 3511, u'dimension': 2424, u'summer': 7684, u'sprayed': 7399, u'manifold': 4816, u'210': 150, u'being': 1058, u'rest': 6509, u'steamer': 7497, u'concentr': 1852, u'ironwork': 4256, u'pillar': 5738, u'grounded': 3629, u'littl': 4667, u'color': 1764, u'around': 788, u'sumt': 7689, u'sump': 7688, u'dark': 2203, u'retract': 6540, u'summ': 7683, u'traffic': 8148, u'dispatch': 2489, u'vacuum': 8523, u'world': 8852, u'60': 294, u'energ': 2820, u'westair': 8742, u'amputation': 652, u'stationari': 7488, u'pol': 5834, u'shutter': 7067, u'werner': 8740, u'clay': 1659, u'claw': 1658, u'stationary': 7489, u'manag': 4802, u'obstruct': 5318, u'superintendent': 7707, u'overexposur': 5475, u'muscl': 5137, u'diving': 2529, u'junct': 4363, u'avuls': 922, u'dimensions': 2425, u'pneumatically': 5823, u'tube': 8249, u'ddh': 2225, u'exit': 2978, u'poli': 5839, u'cylindr': 2173, u'damag': 2188, u'911': 364, u'restoring': 6518, u'refer': 6329, u'unsuccessfully': 8451, u'accessing': 418, u'power': 5903, u'malfunctioning': 4799, u'sprung': 7408, u'standpoint': 7466, u'reversing': 6560, u'went': 8736, u'stone': 7532, u'readmit': 6235, u'hopkins': 3874, u'industry': 4079, u'ach': 444, u'acm': 453, u'clavicle': 1657, u'acr': 460, u'neighbor': 5191, u'act': 466, u'industri': 4076, u'mean': 4891, u'invert': 4242, u'burning': 1328, u'image': 3983, u'essex': 2914, u'legged': 4583, u'accumulated': 438, u'technically': 7884, u'burglar': 1323, u'her': 3808, u'sloped': 7194, u'desert': 2340, u'sealed': 6851, u'resum': 6529, u'hel': 3784, u'deposited': 2323, u'trusses': 8245, u'survives': 7758, u'bottl': 1200, u'complete': 1827, u'conclud': 1858, u'bundl': 1316, u'displacement': 2498, u'asbesto': 812, u'technologies': 7890, u'with': 8821, u'conclus': 1860, u'pull': 6090, u'rush': 6719, u'october': 5346, u'dirti': 2442, u'rags': 6167, u'dirty': 2443, u'mopping': 5081, u'craniocerebr': 2079, u'monopole': 5069, u'torso': 8105, u'trips': 8231, u'rust': 6724, u'aa': 381, u'gone': 3557, u'ac': 412, u'ab': 383, u'ad': 485, u'ag': 539, u'exhausted': 2972, u'certain': 1535, u'forgot': 3345, u'am': 627, u'al': 577, u'laminated': 4485, u'an': 656, u'ap': 715, u'as': 811, u'ar': 764, u'hypertension': 3944, u'at': 854, u'watched': 8695, u'pedestal': 5630, u'az': 936, u'collid': 1759, u'extract': 3032, u'tight': 8035, u'collis': 1761, u'whip': 8773, u'shimomura': 7008, u'perspired': 5683, u'2004': 134, u'snagged': 7232, u'kilogram': 4408, u'having': 3745, u'groov': 3625, u'mast': 4863, u'mass': 4861, u'adam': 486, u'cpr': 2065, u'original': 5426, u'consider': 1916, u'illustr': 3979, u'caused': 1489, u'ceramic': 1529, u'burses': 1335, u'debris': 2236, u'causes': 1490, u'improperly': 4015, u'garment': 3476, u'tr': 8129, u'tn': 8070, u'to': 8071, u'tail': 7825, u'tk': 8069, u'th': 7943, u'ti': 8023, u'midwest': 4969, u'introduc': 4240, u'roadway': 6620, u'returned': 6552, u'shaft': 6963, u'condition': 1875, u'highways': 3818, u'moines': 5048, u't8': 7808, u'harri': 3730, u'laying': 4538, u'sany': 6772, u'large': 4508, u'jointed': 4335, u'sand': 6763, u'adjust': 505, u'filling': 3196, u'millimeters': 4985, u'small': 7213, u'sank': 6770, u'sani': 6769, u'enterpris': 2859, u'194': 100, u'197': 103, u'past': 5601, u'burnish': 1329, u'pass': 5594, u'canvass': 1407, u'situated': 7124, u'7400k': 325, u'scupper': 6845, u'cast': 1461, u'section': 6870, u'nurse': 5299, u'method': 4947, u'full': 3427, u'9150': 365, u'installations': 4166, u'telelect': 7899, u'vomiting': 8641, u'hours': 3898, u'carpinteria': 1439, u'nickajack': 5216, u'november': 5282, u'pfas': 5694, u'compliance': 1834, u'fergus': 3171, u'welded': 8730, u'experience': 2992, u'prior': 5991, u'pick': 5714, u'action': 468, u'welder': 8731, u'vic': 8598, u'diamet': 2391, u'via': 8591, u'depart': 2315, u'vik': 8608, u'vis': 8621, u'thought': 8000, u'select': 6894, u'intensive': 4205, u'petroleum': 5688, u'kaweah': 4380, u'ul507': 8297, u'morn': 5089, u'refueling': 6350, u'more': 5083, u'door': 2561, u'initiated': 4115, u'tester': 7938, u'company': 1808, u'intercoastal': 4212, u'spoils': 7374, u'tested': 7937, u'uncov': 8331, u'foundations': 3365, u'compani': 1806, u'commander': 1784, u'riverbank': 6612, u'keeping': 4383, u'fatal': 3120, u'underw': 8347, u'phillip': 5700, u'chisel': 1599, u'installing': 4169, u'mall': 4800, u'indicating': 4068, u'morgan': 5086, u'learn': 4560, u'knocked': 4427, u'fulfil': 3425, u'male': 4795, u'lavina': 4532, u'impacts': 3998, u'stated': 7481, u'scaf': 6789, u'states': 7484, u'schuff': 6809, u'gallon': 3461, u'scar': 6798, u'axis': 933, u'huge': 3911, u'respective': 6493, u'hickey': 3810, u'sequoias': 6914, u'enlarge': 2844, u'disclos': 2455, u'lacerates': 4463, u'freshly': 3402, u'voltag': 8636, u'plant': 5783, u'intended': 4200, u'plane': 5775, u'plank': 5778, u'circumst': 1633, u'twisting': 8285, u'rosebud': 6670, u'groundsman': 3633, u'wrench': 8867, u'trellis': 8204, u'davey': 2210, u'pans': 5549, u'pant': 5550, u'instep': 4174, u'trade': 8143, u'paper': 5552, u'scott': 6822, u'midrails': 4965, u'pane': 5542, u'signs': 7098, u'494': 267, u'installer': 4168, u'turbine': 8265, u'subarachnoid': 7627, u'its': 4280, u'roots': 6662, u'brid': 1250, u'gfci': 3523, u'rapidly': 6202, u'glazier': 3535, u'symptoms': 7801, u'lacer': 4461, u'reciprocating': 6273, u'travelling': 8190, u'lies': 4618, u'timely': 8051, u'severely': 6950, u'abrasion': 403, u'pegasus': 5633, u'manlift': 4821, u'coping': 1999, u'always': 626, u'assemblies': 831, u'loosely': 4720, u'instruct': 4175, u'harbor': 3717, u'achiev': 446, u'piping': 5761, u'1aa': 120, u'found': 3363, u'chipping': 1598, u'week': 8718, u'vaor': 8535, u'bends': 1075, u'accelerator': 414, u'p728016': 5509, u'procedur': 6003, u'police': 5841, u'finish': 3213, u'operation': 5399, u'reduct': 6318, u'ditch': 2516, u'missed': 5015, u'ruptured': 6716, u'hangers': 3709, u'occurr': 5339, u'highway': 3817, u'viol': 8615, u'driver': 2619, u'sparked': 7310, u'satruck': 6774, u'sixtyat': 7128, u'621d': 301, u'outfitted': 5453, u'acorn': 454, u'riser': 6606, u'driven': 2618, u'reared': 6245, u'hoppers': 3877, u'positioning': 5874, u'sicken': 7069, u'flourmil': 3291, u'1375a': 58, u'amper': 643, u'bumper': 1315, u'cyanide': 2165, u'clump': 1712, u'resuscit': 6531, u'corrugated': 2025, u'major': 4786, u'precautionary': 5917, u'slipped': 7185, u'thereafter': 7966, u'number': 5294, u'tangl': 7846, u'precautionari': 5916, u'13322': 54, u'airtech': 575, u'differ': 2404, u'heads': 3763, u'leverage': 4605, u'jet': 4313, u'tate': 7869, u'contra': 1960, u'illeg': 3976, u'northbound': 5257, u'unbolt': 8316, u'f21pl': 3049, u'eucalyptus': 2924, u'interviewed': 4230, u'immediate': 3991, u'consult': 1933, u'stairs': 7448, u'thawing': 7949, u'reinstal': 6375, u'critically': 2108, u'levels': 4602, u'aat': 382, u'dismantling': 2486, u'710d': 319, u'710g': 320, u'defect': 2264, u'pedestrian': 5631, u'equival': 2889, u'self': 6898, u'also': 613, u'260': 175, u'internal': 4219, u'brace': 1218, u'coff': 1732, u'relief': 6390, u'pipelin': 5757, u'vantag': 8533, u'plat': 5793, u'unused': 8462, u'plan': 5774, u'plac': 5768, u'dragger': 2585, u'cover': 2056, u'artex': 807, u'h2s': 3665, u'workpiece': 8846, u'barrel': 999, u'dragged': 2584, u'jurisdict': 4368, u'paddle': 5518, u'fireplac': 3223, u'friable': 3405, u'occupation': 5332, u'impact': 3996, u'sutures': 7771, u'digg': 2414, u'ineffect': 4080, u'solut': 7260, u'failed': 3079, u'sutured': 7770, u'removable': 6415, u'factor': 3071, u'columns': 1769, u'remedi': 6404, u'downpour': 2577, u'beams': 1032, u'sunny': 7694, u'mainten': 4784, u'preparing': 5946, u'sunni': 7693, u'sleeve': 7174, u'synthet': 7802, u'acut': 483, u'dismounted': 2488, u'river': 6611, u'respir': 6495, u'approaching': 745, u'sew': 6951, u'sev': 6942, u'set': 6931, u'jade': 4292, u'startup': 7478, u'seg': 6887, u'see': 6880, u'perimet': 5664, u'sec': 6862, u'sea': 6847, u'sel': 6893, u'outward': 5463, u'eman': 2767, u'knees': 4421, u'electrolyte': 2747, u'puncturing': 6110, u'movie': 5116, u'pickup': 5720, u'kneel': 4419, u'available': 912, u'incident': 4035, u'selectively': 6897, u'lacerated': 4462, u'smoldering': 7227, u'closur': 1700, u'last': 4515, u'colton': 1766, u'retent': 6538, u'thos': 7997, u'enrout': 2846, u'connection': 1907, u'objects': 5310, u'toxicology': 8127, u'shanks': 6969, u'becam': 1038, u'lanyard': 4504, u'sink': 7117, u'load': 4677, u'electrician': 2737, u'drager': 2582, u'schedul': 6803, u'forklift': 3347, u'smashing': 7218, u'community': 1797, u'except': 2963, u'church': 1622, u'musculoskelet': 5139, u'belt': 1067, u'roofing': 6656, u'conveyor': 1990, u'repaving': 6444, u'devic': 2374, u'imbed': 3987, u'hitting': 3839, u'proprietor': 6057, u'citations': 1637, u'widening': 8788, u'devis': 2377, u'filtr': 3200, u'firm': 3226, u'resting': 6514, u'fire': 3221, u'infect': 4083, u'wheeler': 8754, u'plexiglas': 5800, u'remark': 6403, u'briggs': 1263, u'casing': 1460, u'sleeves': 7175, u'representative': 6463, u'receive': 6261, u'formless': 3355, u'inclement': 4039, u'presses': 5957, u'handling': 3700, u'reinstalled': 6376, u'straight': 7561, u'expanded': 2982, u'histor': 3834, u'technical': 7883, u'pressed': 5956, u'leaning': 4558, u'cages': 1373, u'earli': 2687, u'pound': 5894, u'arching': 771, u'moth': 5096, u'motors': 5102, u'cerebrum': 1532, u'triple': 8227, u'decor': 2254, u'shorted': 7039, u'fibers': 3181, u'877': 349, u'shorten': 7040, u'elevated': 2754, u'shorter': 7041, u'read': 6229, u'survey': 7755, u'05': 11, u'decon': 2251, u'480628': 264, u'ndtn63778': 5170, u'alert': 582, u'walmart': 8667, u'waists': 8652, u'fabrication': 3054, u'redlands': 6311, u'alleging': 593, u'picks': 5719, u'concrete': 1867, u'strobe': 7599, u'elev': 2753, u'clearance': 1667, u'cajon': 1375, u'spooling': 7380, u'bilater': 1099, u'suffolk': 7673, u'using': 8503, u'unti': 8456, u'3040': 195, u'simi': 7105, u'unto': 8460, u'drizzled': 2626, u'unsecur': 8436, u'chest': 1585, u'musculoskeletal': 5140, u'location': 4692, u'input': 4145, u'emergency': 2778, u'acute': 484, u'couple': 2045, u'suffering': 7666, u'private': 5994, u'aerospace': 530, u'screwgun': 6839, u'projects': 6033, u'bruis': 1277, u'spine': 7351, u'rehabilit': 6368, u'communications': 1796, u'continue': 1954, u'baggag': 961, u'stormwat': 7554, u'encount': 2812, u'clipping': 1688, u'methods': 4949, u'acknowledg': 449, u'bounce': 1208, u'b7': 938, u'palm': 5534, u'palo': 5537, u'prestressed': 5968, u'lamin': 4484, u'measurements': 4898, u'towable': 8113, u'machin': 4765, u'be': 1029, u'tankers': 7850, u'bl': 1111, u'odor': 5347, u'bo': 1152, u'agreement': 554, u'bp': 1215, u'milepost': 4976, u'santa': 6771, u'relating': 6381, u'obscured': 5312, u'bx': 1356, u'by': 1357, u'anything': 711, u'materi': 4868, u'hatcher': 3736, u'unintentional': 8385, u'revolut': 6564, u'forearms': 3338, u'anterior': 703, u'repair': 6439, u'garbage': 3472, u'irrit': 4261, u'into': 4232, u'helical': 3788, u'integral': 4193, u'upgrad': 8470, u'appropriate': 747, u'irrig': 4259, u'troubleshooting': 8234, u'primarily': 5985, u'gomaco': 3554, u'methylene': 4952, u'occupi': 5334, u'span': 7303, u'retrieving': 6548, u'spac': 7298, u'exposed': 3008, u'submit': 7640, u'custom': 2150, u'harnesses': 3729, u'suit': 7676, u'junctur': 4365, u'opens': 5394, u'marking': 4850, u'regulator': 6367, u'excavating': 2957, u'jacks': 4290, u'inches': 4033, u'atop': 863, u'slump': 7207, u'assisting': 846, u'link': 4658, u'pacific': 5512, u'line': 4652, u'mitig': 5021, u'pain': 5523, u'considerable': 1917, u'posted': 5883, u'ut': 8509, u'up': 8469, u'us': 8495, u'ul': 8296, u'un': 8303, u'cit': 1635, u'continuously': 1959, u'medical': 4909, u'uc': 8292, u'yelled': 8891, u'storing': 7551, u'supervisor': 7714, u'overland': 5482, u'unsafe': 8433, u'dehumidifi': 2281, u'fixing': 3242, u'scrape': 6824, u'preventing': 5975, u'furnac': 3442, u'scraps': 6830, u'tarp': 7860, u'poway': 5900, u'elements': 2752, u'sided': 7073, u'suppression': 7732, u'sides': 7074, u'ago': 550, u'worsened': 8855, u'lane': 4502, u'land': 4491, u'usts': 8505, u'graber': 3571, u'age': 542, u'holes': 3858, u'walked': 8660, u'guardrails': 3645, u'fresh': 3401, u'agr': 551, u'code': 1731, u'partial': 5578, u'results': 6528, u'existing': 2977, u'illustrated': 3980, u'toggle': 8079, u'renown': 6431, u'stops': 7543, u'seemed': 6885, u'windowsill': 8804, u'iii': 3971, u'sumter': 7690, u'young': 8898, u'send': 6901, u'insects': 4148, u'newhall': 5208, u'outwards': 5464, u'sent': 6903, u'probe': 5999, u'garden': 3473, u'manipulated': 4819, u'mixing': 5026, u'decorating': 2255, u'continued': 1955, u'wipe': 8812, u'tri': 8211, u'northwestern': 5264, u'transmission': 8171, u'experiencing': 2995, u'inclin': 4040, u'tre': 8195, u'eve': 2932, u'kansa': 4376, u'try': 8246, u'reich': 6370, u'tru': 8237, u'rack': 6156, u'vehicl': 8552, u'stepping': 7512, u'natur': 5166, u'licensed': 4613, u'video': 8605, u'enclosed': 2807, u'index': 4064, u'standpip': 7464, u'apparatus': 721, u'evacu': 2926, u'rubberized': 6695, u'richmond': 6578, u'turnaround': 8270, u'flowing': 3294, u'bird': 1106, u'slabs': 7160, u'lutheran': 4761, u'led': 4573, u'lee': 4578, u'leg': 4582, u'respectively': 6494, u'gathered': 3490, u'lel': 4589, u'punch': 6105, u'len': 4591, u'delivering': 2289, u'highly': 3816, u'let': 4598, u'lev': 4599, u'consideration': 1918, u'fifteen': 3186, u'parkway': 5573, u'residenti': 6481, u'bakersfield': 969, u'great': 3602, u'engage': 2830, u'greas': 3600, u'mnosha': 5031, u'involved': 4250, u'inoperable': 4142, u'technolog': 7889, u'resulting': 6527, u'makes': 4791, u'maker': 4790, u'involves': 4251, u'calibr': 1381, u'complying': 1836, u'337': 212, u'330': 208, u'extricate': 3039, u'tools': 8089, u'causal': 1487, u'standing': 7463, u'certificate': 1538, u'commun': 1792, u'doubl': 2569, u'bush': 1342, u'mutcd': 5143, u'next': 5213, u'tahoe': 7824, u'pelvic': 5638, u'zim': 8901, u'chloride': 1602, u'commut': 1798, u'pfa': 5693, u'occurred': 5340, u'unplug': 8420, u'carrying': 1450, u'pieces': 5725, u'winches': 8797, u'customer': 2151, u'sliv': 7188, u'this': 7990, u'pour': 5896, u'emerson': 2779, u'drill': 2607, u'taconit': 7817, u'phon': 5702, u'wedge': 8715, u'slid': 7176, u'loca': 4685, u'bent': 1077, u'hydroblasting': 3935, u'process': 6009, u'lock': 4695, u'rode': 6632, u'purposes': 6122, u'promotional': 6035, u'high': 3812, u'bend': 1073, u'slip': 7184, u'schemat': 6806, u'pelvis': 5639, u'rods': 6633, u'reynolds': 6572, u'weaken': 8706, u'toxicolog': 8126, u'delay': 2284, u'establishment': 2917, u'stand': 7459, u'abrasive': 405, u'blocks': 1141, u'inhal': 4108, u'tied': 8030, u'weighed': 8723, u'nailing': 5152, u'stor': 7544, u'demonstrating': 2303, u'tier': 8031, u'ties': 8033, u'hawk': 3746, u'racks': 6157, u'fitt': 3232, u'realized': 6240, u'boeing': 1164, u'coupling': 2049, u'counter': 2037, u'element': 2751, u'issu': 4271, u'writ': 8870, u'unaccept': 8305, u'allow': 599, u'hentg': 3805, u'antelope': 699, u'attenuator': 882, u'thigh': 7980, u'produces': 6013, u'phalanges': 5696, u'volts': 8638, u'move': 5111, u'produced': 6012, u'operative': 5402, u'warren': 8679, u'mckees': 4882, u'riprap': 6602, u'lamp': 4486, u'hobbs': 3844, u'degrees': 2280, u'infrastructur': 4098, u'stalled': 7456, u'2014': 144, u'therefor': 7969, u'2011': 141, u'2010': 140, u'2013': 143, u'2012': 142, u'bolting': 1171, u'hurrican': 3923, u'overal': 5468, u'innermost': 4137, u'strateg': 7573, u'docu': 2540, u'dock': 2536, u'facilit': 3065, u'cage': 1372, u'realize': 6239, u'anyth': 710, u'tracey': 8132, u'electrically': 2736, u'conjuct': 1902, u'beneath': 1076, u'traces': 8131, u'glasses': 3533, u'bump': 1313, u'crawlspac': 2090, u'static': 7485, u'thirteen': 7988, u'17901': 87, u'nurs': 5298, u'witness': 8826, u'purlin': 6117, u'airlin': 567, u'bernandino': 1082, u'rigging': 6593, u'valve': 8528, u'discs': 2464, u'lattic': 4527, u'shut': 7065, u'busbar': 1339, u'inhaling': 4111, u'steering': 7503, u'dismantled': 2485, u'spill': 7343, u'gallons': 3462, u'could': 2035, u'put': 6128, u'david': 2212, u'length': 4592, u'enforc': 2826, u'outsid': 5461, u'removing': 6419, u'davis': 2214, u'latched': 4518, u'reflexive': 6343, u'blown': 1146, u'450': 252, u'scene': 6802, u'owned': 5503, u'fatigu': 3125, u'owner': 5504, u'blows': 1148, u'nonintrinsically': 5240, u'start': 7471, u'ordering': 5421, u'licens': 4611, u'system': 7804, u'uninsul': 8378, u'termin': 7931, u'lacing': 4467, u'low': 4733, u'enforcement': 2828, u'stomach': 7530, u'quarry': 6145, u'unoccupied': 8417, u'ingersoll': 4102, u'pressurized': 5964, u'argon': 781, u'accompani': 428, u'manhole': 4814, u'quarri': 6144, u'retraction': 6544, u'punctures': 6109, u'reacted': 6227, u'dowel': 2572, u'punctured': 6108, u'mandatori': 4808, u'steep': 7500, u'steer': 7501, u'false': 3095, u'muir': 5126, u'townhous': 8120, u'clearly': 1670, u'viewed': 8607, u'documents': 2546, u'soak': 7241, u'femoral': 3163, u'4000': 236, u'disassembl': 2444, u'mills': 4988, u'mechanism': 4904, u'decomposing': 2250, u'demolished': 2297, u'astride': 853, u'linda': 4651, u'lancaster': 4489, u'visu': 8629, u'said': 6745, u'device': 2375, u'inoper': 4141, u'segment': 6888, u'faci': 3061, u'placement': 5771, u'preentri': 5924, u'ignites': 3967, u'400s': 237, u'brea': 1235, u'face': 3059, u'ignited': 3966, u'preentry': 5925, u'mechanical': 4902, u'ampere': 644, u'painting': 5529, u'fact': 3070, u'dbi': 2219, u'atmosphere': 860, u'dba': 2218, u'bring': 1265, u'lloyd': 4674, u'bedroom': 1047, u'cantilev': 1403, u'rough': 6679, u'planter': 5785, u'jax': 4303, u'jaw': 4301, u'hopp': 3875, u'should': 7047, u'terminal': 7932, u'gestur': 3518, u'planted': 5784, u'tape': 7853, u'jak': 4293, u'riding': 6588, u'jad': 4291, u'bacteriologic': 959, u'handle': 3696, u'means': 4892, u'familiar': 3098, u'xps400': 8881, u'passeng': 5596, u'autos': 908, u'meter': 4939, u'shaping': 6974, u'smash': 7216, u'aes': 531, u'hoses': 3884, u'frequ': 3399, u'wilmington': 8794, u'comprising': 1848, u'summon': 7686, u'galvan': 3463, u'rappel': 6203, u'withstand': 8824, u'temporarily': 7911, u'packer': 5514, u'frame': 3379, u'temporarili': 7910, u'slanted': 7163, u'electrode': 2745, u'particl': 5582, u'coils': 1738, u'error': 2902, u'arteriosclerot': 804, u'membrane': 4918, u'piston': 5762, u'ends': 2819, u'explosive': 3005, u'dogging': 2549, u'panelboard': 5544, u'butte': 1351, u'configuration': 1897, u'observable': 5314, u'extendable': 3015, u'drum': 2641, u'ramp': 6188, u'drug': 2639, u'450aj': 253, u'northridg': 5260, u'etc': 2922, u'doorway': 2563, u'komatsu': 4440, u'cinder': 1627, u'ch': 1544, u'co': 1718, u'cm': 1715, u'ca': 1362, u'cg': 1543, u'adjuster': 507, u'craniocerebral': 2080, u'cr': 2066, u'oakland': 5308, u'cv': 2161, u'uci': 8293, u'powered': 5904, u'1428': 62, u'insuffici': 4179, u'drank': 2594, u'feather': 3137, u'immedi': 3990, u'louisiana': 4732, u'ballast': 977, u'lp': 4739, u'commuter': 1800, u'commuted': 1799, u'togeth': 8076, u'laser': 4513, u'runway': 6713, u'demolit': 2299, u'rigger': 6592, u'ounc': 5440, u'rigged': 6591, u'bathtub': 1020, u'groin': 3624, u'va': 8520, u'purchas': 6111, u'site': 7120, u'visalia': 8622, u'counterweight': 2040, u'vr': 8643, u'situ': 7123, u'russell': 6723, u'russel': 6722, u'juan': 4348, u'secondat': 6867, u'bacteria': 957, u'digging': 2416, u'ball': 976, u'columbia': 1767, u'expans': 2984, u'drink': 2611, u'upon': 8476, u'coffe': 1733, u'paving': 5616, u'dust': 2667, u'overalls': 5470, u'expand': 2981, u'off': 5349, u'retardant': 6537, u'shotgun': 7046, u'diversifi': 2522, u'phas': 5697, u'southeastern': 7291, u'355': 221, u'command': 1783, u'shackl': 6956, u'350': 219, u'audio': 890, u'drawing': 2599, u'powd': 5901, u'mastic': 4865, u'flesh': 3276, u'moments': 5057, u'nr83a': 5289, u'hauled': 3740, u'methan': 4945, u'glue': 3544, u'unplugged': 8421, u'crossbracing': 2114, u'web': 8713, u'usdot': 8498, u'residential': 6482, u'sickened': 7070, u'wel': 8728, u'arrest': 791, u'crack': 2067, u'amputations': 653, u'increased': 4055, u'flail': 3253, u'checking': 1576, u'crud': 2125, u'piec': 5723, u'schuyl': 6810, u'haul': 3739, u'five': 3238, u'height': 3782, u'pier': 5726, u'you': 8897, u'desc': 2331, u'resid': 6477, u'chairs': 1548, u'corpor': 2017, u'canyon': 1408, u'resin': 6486, u'garage': 3470, u'become': 1044, u'sledg': 7166, u'sprain': 7396, u'replacement': 6450, u'vsr': 8645, u'calibrator': 1382, u'underwent': 8351, u'choosing': 1613, u'flush': 3306, u'faint': 3084, u'transport': 8172, u'4800': 263, u'tractorat': 8139, u'23our': 164, u'avoid': 921, u'hwi': 3929, u'slipping': 7186, u'shone': 7026, u'does': 2547, u'keystone': 4394, u'kangaroot': 4374, u'stairway': 7449, u'blowing': 1145, u'schedule': 6804, u'jobsit': 4323, u'pressure': 5960, u'120s': 43, u'accompanied': 429, u'residences': 6479, u'zipp': 8902, u'stage': 7439, u'gained': 3457, u'480v': 265, u'documentari': 2542, u'laboring': 4459, u'angeles': 674, u'insufficient': 4180, u'documentary': 2543, u'swimming': 7788, u'assess': 836, u'lung': 4758, u'rectifi': 6306, u'roads': 6619, u'sander': 6767, u'spott': 7387, u'housing': 3902, u'doing': 2550, u'startled': 7476, u'deliveri': 2288, u'building': 1300, u'disengaged': 2471, u'tiean': 8029, u'delivery': 2290, u'lowered': 4735, u'grate': 3593, u'count': 2036, u'baptist': 990, u'veget': 8550, u'smooth': 7228, u'placed': 5770, u'aort': 712, u'otherwis': 5438, u'distribution': 2510, u'informational': 4096, u'bearing': 1035, u'hvac': 3928, u'nurses': 5300, u'rubble': 6697, u'mcm': 4885, u'slowing': 7199, u'ins': 4146, u'novemb': 5281, u'inn': 4135, u'inh': 4105, u'ind': 4060, u'ing': 4100, u'sweatshirt': 7779, u'inc': 4029, u'planting': 5786, u'salesman': 6750, u'details': 2357, u'mcke': 4881, u'unhooking': 8374, u'variabl': 8540, u'francisco': 3387, u'veit': 8557, u'monday': 5060, u'dismantle': 2484, u'outlets': 5455, u'chance': 1554, u'vein': 8556, u'exposure': 3012, u'benchtop': 1072, u'rule': 6700, u'gardena': 3474, u'palletized': 5532, u'475': 259, u'upsid': 8486, u'saved': 6778, u'const': 1926, u'november13': 5284, u'davi': 2211, u'hospitalizes': 3891, u'worth': 8856, u'humerus': 3914, u'lack': 4468, u'stud': 7613, u'geology': 3513, u'inhalation': 4109, u'extricated': 3040, u'investigator': 4248, u'pinch': 5741, u'cme': 1716, u'humidity': 3916, u'robles': 6624, u'shipped': 7015, u'cmu': 1717, u'acetylene': 443, u'cutterhead': 2158, u'speci': 7315, u'horn': 3881, u'consequ': 1913, u'castro': 1465, u'wynkoop': 8877, u'chem': 1580, u'machines': 4769, u'established': 2916, u'disk': 2473, u'filtration': 3201, u'580': 292, u'amus': 654, u'serrated': 6921, u'near': 5172, u'overstressed': 5497, u'above': 399, u'consisting': 1922, u'told': 8081, u'synthetic': 7803, u'simultaneously': 7111, u'multifamily': 5131, u'hopkin': 3873, u'wrapping': 8863, u'residual': 6484, u'cranio': 2078, u'protection': 6061, u'locomot': 4699, u'multifamili': 5130, u'stresses': 7583, u'items': 4279, u'employees': 2789, u'pinning': 5746, u'smoke': 7225, u'bunker': 1321, u'tarkhanian': 7859, u'employeed': 2788, u'diameter': 2392, u'secure': 6873, u'search': 6855, u'plenum': 5798, u'vapors': 8538, u'atrium': 864, u'total': 8107, u'sleev': 7173, u'rancho': 6193, u'fsao8': 3419, u'bundles': 1319, u'negative': 5190, u'bleed': 1130, u'comcast': 1777, u'cottag': 2029, u'bundled': 1318, u'renovations': 6430, u'separated': 6907, u'aware': 926, u'yard': 8884, u'blocking': 1140, u'1991': 112, u'1990': 111, u'1993': 113, u'3203': 203, u'wore': 8837, u'1997': 117, u'restor': 6515, u'1999': 119, u'1998': 118, u'work': 8838, u'worm': 8853, u'mechanic': 4901, u'containment': 1948, u'elbow': 2730, u'eri': 2897, u'piers': 5727, u'il': 3974, u'airstrip': 574, u'nozzle': 5287, u'550': 285, u'indic': 4065, u'impair': 3999, u'walsh': 8669, u'vert': 8579, u'recovery': 6300, u'provide': 6070, u'verify': 8574, u'nuts': 5303, u'recoveri': 6299, u'rewind': 6566, u'legionnaires': 4586, u'verifi': 8573, u'beach': 1030, u'lan': 4487, u'fever': 3175, u'rebar': 6251, u'reamer': 6243, u'after': 535, u'memorial': 4922, u'lab': 4449, u'lac': 4460, u'millimeter': 4984, u'lay': 4535, u'lat': 4516, u'arco': 776, u'arch': 768, u'demonstr': 2301, u'las': 4512, u'opaqu': 5387, u'purging': 6115, u'detent': 2362, u'encompassing': 2811, u'verb': 8570, u'davies': 2213, u'ambulance': 633, u'boatswain': 1156, u'order': 5419, u'office': 5352, u'diagnos': 2383, u'offici': 5355, u'incid': 4034, u'stencils': 7507, u'sludge': 7203, u'japan': 4300, u'nets': 5200, u'tennesse': 7923, u'attenuators': 883, u'gastrointestin': 3485, u'subfloor': 7634, u'denver': 2314, u'inadvert': 4023, u'offic': 5351, u'production': 6016, u'benward': 1079, u'workable': 8839, u'vents': 8566, u'sheav': 6986, u'shear': 6981, u'damages': 2191, u'then': 7960, u'them': 7956, u'affected': 533, u'jerking': 4311, u'safe': 6737, u'break': 1236, u'band': 982, u'bang': 986, u'superheated': 7705, u'penetration': 5644, u'coffer': 1735, u'they': 7976, u'thes': 7974, u'ther': 7961, u'bank': 988, u'pegs': 5634, u'bolted': 1170, u'rocky': 6630, u'oxygen': 5506, u'classified': 1654, u'rocks': 6627, u'rocki': 6626, u'embankment': 2770, u'feeds': 3150, u'375': 226, u'lifted': 4625, u'dumping': 2660, u'baling': 975, u'ripsaw': 6603, u'crossarms': 2112, u'diesel': 2403, u'forty': 3360, u'vandam': 8531, u'daniel': 2201, u'forth': 3359, u'sliding': 7179, u'buckatunna': 1289, u'putti': 6129, u'barrier': 1006, u'windowsil': 8803, u'standard': 7460, u'monigan': 5062, u'putty': 6131, u'fastening': 3118, u'certified': 1540, u'shrubbery': 7064, u'hairlin': 3673, u'created': 2094, u'angl': 675, u'shrubberi': 7063, u'segments': 6889, u'incorporated': 4050, u'113ch6': 38, u'render': 6424, u'independ': 4061, u'abutting': 411, u'employing': 2792, u'another': 693, u'thick': 7978, u'brakemen': 1227, u'fluorid': 3304, u'coop': 1995, u'rated': 6210, u'nomin': 5232, u'neck': 5182, u'wastewat': 8691, u'vr1056': 8644, u'degreas': 2277, u'john': 4330, u'40th': 239, u'thoracic': 7992, u'unshored': 8440, u'breakers': 1239, u'mercy': 4930, u'provid': 6069, u'seated': 6860, u'preformed': 5929, u'merci': 4929, u'pressur': 5959, u'iron': 4255, u'minut': 4999, u'tipping': 8059, u'provis': 6074, u'legionella': 4584, u'impeller': 4007, u'manner': 4823, u'subsid': 7644, u'contents': 1952, u'anchorag': 665, u'materials': 4870, u'forces': 3335, u'unsecured': 8438, u'insulated': 4182, u'solidified': 7259, u'autopsi': 906, u'troughs': 8236, u'extending': 3017, u'involving': 4252, u'phase': 5698, u'autopsy': 907, u'ejector': 2728, u'00060394': 2, u'pathologists': 5606, u'bracket': 1222, u'sources': 7287, u'responded': 6501, u'fitted': 3233, u'opposit': 5407, u'unattached': 8313, u'make': 4789, u'involv': 4249, u'just': 4370, u'alvar': 623, u'baghouse': 965, u'deepest': 2261, u'adequate': 495, u'do': 2535, u'trackho': 8135, u'dh': 2381, u'di': 2382, u'de': 2226, u'dc': 2220, u'degradation': 2275, u'watson': 8700, u'onboard': 5371, u'du': 2648, u'dr': 2579, u'chanel': 1555, u'runs': 6712, u'covering': 2058, u'scalfold': 6795, u'lexington': 4607, u'emt': 2799, u'410': 241, u'gears': 3501, u'rung': 6707, u'gaug': 3492, u'septemb': 6909, u'steam': 7496, u'runn': 6708, u'observed': 5317, u'structur': 7605, u'themselv': 7958, u'nonflamm': 5237, u'techniques': 7888, u'shotcret': 7044, u'awar': 925, u'away': 928, u'caved': 1499, u'unable': 8304, u'drawn': 2600, u'92': 366, u'shields': 7001, u'accord': 433, u'wa': 8648, u'wj': 8829, u'wi': 8784, u'ws': 8875, u'wr': 8860, u'intox': 4233, u'kitchen': 4415, u'received': 6262, u'cor': 2003, u'cov': 2055, u'howev': 3904, u'brac': 1217, u'cod': 1730, u'receives': 6264, u'brak': 1225, u'cok': 1739, u'com': 1770, u'con': 1849, u'pulleys': 6094, u'gable': 3454, u'widen': 8787, u'offloading': 5358, u'wider': 8789, u'guid': 3649, u'telecommunications': 7896, u'speak': 7314, u'engines': 2839, u'flexible': 3279, u'duties': 2670, u'hospitalization': 3888, u'attacked': 872, u'hacksaw': 3669, u'hoist': 3847, u'colored': 1765, u'applied': 732, u'physician': 5712, u'east': 2697, u'harms': 3727, u'4wd': 270, u'30ft': 197, u'properti': 6051, u'air': 560, u'torrance': 8103, u'thrash': 8002, u'aid': 558, u'property': 6053, u'launched': 4530, u'cylinder': 2171, u'dizzi': 2532, u'cont': 1938, u'dumped': 2659, u'sting': 7523, u'conc': 1850, u'brake': 1226, u'cone': 1891, u'scrotum': 6843, u'confirmed': 1901, u'descent': 2335, u'crawlspace': 2091, u'perform': 5660, u'demonstration': 2304, u'preserv': 5951, u'descend': 2332, u'incorrectly': 4052, u'plates': 5795, u'sk350': 7134, u'wheel': 8752, u'independent': 4062, u'nin': 5219, u'evid': 2945, u'pubi': 6085, u'hang': 3705, u'rain': 6174, u'publ': 6087, u'insulating': 4183, u'rais': 6176, u'nip': 5224, u'fibula': 3184, u'kept': 4388, u'1976': 105, u'driv': 2616, u'drip': 2614, u'dril': 2606, u'client': 1679, u'thi': 7977, u'the': 7950, u'tha': 7945, u'epa': 2880, u'unified': 8377, u'wasps': 8688, u'rolleron': 6647, u'farther': 3108, u'victim': 8604, u'3328': 211, u'taxied': 7873, u'90ho180': 361, u'clamped': 1647, u'adding': 489, u'transformer': 8167, u'lineman': 4654, u'flooring': 3287, u'innovatech': 4139, u'help': 3793, u'occupants': 5331, u'binders': 1104, u'shout': 7050, u'spread': 7401, u'board': 1153, u'openings': 5392, u'viking': 8609, u'hoists': 3850, u'mayb': 4877, u'mayo': 4879, u'caps': 1414, u'boxes': 1214, u'injuring': 4127, u'barge': 995, u'aud': 888, u'pedest': 5629, u'specif': 7323, u'cooler': 1994, u'clots': 1706, u'night': 5217, u'cleanout': 1664, u'security': 6877, u'fluoride': 3305, u'trained': 8155, u'collarbone': 1751, u'bore': 1189, u'flagman': 3252, u'asking': 821, u'overcom': 5471, u'denied': 2308, u'clifford': 1680, u'confer': 1894, u'ply': 5818, u'jackhamm': 4287, u'architectural': 773, u'post': 5882, u'poss': 5877, u'pli': 5801, u'lightheaded': 4634, u'abdomin': 391, u'months': 5076, u'contains': 1949, u'thermostat': 7973, u'mantle': 4828, u'bounc': 1207, u'float': 3285, u'samew': 6758, u'bound': 1210, u'payn': 5619, u'renovating': 6428, u'stumble': 7617, u'mvps': 5144, u'renail': 6421, u'wal': 8658, u'wak': 8656, u'compression': 1843, u'tysons': 8291, u'nonon': 5243, u'accordingly': 436, u'way': 8704, u'wav': 8702, u'wat': 8693, u'was': 8680, u'lowest': 4737, u'24941': 167, u'peninsula': 5646, u'needles': 5188, u'catalyst': 1469, u'true': 8242, u'd28494': 2177, u'reset': 6476, u'absent': 408, u'responding': 6503, u'wineri': 8807, u'maximum': 4875, u'primarili': 5984, u'toggl': 8078, u'winery': 8808, u'coverings': 2059, u'emit': 2780, u'medication': 4910, u'alongsid': 609, u'aorta': 713, u'turbo': 8266, u'abstract': 409, u'evidence': 2946, u'mold': 5050, u'physical': 5710, u'weakened': 8707, u'stake': 7453, u'holding': 3856, u'test': 7936, u'bellevue': 1064, u'brothers': 1274, u'deton': 2366, u'sheathing': 6985, u'stairwel': 7450, u'together': 8077, u'turbul': 8267, u'necessitated': 5181, u'consum': 1936, u'fabricated': 3052, u'switches': 7793, u'known': 4435, u'supplement': 7718, u'rectangles': 6304, u'layers': 4537, u'norwalk': 5265, u'middl': 4961, u'zone': 8905, u'flash': 3264, u'compensate': 1816, u'permanently': 5672, u'hoistway': 3851, u'damageto': 2192, u'donned': 2558, u'division': 2531, u'protective': 6062, u'upriver': 8484, u'umc': 8302, u'decking': 2246, u'vegas': 8549, u'octob': 5345, u'desulfur': 2350, u'blast': 1120, u'responders': 6502, u'respiratory': 6499, u'flammable': 3260, u'administr': 514, u'presented': 5950, u'12th': 50, u'gun': 3653, u'turnt': 8275, u'respiratori': 6497, u'gut': 3655, u'guy': 3659, u'sidewall': 7078, u'greenhouse': 3606, u'upper': 8478, u'revolution': 6565, u'charnesby': 1570, u'empir': 2782, u'regained': 6354, u'eisenhow': 2721, u'cost': 2026, u'charnesbi': 1569, u'precipit': 5918, u'cargo': 1427, u'appear': 724, u'tractoremployee': 8141, u'scaffold': 6790, u'wolfe': 8832, u'staff': 7436, u'sequ': 6911, u'supporting': 7727, u'explosion': 3004, u'gener': 3502, u'handyman': 3704, u'appears': 726, u'change': 1557, u'nois': 5229, u'pedals': 5627, u'buci': 1287, u'flames': 3257, u'generator': 3508, u'vibrating': 8594, u'hydrostatic': 3940, u'detonate': 2367, u'bucy': 1294, u'usually': 8508, u'shifting': 7004, u'triag': 8212, u'bolt': 1169, u'extra': 3031, u'marked': 4849, u'uphill': 8474, u'stings': 7524, u'mobil': 5033, u'buttons': 1355, u'live': 4670, u'jam': 4295, u'suppos': 7729, u'bigg': 1097, u'entrance': 2868, u'countertop': 2038, u'towers': 8118, u'envelope': 2873, u'trupro': 8243, u'countertops': 2039, u'planked': 5779, u'cas': 1455, u'car': 1417, u'prepar': 5939, u'cap': 1409, u'cav': 1496, u'cat': 1468, u'purge': 6114, u'labeled': 4451, u'can': 1394, u'cam': 1388, u'cal': 1376, u'cab': 1363, u'cag': 1371, u'heart': 3770, u'fracturing': 3375, u'december': 2242, u'chip': 1596, u'carroll': 1448, u'heard': 3768, u'spl': 7356, u'grassi': 3590, u'chil': 1592, u'cardio': 1423, u'spe': 7313, u'spf': 7336, u'occup': 5329, u'14017': 61, u'multipl': 5132, u'richland': 6577, u'amputates': 650, u'hematoma': 3797, u'caulking': 1485, u'switchgear': 7794, u'positional': 5872, u'ventil': 8562, u'allowable': 600, u'hypertens': 3943, u'flang': 3261, u'draglin': 2587, u'product': 6015, u'ductile': 2652, u'staircase': 7447, u'superintend': 7706, u'dive': 2519, u'southern': 7292, u'whacker': 8750, u'lancast': 4488, u'pave': 5612, u'lifting': 4626, u'kangarooter': 4375, u'vomited': 8640, u'remember': 6407, u'uninsulated': 8379, u'divid': 2527, u'monitoxes': 5067, u'corona': 2012, u'rather': 6212, u'progressively': 6027, u'manbucket': 4807, u'deconstruction': 2253, u'handhold': 3692, u'approx': 752, u'approv': 749, u'consulting': 1935, u'brain': 1224, u'telephon': 7900, u'oili': 5363, u'nitrogen': 5225, u'csho': 2134, u'cold': 1741, u'still': 7522, u'birds': 1107, u'dynam': 2674, u'sprinkl': 7406, u'rooftop': 6658, u'feath': 3136, u'w2100': 8647, u'vicinity': 8603, u'styrofoam': 7625, u'forms': 3356, u'window': 8801, u'showered': 7057, u'tailg': 7828, u'non': 5234, u'recal': 6258, u'halv': 3682, u'seatboard': 6859, u'rake': 6181, u'disloc': 2474, u'half': 3676, u'not': 5268, u'skidsteer': 7142, u'now': 5285, u'discuss': 2465, u'nor': 5251, u'nos': 5266, u'locator': 4694, u'january': 4299, u'drop': 2629, u'30079117': 194, u'drov': 2633, u'kern': 4389, u'90045': 360, u'januari': 4298, u'entirely': 2866, u'unloaded': 8408, u'em': 2766, u'el': 2729, u'outrigg': 5458, u'en': 2800, u'fired': 3222, u'replac': 6447, u'ea': 2681, u'spores': 7383, u'ey': 3041, u'year': 8887, u'franc': 3385, u'happen': 3714, u'ev': 2925, u'ep': 2879, u'amusement': 655, u'shown': 7060, u'accomplish': 431, u'opened': 5390, u'space': 7299, u'looking': 4716, u'receiving': 6265, u'cary': 1454, u'enroute': 2847, u'cart': 1451, u'quart': 6146, u'cari': 1428, u'unwanted': 8466, u'rebel': 6252, u'marina': 4846, u'cedarapid': 1505, u'card': 1420, u'care': 1425, u'fungus': 3440, u'transition': 8169, u'tangled': 7847, u'unwis': 8467, u'blind': 1135, u'620': 300, u'welds': 8733, u'625': 302, u'1220': 45, u'comprised': 1847, u'directly': 2439, u'ring': 6598, u'drove': 2634, u'angular': 681, u'size': 7130, u'sheep': 6989, u'sheet': 6990, u'caught': 1483, u'reoccurr': 6435, u'exerted': 2970, u'perini': 5666, u'thaw': 7948, u'that': 7947, u'obtained': 5321, u'transverse': 8177, u'short': 7038, u'redland': 6310, u'pontoons': 5856, u'than': 7946, u'fromtelecommunication': 3413, u'television': 7903, u'accordance': 434, u'transferred': 8164, u'35808': 222, u'launching': 4531, u'accessed': 416, u'extinguish': 3026, u'pulver': 6099, u'analysi': 659, u'hairline': 3674, u'angel': 673, u'remained': 6400, u'premier': 5936, u'inpatient': 4144, u'bould': 1204, u'deliv': 2285, u'slag': 7162, u'recover': 6297, u'slab': 7159, u'engin': 2833, u'4160': 243, u'veteran': 8589, u'equipment': 2887, u'begin': 1054, u'heaters': 3774, u'sledge': 7167, u'wire': 8815, u'methylen': 4951, u'renal': 6422, u'rescu': 6473, u'polyvinyl': 5853, u'peterbilt': 5686, u'meanwhil': 4893, u'profus': 6020, u'aerosol': 528, u'mri': 5121, u'professional': 6019, u'dispersed': 2494, u'tremmie': 8208, u'fifty': 3189, u'discovered': 2463, u'maine': 4778, u'fifth': 3187, u'ground': 3628, u'upgrade': 8471, u'stair': 7445, u'title': 8068, u'stained': 7443, u'11ft': 39, u'only': 5380, u'sierra': 7085, u'stain': 7442, u'fort': 3358, u'interstate': 4228, u'orthoped': 5430, u'skylock': 7156, u'whihc': 8770, u'healthwork': 3765, u'manilla': 4817, u'leather': 4567, u'telecommun': 7894, u'burst': 1336, u'physically': 5711, u'anchored': 667, u'elected': 2732, u'sport': 7384, u'concern': 1856, u'glazi': 3534, u'ambi': 630, u'between': 1091, u'import': 4011, u'cardiovascular': 1424, u'whipped': 8774, u'notice': 5275, u'analyzer': 663, u'hurts': 3927, u'analyzed': 662, u'scripps': 6842, u'unrel': 8426, u'installation': 4165, u'ingersol': 4101, u'pertain': 5684, u'nearbi': 5173, u'reluctantly': 6395, u'wheels': 8755, u'comes': 1779, u'nearby': 5174, u'troubleshoot': 8233, u'passenger': 5597, u'jeans': 4307, u'baltimor': 980, u'pilings': 5737, u'salinas': 6753, u'learning': 4562, u'moreover': 5085, u'pipefitt': 5755, u'cycling': 2169, u'knoxvill': 4436, u'chiaramonte': 1588, u'rebuild': 6255, u'informed': 4097, u'exhaustion': 2973, u'systems': 7805, u'rubb': 6692, u'masonri': 4858, u'aeri': 526, u'wounds': 8859, u'ditchwitch': 2517, u'external': 3025, u'masonry': 4859, u'longitudin': 4712, u'pedant': 5628, u'winkl': 8809, u'hatchway': 3737, u'alcoholic': 581, u'sawdust': 6781, u'soil': 7249, u'inju': 4120, u'rollemploye': 6642, u'boulders': 1206, u'beaver': 1037, u'rams': 6190, u'develop': 2370, u'ramm': 6185, u'guardrial': 3647, u'medic': 4908, u'coworkers': 2064, u'lite': 4666, u'document': 2541, u'sweeper': 7781, u'investigated': 4245, u'closest': 1697, u'foam': 3313, u'someon': 7268, u'fruit': 3418, u'thrown': 8017, u'eith': 2723, u'complained': 1822, u'theater': 7952, u'ccx': 1503, u'charges': 1564, u'charger': 1563, u'ccr': 1502, u'severe': 6948, u'extensible': 3019, u'joystick': 4345, u'laboratories': 4455, u'taxi': 7872, u'staircas': 7446, u'edema': 2707, u'knowledgeable': 4434, u'worksit': 8850, u'sweeping': 7782, u'ounces': 5442, u'touch': 8109, u'speed': 7334, u'death': 2234, u'staging': 7441, u'thinking': 7984, u'improvement': 4017, u'treatment': 8200, u'aerospac': 529, u'struck': 7604, u'instructions': 4178, u'momentum': 5058, u'swim': 7787, u'propped': 6056, u'psi': 6083, u'psl': 6084, u'rules': 6702, u'outermost': 5451, u'stung': 7620, u'amb': 628, u'pse': 6082, u'early': 2689, u'amp': 642, u'rear': 6244, u'ruled': 6701, u'dislodged': 2481, u'pounds': 5895, u'conducts': 1888, u'untangle': 8455, u'scissorlift': 6815, u'fully': 3431, u'downward': 2578, u'twelve': 8280, u'verbal': 8571, u'apartments': 718, u'exposes': 3009, u'duration': 2664, u'guying': 3661, u'hemorrhage': 3800, u'kaiser': 4372, u'recorded': 6292, u'dealership': 2230, u'forks': 3348, u'fractures': 3374, u'felt': 3159, u'assembly': 833, u'pylons': 6137, u'business': 1345, u'pouring': 5898, u'sixth': 7127, u'equivalent': 2890, u'strained': 7566, u'sedimentation': 6879, u'1930': 99, u'fractured': 3373, u'leftover': 4581, u'francis': 3386, u'throw': 8015, u'central': 1526, u'chok': 1607, u'chop': 1614, u'degre': 2276, u'wolf': 8831, u'underway': 8350, u'underwat': 8348, u'backup': 954, u'heater': 3773, u'aortic': 714, u'weighs': 8725, u'rolling': 6649, u'poly': 5846, u'th103': 7944, u'heated': 3772, u'operator': 5403, u'superstructur': 7709, u'degreasing': 2278, u'loc': 4684, u'supervising': 7712, u'log': 4706, u'prepare': 5944, u'area': 778, u'assumed': 851, u'los': 4724, u'poured': 5897, u'grated': 3594, u'lot': 4730, u'fascia': 3111, u'allergic': 596, u'faulted': 3128, u'shower': 7056, u'leach': 4544, u'lanyards': 4505, u'wirtgen': 8819, u'cottage': 2030, u'pitched': 5765, u'trying': 8247, u'utilizing': 8518, u'waste': 8690, u'embedded': 2772, u'stanford': 7467, u'bucket': 1290, u'stapling': 7470, u'aneurysm': 672, u'trinity': 8224, u'builders': 1299, u'600': 295, u'momentarily': 5056, u'describe': 2337, u'moved': 5113, u'1200': 42, u'nerv': 5196, u'momentarili': 5055, u'sheath': 6983, u'gradients': 3577, u'hospitals': 3892, u'cabinets': 1367, u'reclin': 6281, u'antenna': 700, u'administered': 512, u'storage': 7546, u'carriag': 1442, u'earthen': 2692, u'poor': 5859, u'polar': 5835, u'phys': 5709, u'bricklay': 1247, u'drift': 2605, u'carpenter': 1433, u'nonresponsive': 5247, u'peak': 5622, u'60m': 298, u'pool': 5857, u'reduc': 6314, u'bystander': 1361, u'stockpile': 7529, u'daili': 2183, u'prying': 6080, u'repav': 6443, u'surrounded': 7752, u'skeleton': 7135, u'pointing': 5829, u'hardpan': 3723, u'splitting': 7372, u'month': 5075, u'inflating': 4089, u'carpet': 1437, u'griffin': 3609, u'tightened': 8037, u'wyoming': 8879, u'hyperthermia': 3946, u'apport': 735, u'sustain': 7763, u'sprains': 7397, u'very': 8585, u'osu': 5434, u'screwdriver': 6837, u'mph': 5120, u'vermeer': 8577, u'mechan': 4900, u'veri': 8572, u'slone': 7191, u'verm': 8576, u'securely': 6875, u'fontainebleau': 3322, u'deficient': 2269, u'manager': 4805, u'maxicret': 4873, u'sandblaster': 6765, u'lathers': 4525, u'locomotive': 4700, u'dimens': 2423, u'cookies': 1992, u'unmark': 8412, u'fence': 3167, u'streets': 7581, u'narrat': 5158, u'solvent': 7264, u'casual': 1467, u'darkness': 2204, u'witnessed': 8827, u'bituminous': 1110, u'lurch': 4760, u'thickness': 7979, u'witnesses': 8828, u'learned': 4561, u'delmar': 2291, u'pacif': 5511, u'loose': 4719, u'rotator': 6677, u'tracks': 8137, u'selective': 6896, u'excess': 2965, u'strong': 7603, u'modifi': 5041, u'arena': 780, u'loma': 4708, u'ultra': 8300, u'traumat': 8185, u'ahead': 557, u'amount': 640, u'unlabelled': 8402, u'reent': 6325, u'healthworks': 3766, u'jrb': 4347, u'family': 3099, u'requiring': 6472, u'ask': 819, u'famili': 3097, u'trainee': 8156, u'implanted': 4009, u'takes': 7835, u'injuri': 4124, u'injurs': 4128, u'taken': 7834, u'injury': 4129, u'authorization': 897, u'reattach': 6248, u'lowering': 4736, u'ejected': 2726, u'tumbl': 8257, u'hurri': 3922, u'outpatient': 5457, u'commenced': 1786, u'broke': 1269, u'suction': 7660, u'mounted': 5106, u'producing': 6014, u'abras': 402, u'grill': 3612, u'oversight': 5493, u'unconfirm': 8327, u'nine': 5220, u'abrad': 400, u'oilfield': 5362, u'f3': 3050, u'templar': 7908, u'dui': 2657, u'1walk': 124, u'pushed': 6126, u't0486ex842243': 7807, u'firmly': 3227, u'1056': 30, u'anoth': 692, u'ledges': 4577, u'ledger': 4576, u'stayed': 7494, u'repositioned': 6460, u'gash': 3480, u'ft': 3420, u'tried': 8217, u'headquartered': 3762, u'fe': 3133, u'remediation': 6405, u'horizontal': 3879, u'fl': 3246, u'fm': 3311, u'stabil': 7424, u'relocating': 6393, u'documentation': 2544, u'overnight': 5488, u'banks': 989, u'inline': 4133, u'unexpectantly': 8361, u'cimino': 1625, u'urine': 8494, u'soon': 7278, u'paramed': 5557, u'held': 3785, u'thermal': 7972, u'helm': 3791, u'rebuilder': 6256, u'paramet': 5560, u'carpeted': 1438, u'lateral': 4521, u'actually': 479, u'absence': 407, u'disclosed': 2456, u'misalignment': 5008, u'evening': 2934, u'food': 3323, u'cem': 1516, u'cel': 1511, u'ironworker': 4257, u'anticipated': 706, u'vomit': 8639, u'abdominal': 392, u'foot': 3325, u'yr': 8899, u'erection': 2894, u'chamfer': 1553, u'occasions': 5328, u'stopped': 7541, u'radial': 6159, u'anhydr': 682, u'trailer': 8150, u'heavy': 3780, u'dig': 2413, u'jaws': 4302, u'thirteenth': 7989, u'positioned': 5873, u'heavi': 3778, u'it24f': 4276, u'inspections': 4159, u'beyond': 1092, u'event': 2935, u'steered': 7502, u'safeti': 6739, u'augers': 893, u'robert': 6622, u'since': 7114, u'midsection': 4967, u'settle': 6937, u'safety': 6740, u'jolla': 4340, u'issue': 4272, u'pul': 6089, u'overturns': 5500, u'inert': 4082, u'protruding': 6066, u'dirt': 2441, u'houses': 3901, u'reason': 6246, u'base': 1011, u'ase': 817, u'recr': 6301, u'ash': 818, u'81r': 339, u'launch': 4529, u'veloc': 8558, u'whitetail': 8777, u'rockslid': 6628, u'american': 636, u'leading': 4549, u'undergo': 8339, u'assign': 837, u'knots': 4430, u'514442281': 275, u'deenerg': 2256, u'knocking': 4428, u'1was': 126, u'membran': 4917, u'miss': 5014, u'ikea': 3973, u'occurrence': 5341, u'airborne': 562, u'pinned': 5745, u'station': 7487, u'stepladder': 7510, u'reclam': 6279, u'hundred': 3918, u'shifted': 7003, u'overexposed': 5474, u'selling': 6899, u'storm': 7552, u'trapped': 8181, u'signaling': 7092, u'sulfuric': 7681, u'apprentice': 742, u'ste': 7495, u'grocery': 3622, u'squeaky': 7418, u'grey': 3607, u'groceri': 3621, u'bridg': 1252, u'squeaki': 7417, u'recovered': 6298, u'toward': 8114, u'procedural': 6004, u'adhes': 501, u'adher': 498, u'plaska': 5787, u'constructors': 1932, u'my': 5145, u'concentration': 1854, u'morgu': 5087, u'organs': 5424, u'pressured': 5961, u'lid': 4614, u'lie': 4616, u'lif': 4619, u'unintend': 8382, u'retracted': 6542, u'dentur': 2311, u'lim': 4643, u'lin': 4649, u'flaming': 3258, u'stapl': 7468, u'lit': 4665, u'laterally': 4522, u'liv': 4669, u'unintent': 8384, u'towards': 8115, u'eater': 2703, u'choos': 1612, u'kan': 4373, u'hired': 3832, u'experiences': 2994, u'kat': 4378, u'watt': 8701, u'mack': 4770, u'approved': 751, u'reoccurrence': 6436, u'mobile': 5034, u'clear': 1666, u'cleat': 1673, u'sandblasting': 6766, u'clean': 1660, u'velocity': 8559, u'usual': 8507, u'blend': 1133, u'hips': 3830, u'humid': 3915, u'668': 310, u'660': 308, u'sheave': 6987, u'completion': 1831, u'parameters': 5561, u'dtory': 2647, u'less': 4597, u'pettybone': 5692, u'dtori': 2646, u'circle': 1629, u'inciner': 4036, u'kilovolt': 4411, u'waterproof': 8698, u'intensifi': 4203, u'trees': 8202, u'desulfurization': 2351, u'basement': 1013, u'during': 2666, u'chimney': 1594, u'molten': 5053, u'catches': 1475, u'gloved': 3540, u'oxy': 5505, u'adhering': 500, u'gloves': 3542, u'glover': 3541, u'poisoned': 5832, u'sunrez': 7695, u'seventeen': 6944, u'fluoresc': 3302, u'throwing': 8016, u'outboard': 5447, u'plummeted': 5814, u'close': 1694, u'multiemploy': 5128, u'brasfield': 1234, u'particip': 5580, u'wor': 8836, u'probably': 5998, u'conditions': 1879, u'adv': 520, u'unconscious': 8330, u'missing': 5016, u'numer': 5296, u'underdeck': 8338, u'isol': 4267, u'spray': 7398, u'errat': 2900, u'zipper': 8903, u'hardline': 3722, u'substation': 7650, u'hoisted': 3848, u'undetermin': 8354, u'vault': 8543, u'protector': 6063, u'deadman': 2229, u'splice': 7364, u'headed': 3758, u'battery': 1025, u'featherboards': 3139, u'header': 3759, u'spotting': 7390, u'vessel': 8586, u'catwalk': 1482, u'unsuccess': 8449, u'described': 2338, u'atmospher': 859, u'wer': 8737, u'stamp': 7457, u'damp': 2193, u'empti': 2795, u'maintenance': 4785, u'collected': 1754, u'instructing': 4177, u'empty': 2797, u'box': 1213, u'generating': 3506, u'alongside': 610, u'partly': 5589, u'imag': 3982, u'wet': 8747, u'else': 2765, u'liver': 4671, u'assigning': 839, u'look': 4714, u'rops': 6666, u'fibrillation': 3183, u'rope': 6664, u'while': 8772, u'accidently': 425, u'flailed': 3254, u'fleet': 3275, u'fixtur': 3243, u'guide': 3650, u'loop': 4717, u'pack': 5513, u'readi': 6230, u'hoag': 3842, u'metatarsal': 4937, u'spong': 7375, u'terminator': 7934, u'loosened': 4722, u'ready': 6237, u'vibratory': 8597, u'shap': 6970, u'cummins': 2139, u'vibratori': 8596, u'shackle': 6957, u'shad': 6959, u'grand': 3582, u'energizing': 2824, u'shak': 6964, u'218500a': 152, u'hallway': 3679, u'1000v': 22, u'used': 8500, u'temporary': 7912, u'optic': 5410, u'000': 1, u'temporari': 7909, u'006': 6, u'004': 5, u'plugs': 5808, u'idling': 3962, u'cruz': 2132, u'wedged': 8716, u'obviously': 5323, u'cedar': 1504, u'alvin': 624, u'chiller': 1593, u'technicians': 7886, u'quarters': 6148, u'hospitalizarion': 3887, u'administ': 511, u'lik': 4639, u'spindl': 7349, u'excavators': 2960, u'subsequ': 7641, u'remaining': 6401, u'104f': 28, u'abacus': 384, u'marco': 4840, u'march': 4839, u'trigg': 8218, u'showing': 7059, u'e650': 2680, u'lassen': 4514, u'like': 4640, u'signag': 7088, u'vests': 8588, u'success': 7653, u'signal': 7090, u'toyota': 8128, u'cones': 1893, u'brakes': 1228, u'some': 7266, u'urgent': 8492, u'coned': 1892, u'experienced': 2993, u'plumbers': 5811, u'peppertree': 5654, u'28th': 185, u'traversing': 8193, u'advising': 525, u'bruising': 1281, u'delivered': 2287, u'describing': 2339, u'debri': 2235, u'dilapidated': 2421, u'metatarsals': 4938, u'slash': 7164, u'terex': 7929, u'amput': 648, u'perc': 5656, u'run': 6704, u'rul': 6699, u'stee': 7498, u'rub': 6691, u'reach': 6222, u'vincents': 8613, u'rug': 6698, u'mixtur': 5027, u'step': 7508, u'indicator': 4070, u'pried': 5981, u'rus': 6718, u'rut': 6728, u'react': 6226, u'deceas': 2239, u'trucking': 8240, u'idl': 3959, u'dielectr': 2400, u'crawler': 2089, u'block': 1138, u'seeing': 6881, u'thre': 8004, u'mezzanin': 4955, u'within': 8822, u'ensur': 2850, u'purina': 6116, u'rolls': 6651, u'triangl': 8214, u'murrieta': 5136, u'placing': 5773, u'crit': 2106, u'sinai': 7112, u'manufacture': 4833, u'himself': 3826, u'carboxyhemoglobin': 1419, u'registered': 6360, u'frost': 3415, u'specialty': 7322, u'1walked': 125, u'properly': 6050, u'injection': 4119, u'reel': 6321, u'specialti': 7321, u'infl': 4088, u'skull': 7152, u'circuits': 1631, u'2kamp': 190, u'similar': 7106, u'inch': 4032, u'ordered': 5420, u'snapping': 7236, u'repres': 6462, u'unwise': 8468, u'kidney': 4400, u'cotton': 2032, u'pronounc': 6040, u'titl': 8067, u'nam': 5154, u'application': 731, u'electrical': 2735, u'grind': 3613, u'department': 2317, u'draw': 2597, u'tongu': 8083, u'reportedly': 6455, u'kansas': 4377, u'regulations': 6366, u'drag': 2581, u'rested': 6513, u'restrained': 6520, u'structure': 7608, u'callapes': 1386, u'hanover': 3712, u'independently': 4063, u'tubes': 8250, u'tailpipe': 7831, u'required': 6468, u'orbit': 5415, u'landmaco': 4498, u'depth': 2326, u'incandesc': 4030, u'paramedic': 5558, u'requires': 6471, u'416c': 244, u'liebherr': 4617, u'sonoma': 7276, u'gs': 3641, u'gr': 3567, u'funct': 3434, u'farms': 3106, u'gc': 3496, u'approximately1': 756, u'placers': 5772, u'untangl': 8454, u'gm': 3546, u'ammonia': 638, u'compact': 1802, u'shackles': 6958, u'photovolta': 5707, u'expelling': 2989, u'suite': 7677, u'airplan': 570, u'illegibly': 3977, u'dragg': 2583, u'envelop': 2872, u'efflu': 2716, u'wave': 8703, u'vibrator': 8595, u'trough': 8235, u'cellular': 1514, u'acres': 462, u'nonoccupational': 5242, u'nausea': 5169, u'scrapers': 6827, u'emplyees': 2794, u'button': 1354, u'assignments': 841, u'homeown': 3864, u'600aj': 296, u'inspection': 4158, u'enforce': 2827, u'picker': 5716, u'panes': 5547, u'carter': 1452, u'picket': 5717, u'boots': 1187, u'jump': 4357, u'hose': 3883, u'picked': 5715, u'clotting': 1707, u'fli': 3280, u'opaque': 5388, u'slight': 7180, u'cell': 1512, u'poles': 5838, u'mantl': 4827, u'commercial': 1789, u'following': 3320, u'becom': 1043, u'convert': 1986, u'northern': 5259, u'veered': 8547, u'milwauke': 4989, u'mckissik': 4883, u'products': 6017, u'geni': 3510, u'chang': 1556, u'felled': 3156, u'wid': 8785, u'stabilization': 7425, u'clark': 1651, u'nearest': 5176, u'breathing': 1243, u'wil': 8791, u'aquamog': 761, u'4100': 242, u'wit': 8820, u'wir': 8814, u'wip': 8811, u'buildup': 1302, u'cloud': 1708, u'strapped': 7570, u'remains': 6402, u'periodically': 5668, u'camera': 1390, u'vehicle': 8553, u'cram': 2071, u'cran': 2075, u'panel': 5543, u'hydro': 3933, u'rubbl': 6696, u'formally': 3350, u'started': 7472, u'becomes': 1045, u'visibility': 8623, u'hardened': 3720, u'starter': 7473, u'boards': 1154, u'crosses': 2116, u'retriev': 6545, u'arched': 769, u'ridg': 6583, u'ride': 6582, u'renov': 6427, u'archer': 770, u'crossed': 2115, u'meet': 4912, u'drops': 2632, u'control': 1976, u'hir': 3831, u'unoccupi': 8416, u'escaped': 2907, u'pulling': 6095, u'ingest': 4103, u'hit': 3836, u'defective': 2265, u'overse': 5491, u'chevrolet': 1586, u'meanwhile': 4894, u'narr': 5157, u'located': 4690, u'galleria': 3460, u'reestablish': 6327, u'vibr': 8592, u'farm': 3103, u'hemet': 3798, u'fatigue': 3126, u'ungrad': 8366, u'featherboard': 3138, u'scoop': 6817, u'tilt': 8043, u'uphil': 8473, u'pilast': 5731, u'least': 4565, u'fresno': 3403, u'including': 4046, u'condominiums': 1881, u'steel': 7499, u'outer': 5450, u'broom': 1271, u'walnut': 8668, u'insulator': 4185, u'imbalance': 3986, u'handl': 3695, u'auto': 898, u'functional': 3436, u'tile': 8040, u'hands': 3702, u'front': 3414, u'documented': 2545, u'fourthon': 3368, u'refuel': 6349, u'university': 8396, u'bleeder': 1131, u'mode': 5037, u'crossing': 2117, u'ablative': 395, u'shaking': 6966, u'upward': 8489, u'ankles': 687, u'attachments': 870, u'chunk': 1621, u'snaps': 7237, u'drizzl': 2624, u'measure': 4896, u'separating': 6908, u'special': 7316, u'ejecting': 2727, u'entertainment': 2863, u'armor': 785, u'repositioning': 6461, u'caust': 1492, u'discharg': 2450, u'may': 4876, u'hardwar': 3724, u'methacryl': 4941, u'cause': 1488, u'spor': 7382, u'manipul': 4818, u'diagonal': 2389, u'undo': 8356, u'completely': 1829, u'ridge': 6584, u'resumed': 6530, u'drowning': 2637, u'route': 6685, u'pictur': 5721, u'florida': 3289, u'times': 8053, u'intoxicated': 4234, u'stainless': 7444, u'strapping': 7571, u'mad': 4772, u'airborn': 561, u'christoph': 1617, u'cramp': 2073, u'unsupported': 8453, u'cardiac': 1422, u'quality': 6141, u'management': 4804, u'paver': 5615, u'attach': 866, u'attack': 871, u'heldreth': 3786, u'ankle': 686, u'man': 4801, u'prong': 6038, u'prone': 6037, u'turnpik': 8273, u'sz': 7806, u'cutaway': 2153, u'chemicals': 1582, u'tissu': 8065, u'foliag': 3316, u'halon': 3681, u'photograph': 5705, u'bel': 1059, u'thrashing': 8003, u'bed': 1046, u'bee': 1048, u'anaheim': 658, u'bare': 993, u'providing': 6073, u'sq': 7411, u'exhibit': 2974, u'function': 3435, u'spotters': 7389, u'staduim': 7434, u'recessed': 6271, u'impalement': 4003, u'tabl': 7811, u'tabc': 7810, u'rotor': 6678, u'sprinkler': 7407, u'uprights': 8482, u'cranes': 2077, u'able': 396, u'arm': 783, u'instance': 4170, u'unawar': 8314, u'grounding': 3630, u'so': 7240, u'detector': 2361, u'linemen': 4655, u'singl': 7115, u'blades': 1118, u'deploy': 2320, u'sl': 7157, u'bosun': 1197, u'plugging': 5807, u'discov': 2462, u'awn': 930, u'connected': 1905, u'but': 1349, u'awg': 929, u'annulus': 691, u'plumber': 5810, u'urg': 8491, u'coccidioides': 1728, u'eject': 2725, u'spleen': 7362, u'tendinous': 7920, u'construction': 1930, u'talk': 7838, u'parker': 5570, u'violation': 8617, u'airlift': 565, u'parked': 5569, u'catapulted': 1471, u'shield': 7000, u'partners': 5591, u'based': 1012, u'sheriff': 6998, u'denatur': 2305, u'rash': 6205, u'dispers': 2493, u'manufactur': 4832, u'enclosur': 2808, u'prejob': 5930, u'employee': 2787, u'sulfur': 7680, u'discontinu': 2460, u'achieve': 447, u'leased': 4564, u'flips': 3284, u'120': 41, u'joint': 4334, u'124': 46, u'125': 47, u'127': 48, u'128': 49, u'procedures': 6006, u'ascended': 815, u'pilaster': 5732, u'evolution': 2948, u'unanchored': 8308, u'trucks': 8241, u'gust': 3654, u'backov': 950, u'soreness': 7281, u'she': 6980, u'contain': 1943, u'glendale': 3537, u'fasteners': 3117, u'grab': 3568, u'grad': 3572, u'sho': 7019, u'burying': 1337, u'pitch': 5764, u'terrain': 7935, u'reinforce': 6372, u'officials': 5356, u'powder': 5902, u'spotter': 7388, u'equip': 2886, u'operated': 5397, u'contusion': 1982, u'intending': 4201, u'tend': 7915, u'state': 7480, u'correctly': 2022, u'lug': 4749, u'tens': 7925, u'neither': 5195, u'kidneys': 4401, u'sold': 7253, u'centr': 1525, u'comparable': 1810, u'attention': 880, u'keg': 4384, u'buckets': 1291, u'key': 4392, u'approval': 750, u'problem': 6000, u'undetermined': 8355, u'limits': 4648, u'samaritan': 6756, u'strains': 7567, u'admit': 516, u'unbuckled': 8319, u'stratton': 7575, u'jersey': 4312, u'tuesday': 8254, u'001028': 3, u'solv': 7263, u'slowli': 7200, u'tread': 8196, u'addition': 491, u'aligning': 586, u'bricked': 1246, u'cent': 1519, u'yal': 8882, u'slowly': 7201, u'treat': 8197, u'dure': 2665, u'isolating': 4269, u'oth': 5435, u'shoulders': 7049, u'controlled': 1977, u'both': 1198, u'releasing': 6388, u'policy': 5843, u'controller': 1978, u'kicks': 4399, u'stonecutters': 7535, u'digger': 2415, u'heaton': 3776, u'harden': 3719, u'dragline': 2588, u'1511': 68, u'deframing': 2271, u'examiner': 2953, u'buckl': 1292, u'resident': 6480, u'demo': 2293, u'coating': 1725, u'surface': 7738, u'examined': 2952, u'swinging': 7790, u'reviv': 6562, u'orbital': 5416, u'bellevu': 1063, u'parti': 5577, u'balloon': 979, u'partn': 5590, u'parts': 5592, u'northwest': 5263, u'underground': 8343, u'tapped': 7857, u'joist': 4338, u'ankl': 685, u'effect': 2712, u'sagged': 6744, u'frequently': 3400, u'562101': 287, u'single': 7116, u'energized': 2823, u'schw': 6812, u'weld': 8729, u'lunch': 4757, u'well': 8734, u'drowns': 2638, u'awning': 931, u'9524nb': 374, u'44': 249, u'taller': 7841, u'suff': 7663, u'outrigger': 5459, u'mistaken': 5019, u'43': 248, u'akron': 576, u'sutur': 7769, u'skill': 7144, u'intracerebral': 4237, u'density': 2310, u'nonrespons': 5246, u'morgue': 5088, u'riverside': 6614, u'kick': 4396, u'rafter': 6164, u'manbasket': 4806, u'railcar': 6169, u'prefabr': 5926, u'devised': 2378, u'fath': 3123, u'utah': 8510, u'crushed': 2128, u'propelled': 6047, u'historic': 3835, u'propeller': 6048, u'turbulence': 8268, u'crushes': 2130, u'intersection': 4226, u'plung': 5815, u'residu': 6483, u'lincoln': 4650, u'necessary': 5179, u'lost': 4729, u'sized': 7131, u'necessari': 5178, u'lose': 4725, u'parching': 5565, u'geotechnical': 3517, u'shel': 6995, u'library': 4610, u'batteri': 1023, u'jlg': 4318, u'home': 3863, u'liking': 4642, u'drizzle': 2625, u'librari': 4609, u'cedarapids': 1506, u'overlay': 5484, u'kettle': 4391, u'grinding': 3615, u'estim': 2918, u'arteriosclerotic': 805, u'demonstrated': 2302, u'glendal': 3536, u'coated': 1724, u'indicated': 4067, u'reaching': 6225, u'excav': 2954, u'choker': 1610, u'expansion': 2985, u'prohibited': 6029, u'offset': 5360, u'sheriffs': 6999, u'choked': 1609, u'makita': 4793, u'3500': 220, u'anchorage': 666, u'tongue': 8084, u'stakes': 7454, u'h2': 3664, u'washington': 8686, u'lacqu': 4470, u'diagon': 2388, u'dug': 2656, u'utility': 8516, u'mississippi': 5018, u'additional': 492, u'daniels': 2202, u'noticed': 5276, u'abrasions': 404, u'inner': 4136, u'hz': 3947, u'north': 5256, u'hazardous': 3749, u'triangular': 8216, u'evacuate': 2927, u'hu': 3909, u'neutral': 5202, u'tapers': 7856, u'ho': 3841, u'kegs': 4385, u'technician': 7885, u'hc': 3751, u'winch': 8796, u'ha': 3666, u'eat': 2702, u'activating': 472, u'eav': 2704, u'brandolini': 1233, u'displac': 2495, u'gird': 3525, u'signed': 7095, u'carriage': 1443, u'converted': 1987, u'stories': 7550, u'leathers': 4568, u'pumped': 6102, u'fabricator': 3055, u'piece': 5724, u'reconnecting': 6288, u'reciproc': 6272, u'evalu': 2929, u'universal': 8395, u'signage': 7089, u'balconi': 972, u'twist': 8283, u'erie': 2898, u'8ft': 355, u'balcony': 974, u'diego': 2399, u'functions': 3439, u'performed': 5661, u'fencing': 3168, u'470': 258, u'rememb': 6406, u'stonework': 7537, u'acrylic': 465, u'gondola': 3556, u'stat': 7479, u'stay': 7493, u'staf': 7435, u'stag': 7438, u'additionally': 493, u'tailgate': 7829, u'stal': 7455, u'stak': 7452, u'spectacl': 7330, u'portion': 5868, u'amputated': 649, u'clevi': 1676, u'diagnosis': 2387, u'decemb': 2241, u'ampuates': 647, u'dynamic': 2675, u'unattach': 8312, u'tensile': 7927, u'consists': 1923, u'captain': 1416, u'whose': 8782, u'tamping': 7844, u'marcor': 4841, u'marcos': 4842, u'swam': 7775, u'refinish': 6335, u'remodeled': 6410, u'seriously': 6919, u'painters': 5528, u'bays': 1027, u'flaggers': 3250, u'rescue': 6474, u'hypertensive': 3945, u'guardrail': 3644, u'ductil': 2651, u'affect': 532, u'plowshare': 5804, u'companies': 1807, u'solution': 7261, u'correct': 2021, u'unrelated': 8427, u'heading': 3760, u'upp': 8477, u'clothes': 1704, u'force': 3334, u'strikes': 7588, u'across': 463, u'shoveled': 7052, u'entr': 2867, u'implemented': 4010, u'even': 2933, u'trapping': 8182, u'wreck': 8865, u'integrity': 4198, u'lightn': 4636, u'corporation': 2019, u'lights': 4638, u'nev': 5203, u'new': 5206, u'net': 5199, u'poorly': 5860, u'med': 4905, u'elimin': 2759, u'seventh': 6945, u'donoghu': 2559, u'met': 4933, u'108': 32, u'osha': 5433, u'arcing': 775, u'mep': 4928, u'active': 474, u'103': 25, u'100': 20, u'101': 24, u'107': 31, u'104': 27, u'dry': 2643, u'buckled': 1293, u'leland': 4590, u'loos': 4718, u'dri': 2603, u'permit': 5675, u'engineers': 2838, u'counti': 2042, u'nineti': 5222, u'cx36b': 2163, u'county': 2043, u'ninety': 5223, u'drowned': 2636, u'landscape': 4500, u'cough': 2033, u'unanchor': 8307, u'army': 787, u'arms': 786, u'leaks': 4555, u'concret': 1866, u'call': 1384, u'armi': 784, u'survive': 7757, u'type': 8289, u'calf': 1380, u'lungs': 4759, u'expose': 3007, u'warn': 8676, u'disruption': 2504, u'warm': 8675, u'inhabited': 4107, u'bacteriolog': 958, u'room': 6659, u'roon': 6660, u'rights': 6596, u'setup': 6941, u'gasoline': 3482, u'superstructure': 7710, u'whack': 8749, u'foliage': 3317, u'deenergized': 2258, u'root': 6661, u'unmarked': 8413, u'dividers': 2528, u'foods': 3324, u'montebello': 5074, u'polic': 5840, u'boatswains': 1157, u'faulti': 3129, u'confin': 1898, u'strob': 7598, u'answer': 697, u'faulty': 3130, u'strok': 7600, u'undergoing': 8340, u'disassemble': 2445, u'replacing': 6451, u'abdomen': 390, u'standbi': 7461, u'geolog': 3512, u'president': 5954, u'disassembly': 2448, u'embol': 2773, u'attempt': 873, u'third': 7987, u'lengths': 4593, u'maintain': 4781, u'operate': 5396, u'rewiring': 6569, u'operations': 5401, u'deck': 2245, u'3w0141': 233, u'helena': 3787, u'outpati': 5456, u'gastrointestinal': 3486, u'before': 1052, u'scoring': 6821, u'position': 5871, u'personal': 5678, u'5625': 288, u'fleeing': 3274, u'crew': 2098, u'better': 1090, u'distal': 2506, u'weeks': 8720, u'overcome': 5472, u'therapi': 7962, u'combination': 1773, u'fixation': 3240, u'weakness': 8708, u'manitowoc': 4820, u'atherosclerosis': 856, u'caterpillar': 1479, u'therapy': 7963, u'ernesto': 2899, u'bowdoin': 1212, u'arrested': 792, u'ventilation': 8564, u'dwel': 2672, u'leaned': 4557, u'hydroblast': 3934, u'acoustic': 456, u'arrester': 793, u'recirculating': 6275, u'methacrylate': 4942, u'bone': 1177, u'bond': 1175, u'successively': 7657, u'liga': 4628, u'maneuv': 4810, u'skins': 7150, u'oppos': 5405, u'combust': 1775, u'taught': 7870, u'caustic': 1493, u'receptacl': 6267, u'aids': 559, u'collector': 1756, u'enclosure': 2809, u'fromtelecommun': 3412, u'unbound': 8317, u'bulkheads': 1308, u'sluggish': 7204, u'grease': 3601, u'turning': 8272, u'telecommunication': 7895, u'1s': 121, u'ascending': 816, u'240': 166, u'abate': 388, u'inadequately': 4022, u'logging': 4707, u'starts': 7477, u'accumul': 437, u'skyjack': 7154, u'atherosclerosi': 855, u'startl': 7475, u'100002': 21, u'perforated': 5659, u'arrived': 797, u'loud': 4731, u'user': 8501, u'gradi': 3576, u'features': 3142, u'grade': 3573, u'hook': 3869, u'floors': 3288, u'grady': 3579, u'agre': 552, u'hood': 3868, u'brock': 1267, u'kilovolts': 4412, u'citi': 1639, u'concussion': 1869, u'twisted': 8284, u'omniaire': 5369, u'r410': 6154, u'167290': 81, u'hollywood': 3861, u'breezeway': 1244, u'outag': 5444, u'fitters': 3234, u'inflow': 4090, u'ironworkers': 4258, u'villager': 8611, u'lathing': 4526, u'ravin': 6214, u'symptom': 7800, u'distance': 2507, u'preparation': 5940, u'femor': 3162, u'nonintrins': 5239, u'sills': 7101, u'extracting': 3034, u'mini': 4995, u'whenstructur': 8757, u'compacting': 1804, u'membranes': 4919, u'71832': 321, u'mine': 4992, u'elevating': 2755, u'seen': 6886, u'seem': 6884, u'sounding': 7284, u'seek': 6882, u'skidst': 7141, u'fitting': 3235, u'phoned': 5704, u'sleeper': 7171, u'wrists': 8869, u'supervis': 7711, u'marin': 4845, u'regular': 6362, u'snatch': 7238, u'typ': 8288, u'prematur': 5933, u'maria': 4844, u'mitigate': 5022, u'manhol': 4813, u'don': 2556, u'observation': 5315, u'consumed': 1937, u'dog': 2548, u'points': 5830, u'planetary': 5777, u'aquatic': 763, u'unhooked': 8373, u'jurisdiction': 4369, u'subgrade': 7636, u'planetari': 5776, u'attempts': 876, u'chord': 1615, u'supplied': 7721, u'incoherently': 4048, u'nevada': 5204, u'northeast': 5258, u'acquir': 458, u'explain': 2996, u'folded': 3315, u'disconnecting': 2459, u'wearing': 8710, u'monica': 5061, u'tiles': 8042, u'reconstruction': 6290, u'stov': 7557, u'stow': 7559, u'stop': 7540, u'compli': 1833, u'coast': 1721, u'2262': 159, u'ston': 7531, u'12': 40, u'christopher': 1618, u'tiled': 8041, u'pallets': 5533, u'bar': 991, u'bas': 1010, u'uncapped': 8321, u'flagger': 3249, u'bay': 1026, u'bag': 960, u'traversed': 8192, u'scraping': 6829, u'bal': 970, u'bak': 967, u'ears': 2690, u'reference': 6330, u'200078542': 130, u'testing': 7939, u'zones': 8906, u'decided': 2244, u'subject': 7637, u'02': 8, u'03': 9, u'00': 0, u'01': 7, u'06': 13, u'07': 14, u'04': 10, u'inappropriate': 4027, u'scrap': 6823, u'09': 17, u'sait': 6746, u'attribut': 886, u'22021': 157, u'lodg': 4701, u'restricting': 6523, u'vacuuming': 8524, u'loading': 4680, u'385': 228, u'picking': 5718, u'excavate': 2955, u'arced': 767, u'suggested': 7675, u'unw': 8465, u'resistant': 6489, u'janitor': 4297, u'against': 541, u'conco': 1862, u'prefabricated': 5927, u'und': 8336, u'driller': 2609, u'presumably': 5970, u'purlins': 6118, u'appeared': 725, u'20s': 148, u'loader': 4679, u'drilled': 2608, u'apprentic': 741, u'apprehended': 740, u'tasted': 7868, u'proceeded': 6008, u'dusting': 2668, u'three': 8009, u'erect': 2891, u'specul': 7332, u'tine': 8055, u'trigger': 8219, u'basic': 1014, u'entered': 2857, u'sulfid': 7678, u'threw': 8011, u'studs': 7615, u'ricocheting': 6580, u'deeper': 2260, u'mushroom': 5141, u'suppress': 7731, u'tractoremploye': 8140, u'locations': 4693, u'chut': 1623, u'169': 82, u'personally': 5679, u'164': 80, u'160': 76, u'161': 78, u'exception': 2964, u'tank': 7848, u'servic': 6925, u'gasolin': 3481, u'splic': 7363, u'calcul': 1378, u'ceilings': 1510, u'motorist': 5100, u'occas': 5324, u'balance': 971, u'anchor': 664, u'seven': 6943, u'leaver': 4571, u'canc': 1396, u'metropolitan': 4953, u'mexico': 4954, u'diaphragm': 2393, u'is': 4265, u'it': 4275, u'iv': 4282, u'ii': 3970, u'soils': 7250, u'im': 3981, u'cans': 1402, u'in': 4018, u'ic': 3950, u'ib': 3949, u'id': 3953, u'sever': 6946, u'if': 3963, u'overexpos': 5473, u'receiv': 6260, u'realizing': 6241, u'7200': 323, u'locaed': 4686, u'bottled': 1202, u'quant': 6142, u'shoveling': 7053, u'elli': 2762, u'sacramento': 6731, u'kil': 4402, u'hydrostat': 3939, u'unbuckl': 8318, u'programs': 6025, u'failing': 3080, u'glu': 3543, u'practices': 5911, u'800': 336, u'left': 4579, u'rollercone': 6646, u'identifi': 3955, u'yel': 8889, u'consciousness': 1912, u'assigned': 838, u'fighters': 3191, u'identify': 3957, u'plast': 5788, u'sewag': 6952, u'instructed': 4176, u'yet': 8894, u'rewir': 6567, u'defram': 2270, u'tagline': 7821, u'soaked': 7242, u'squad': 7412, u'save': 6777, u'opt': 5409, u'coron': 2011, u'supervisori': 7715, u'ducts': 2653, u'background': 945, u'supervisory': 7717, u'stihl': 7520, u'hitachi': 3837, u'shoulder': 7048, u'grayhawk': 3597, u'nudg': 5291, u'transvers': 8176, u'performing': 5662, u'manual': 4830, u'vdc': 8545, u'brunswick': 1282, u'oncoming': 5375, u'creighton': 2097, u'dean': 2233, u'somehow': 7267, u'dead': 2227, u'intern': 4218, u'readmitted': 6236, u'offload': 5357, u'tripped': 8230, u'tracked': 8134, u'grading': 3578, u'notification': 5279, u'bett': 1089, u'slurri': 7209, u'slurry': 7210, u'backhoe': 947, u'burn': 1326, u'buri': 1324, u'unst': 8445, u'promot': 6034, u'burs': 1334, u'burr': 1333, u'keeper': 4382, u'super': 7701, u'scaffolding': 6791, u'unsaf': 8432, u'yelling': 8892, u'ribs': 6576, u'submarine': 7639, u'simul': 7108, u'afternoon': 536, u'marshal': 4852, u'automatically': 901, u'nerve': 5197, u'thinner': 7986, u'amounted': 641, u'electrocuting': 2742, u'22e': 160, u'down': 2573, u'fumes': 3433, u'scalded': 6794, u'moveable': 5112, u'binding': 1105, u'towson': 8123, u'initial': 4113, u'approximate': 754, u'inspected': 4156, u'fork': 3346, u'northridge': 5261, u'form': 3349, u'hsopit': 3906, u'forc': 3333, u'forg': 3343, u'landing': 4496, u'ford': 3336, u'31st': 201, u'berm': 1081, u'225': 158, u'220': 155, u'disassembling': 2447, u'administering': 513, u'attached': 867, u'tucson': 8253, u'snaphook': 7234, u'stages': 7440, u'diagnose': 2384, u'featur': 3140, u'sticks': 7518, u'shim': 7006, u'saddles': 6735, u'diagnosi': 2386, u'covers': 2060, u'sticky': 7519, u'thunk': 8021, u'ship': 7013, u'sticki': 7517, u'vista': 8628, u'interst': 4227, u'generally': 3504, u'handed': 3690, u'encas': 2804, u'digital': 2418, u'warehouse': 8674, u'unlimit': 8405, u'2500': 170, u'whenstructural': 8758, u'sling': 7182, u'a12': 380, u'handicap': 3694, u'dies': 2402, u'braking': 1229, u'utilities': 8515, u'fell': 3155, u'authorities': 896, u'weekend': 8719, u'unlocking': 8411, u'died': 2398, u'subdivis': 7632, u'jacked': 4284, u'femal': 3160, u'daily': 2184, u'jacket': 4285, u'gorilla': 3562, u'stripping': 7596, u'teeth': 7892, u'restored': 6517, u'shop': 7031, u'managed': 4803, u'primed': 5987, u'abatement': 389, u'mile': 4975, u'skil': 7143, u'skin': 7148, u'mill': 4980, u'primer': 5988, u'skid': 7137, u'retention': 6539, u'lean': 4556, u'depend': 2318, u'show': 7054, u'intermedi': 4216, u'finally': 3204, u'suffered': 7665, u'string': 7590, u'irvin': 4263, u'pathologist': 5605, u'1995': 115, u'1994': 114, u'dil': 2419, u'din': 2428, u'stapler': 7469, u'did': 2396, u'die': 2397, u'1996': 116, u'dizzy': 2534, u'accidentally': 424, u'item': 4278, u'ungraded': 8367, u'div': 2518, u'dip': 2432, u'round': 6681, u'unexpected': 8362, u'fearing': 3135, u'dealing': 2231, u'okay': 5365, u'sacral': 6730, u'gochnau': 3549, u'deficiencies': 2268, u'unmounted': 8415, u'international': 4220, u'jumps': 4361, u'filled': 3195, u'transportation': 8173, u'pushbutton': 6124, u'french': 3397, u'unknowing': 8399, u'kilometers': 4410, u'drainag': 2590, u'stem': 7505, u'earthquake': 2694, u'wait': 8653, u'alto': 621, u'shift': 7002, u'bruises': 1280, u'bow': 1211, u'diagnosed': 2385, u'bon': 1174, u'extrem': 3035, u'bob': 1159, u'nylon': 5307, u'anoxia': 694, u'bruised': 1279, u'bog': 1165, u'ceram': 1528, u'adjustable': 506, u'elect': 2731, u'modul': 5044, u'previ': 5977, u'skilsaw': 7147, u'sweating': 7778, u'swel': 7783, u'saddl': 6733, u'peri': 5663, u'univers': 8394, u'visit': 8626, u'connector': 1909, u'robl': 6623, u'thru': 8018, u'cited': 1638, u'parks': 5572, u'tandem': 7845, u'examin': 2949, u'swiveled': 7797, u'effort': 2718, u'blinds': 1137, u'fly': 3309, u'demolish': 2296, u'flu': 3296, u'impel': 4006, u'wallet': 8665, u'9th': 379, u'imped': 4004, u'making': 4792, u'arrive': 796, u'fle': 3272, u'deceased': 2240, u'claim': 1644, u'xedia': 8880, u'reflector': 6340, u'reynold': 6571, u'agent': 544, u'sample': 6760, u'drawer': 2598, u'spanning': 7308, u't8ccr': 7809, u'inflows': 4091, u'lubbock': 4744, u'penthous': 5649, u'parch': 5564, u'chemical': 1581, u'sunday': 7692, u'purg': 6113, u'shasta': 6976, u'pins': 5747, u'pathway': 5608, u'arbon': 765, u'146': 63, u'147': 64, u'centering': 1522, u'mat': 4866, u'140': 60, u'strokes': 7602, u'max': 4872, u'fed': 3146, u'designed': 2343, u'mag': 4774, u'mak': 4788, u'destructive': 2349, u'grov': 3639, u'mal': 4794, u'accessori': 419, u'waist': 8651, u'johnson': 4332, u'maybe': 4878, u'avenu': 915, u'switch': 7791, u'deposit': 2322, u'basket': 1015, u'tall': 7840, u'riversid': 6613, u'gesture': 3519, u'framing': 3384, u'shoes': 7024, u'entryway': 2871, u'ridgeline': 6586, u'cutt': 2156, u'cuts': 2155, u'solder': 7254, u'peterson': 5687, u'40at': 238, u'grout': 3638, u'adhesive': 502, u'reinforc': 6371, u'group': 3636, u'monitor': 5063, u'polici': 5842, u'monitox': 5066, u'listing': 4664, u'freightlin': 3395, u'ent': 2853, u'main': 4777, u'texas': 7942, u'unplanned': 8419, u'automobil': 902, u'initi': 4112, u'interview': 4229, u'touching': 8111, u'pipefitter': 5756, u'killed': 4404, u'possess': 5878, u'entangl': 2854, u'arrows': 801, u'ledg': 4574, u'rock': 6625, u'bridging': 1256, u'smartloc': 7215, u'agil': 546, u'continu': 1953, u'unlock': 8410, u'fingertips': 3212, u'surcharg': 7734, u'adren': 518, u'agit': 548, u'living': 4672, u'stitch': 7525, u'3rd': 232, u'lak': 4480, u'nominal': 5233, u'emerged': 2777, u'dioxide': 2431, u'centerline': 1524, u'ladder': 4473, u'esophageal': 2913, u'diseas': 2467, u'onsit': 5382, u'sideways': 7080, u'pumping': 6103, u'california': 1383, u'vinyl': 8614, u'ord': 5418, u'landfil': 4493, u'advance': 522, u'standby': 7462, u'surgeries': 7745, u'thing': 7982, u'mesh': 4931, u'greenhous': 3605, u'thinn': 7985, u'think': 7983, u'waited': 8654, u'first': 3228, u'dwelling': 2673, u'americana': 637, u'ocotillo': 5344, u'carri': 1441, u'discharges': 2453, u'crib': 2100, u'shipyard': 7017, u'long': 4710, u'suspended': 7760, u'carry': 1449, u'discharged': 2452, u'interchange': 4210, u'little': 4668, u'law': 4533, u'capac': 1411, u'lap': 4506, u'flatiron': 3271, u'ambul': 632, u'averag': 917, u'escort': 2909, u'gorri': 3563, u'scba': 6800, u'eyes': 3044, u'allegedly': 592, u'memb': 4914, u'continuous': 1958, u'unisul': 8390, u'dislocating': 2477, u'butt': 1350, u'seaming': 6853, u'11': 33, u'10': 19, u'13': 51, u'cracks': 2070, u'15': 65, u'14': 59, u'17': 83, u'16': 75, u'19': 97, u'18': 88, u'ventura': 8568, u'protected': 6060, u'venture': 8569, u'were': 8738, u'wern': 8739, u'tractor': 8138, u'lugg': 4750, u'dasy': 2206, u'gathering': 3491, u'dasi': 2205, u'dredging': 2602, u'spectacle': 7331, u'occupied': 5335, u'these': 7975, u'clung': 1713, u'squat': 7415, u'castor': 1464, u'squar': 7413, u'secondari': 6865, u'upgrading': 8472, u'shocked': 7021, u'endangered': 2817, u'potential': 5890, u'advis': 524, u'interior': 4213, u'green': 3604, u'switching': 7795, u'channel': 1560, u'incoher': 4047, u'tbm': 7876, u'200': 128, u'203': 145, u'skinned': 7149, u'straightening': 7564, u'reloc': 6391, u'pail': 5521, u'normal': 5254, u'track': 8133, u'208': 147, u'beta': 1087, u'sheets': 6994, u'pair': 5530, u'upland': 8475, u'injuried': 4125, u'ruptures': 6717, u'premi': 5935, u'shor': 7033, u'shot': 7043, u'razmik': 6217, u'certification': 1539, u'cornea': 2008, u'shoe': 7023, u'corner': 2009, u'data': 2207, u'shon': 7025, u'fend': 3169, u'fenc': 3166, u'storms': 7553, u'plumb': 5809, u'collapses': 1747, u'black': 1112, u'deployed': 2321, u'awareness': 927, u'eyewit': 3046, u'get': 3520, u'contracts': 1966, u'designated': 2342, u'employers': 2791, u'spraying': 7400, u'nearly': 5177, u'secondary': 6866, u'sideway': 7079, u'median': 4907, u'yield': 8895, u'morning': 5090, u'threading': 8008, u'capstan': 1415, u'sidewal': 7075, u'920': 367, u'finishing': 3217, u'communicated': 1794, u'declared': 2248, u'milling': 4986, u'sear': 6854, u'facture': 3076, u'seat': 6858, u'relative': 6382, u'seam': 6852, u'seal': 6848, u'subcontracted': 7629, u'innov': 4138, u'cleaning': 1663, u'radi': 6158, u'label': 4450, u'whereabouts': 8763, u'behind': 1057, u'volatil': 8633, u'reading': 6233, u'spartan': 7312, u'infrastructure': 4099, u'august': 894, u'jr': 4346, u'signaled': 7091, u'jo': 4319, u'unsecure': 8437, u'tun': 8260, u'jd': 4304, u'tub': 8248, u'killing': 4405, u'787': 332, u'shimmick': 7007, u'trader': 8145, u'trades': 8146, u'according': 435, u'restroom': 6524, u'improv': 4016, u'holders': 3855, u'traded': 8144, u'improp': 4013, u'among': 639, u'acceler': 413, u'cancer': 1397, u'cabinetry': 1366, u'maintained': 4782, u'enlarg': 2843, u'stretched': 7585, u'sunst': 7698, u'shatt': 6977, u'telehandler': 7898, u'cabinetri': 1365, u'asphyxi': 823, u'specializing': 7320, u'ultim': 8298, u'cervical': 1542, u'tuning': 8262, u'capable': 1410, u'mari': 4843, u'mark': 4848, u'110v': 35, u'acre': 461, u'barri': 1001, u'certifi': 1537, u'mary': 4855, u'shopping': 7032, u'offered': 5350, u'gripped': 3617, u'spills': 7346, u'wake': 8657, u'those': 7998, u'sound': 7282, u'plastering': 5791, u'pressurization': 5963, u'stacked': 7431, u'disconnected': 2458, u'stacker': 7432, u'warning': 8678, u'ratchet': 6208, u'ignition': 3969, u'residence': 6478, u'eventually': 2938, u'rammed': 6186, u'coffee': 1734, u'destin': 2346, u'middle': 4962, u'sudden': 7661, u'rammer': 6187, u'receptacle': 6268, u'pap': 5551, u'pelvi': 5637, u'different': 2406, u'pav': 5611, u'doctor': 2538, u'pay': 5617, u'woodland': 8835, u'same': 6757, u'pad': 5515, u'bor': 1188, u'stepped': 7511, u'pan': 5539, u'workplace': 8848, u'exhaust': 2971, u'jeffrey': 4308, u'extended': 3016, u'assist': 842, u'vosh': 8642, u'running': 6710, u'stairwell': 7451, u'climbing': 1684, u'4797': 260, u'totally': 8108, u'drain': 2589, u'roughly': 6680, u'vertebra': 8580, u'bottle': 1201, u'workplac': 8847, u'consisted': 1921, u'outdoor': 5448, u'adjustments': 510, u'proximal': 6077, u'lifelines': 4623, u'guys': 3662, u'shingled': 7011, u'shingles': 7012, u'pile': 5733, u'laros': 4510, u'grating': 3595, u'extensive': 3021, u'grip': 3616, u'jake': 4294, u'grit': 3620, u'mor': 5082, u'mop': 5080, u'mow': 5118, u'mov': 5110, u'mot': 5094, u'ferment': 3172, u'chainsaw': 1546, u'temperatur': 7905, u'grid': 3608, u'mon': 5059, u'railroad': 6172, u'gril': 3611, u'mod': 5036, u'vertically': 8584, u'adams': 487, u'identifying': 3958, u'lightning': 4637, u'facing': 3069, u'chamber': 1551, u'thighs': 7981, u'drainage': 2591, u'served': 6924, u'specifies': 7328, u'cabl': 1368, u'failure': 3083, u'ascend': 814, u'granit': 3583, u'adequ': 494, u'centerlin': 1523, u'specified': 7327, u'images': 3984, u'drap': 2595, u'booming': 1183, u'explode': 2999, u'ellis': 2763, u'confirm': 1900, u'footing': 3329, u'fluids': 3300, u'pioneer': 5751, u'critical': 2107, u'inject': 4116, u'pipes': 5760, u'linoleum': 4659, u'knife': 4424, u'measuring': 4899, u'southmor': 7294, u'profusely': 6021, u'underwriters': 8353, u'seconds': 6868, u'manufactured': 4834, u'each': 2682, u'broken': 1270, u'drums': 2642, u'wyom': 8878, u'chlorid': 1601, u'manufacturer': 4835, u'airlifted': 566, u'conducting': 1884, u'844': 343, u'solidifi': 7258, u'stations': 7491, u'island': 4266, u'dumpst': 2661, u'spreaders': 7403, u'airline': 568, u'pockets': 5827, u'mounting': 5107, u'mixed': 5024, u'reenerg': 6322, u'road': 6616, u'prohibit': 6028, u'spreading': 7404, u'skilled': 7145, u'strik': 7586, u'ucla': 8294, u'harness': 3728, u'strip': 7592, u'landi': 4495, u'attaching': 868, u'concussive': 1871, u'downed': 2574, u'trapeze': 8180, u'washers': 8684, u'enough': 2845, u'dampers': 2195, u'buggy': 1296, u'tripod': 8228, u'1595': 74, u'sunris': 7696, u'intoxication': 4235, u'walkway': 8663, u'buggi': 1295, u'swabs': 7774, u'factur': 3075, u'dywidag': 2679, u'rewire': 6568, u'flex': 3278, u'embed': 2771, u'leaked': 4553, u'filt': 3197, u'citation': 1636, u'deer': 2262, u'deep': 2259, u'general': 3503, u'undergon': 8341, u'grasped': 3587, u'metatars': 4936, u'r1880022170': 6152, u'cables': 1370, u'fill': 3194, u'again': 540, u'arrowhead': 800, u'personnel': 5680, u'drivers': 2620, u'tripods': 8229, u'field': 3185, u'cleanup': 1665, u'coughing': 2034, u'architectur': 772, u'tailbone': 7827, u'condens': 1872, u'answ': 696, u'ansi': 695, u'submarin': 7638, u'tackle': 7816, u'480': 262, u'remote': 6413, u'driving': 2623, u'unload': 8407, u'sounded': 7283, u'landfill': 4494, u'observe': 5316, u'escap': 2905, u'starting': 7474, u'newli': 5209, u'levers': 4606, u'hooked': 3870, u'disassembled': 2446, u'forged': 3344, u'cooperative': 1996, u'fixtures': 3245, u'edg': 2709, u'shattered': 6978, u'amputating': 651, u'preserved': 5952, u'methamphetamin': 4943, u'issued': 4273, u'premium': 5937, u'righted': 6595, u'returning': 6553, u'fals': 3094, u'util': 8511, u'fall': 3090, u'difference': 2405, u'newly': 5210, u'splitter': 7371, u'mild': 4973, u'lacerating': 4464, u'ge': 3498, u'wss': 8876, u'bangor': 987, u'damper': 2194, u'apprais': 737, u'neighborhood': 5192, u'ga': 3453, u'500c': 273, u'go': 3548, u'further': 3449, u'residue': 6485, u'90s': 362, u'material': 4869, u'superfici': 7702, u'stood': 7539, u'brackets': 1223, u'abi': 393, u'dichloromethan': 2394, u'abl': 394, u'waalk': 8649, u'coroner': 2015, u'abs': 406, u'tulare': 8256, u'abraded': 401, u'public': 6088, u'unlabel': 8401, u'eave': 2705, u'ranged': 6197, u'asphyxiation': 826, u'component': 1838, u'epdm': 2881, u'ranges': 6199, u'ranger': 6198, u'cylindrical': 2174, u'operating': 5398, u'capacitor': 1412, u'valv': 8527, u'chipped': 1597, u'leveling': 4601, u'skidd': 7138, u'triaged': 8213, u'airport': 572, u'disposal': 2500, u'narrow': 5160, u'skids': 7140, u'penthouse': 5650, u'buses': 1341, u'transit': 8168, u'readili': 6231, u'inappropri': 4026, u'unapproved': 8310, u'concussions': 1870, u'establish': 2915, u'readily': 6232, u'acryl': 464, u'nonresidential': 5245, u'regist': 6359, u'two': 8286, u'splash': 7357, u'torre': 8104, u'plasterer': 5790, u'desir': 2344, u'cedars': 1507, u'reconfigur': 6285, u'leonard': 4596, u'macomb': 4771, u'cellulitis': 1515, u'controlling': 1979, u'particular': 5585, u'sleeping': 7172, u'nineteen': 5221, u'town': 8119, u'none': 5236, u'intracerebr': 4236, u'hour': 3896, u'strain': 7565, u'recall': 6259, u'des': 2330, u'det': 2352, u'dew': 2379, u'guards': 3648, u'remain': 6397, u'pressing': 5958, u'del': 2283, u'abandon': 385, u'dewalt': 2380, u'specialized': 7318, u'explod': 2998, u'collision': 1762, u'minimum': 4996, u'numbers': 5295, u'purchased': 6112, u'explos': 3003, u'sharp': 6975, u'narrowly': 5164, u'stil': 7521, u'drained': 2592, u'secur': 6872, u'technology': 7891, u'comfort': 1780, u'csa': 2133, u'actu': 477, u'blad': 1114, u'narrowli': 5163, u'sacred': 6732, u'arteri': 802, u'backflush': 944, u'needl': 5186, u'either': 2724, u'redwood': 6320, u'bags': 966, u'par': 5553, u'blood': 1142, u'coming': 1782, u'associ': 847, u'response': 6505, u'chute': 1624, u'coax': 1726, u'orchard': 5417, u'leadman': 4550, u'coal': 1719, u'responsibility': 6507, u'sect': 6869, u'turnpike': 8274, u'partway': 5593, u'attachment': 869, u'already': 612, u'through': 8013, u'polyurethan': 5851, u'filters': 3199, u'suffer': 7664, u'24': 165, u'25': 168, u'26': 174, u'27': 178, u'20': 127, u'21': 149, u'22': 154, u'23': 161, u'weath': 8711, u'28': 182, u'29': 186, u'handheld': 3691, u'carpentri': 1435, u'late': 4519, u'detected': 2359, u'pend': 5640, u'dolly': 2552, u'penn': 5647, u'sheaves': 6988, u'lath': 4523, u'carpentry': 1436, u'good': 3558, u'impal': 4001, u'walls': 8666, u'compound': 1840, u'detach': 2353, u'complain': 1821, u'easily': 2696, u'antelop': 698, u'electrocut': 2740, u'easili': 2695, u'clamp': 1646, u'sterling': 7515, u'harm': 3726, u'everyone': 2942, u'mental': 4926, u'house': 3900, u'fish': 3229, u'hard': 3718, u'fractur': 3371, u'engaging': 2832, u'oil': 5361, u'connect': 1904, u'energi': 2821, u'hart': 3732, u'insurance': 4188, u'electronic': 2749, u'bomag': 1173, u'projected': 6031, u'princ': 5989, u'acting': 467, u'evaluation': 2931, u'conjuctivitis': 1903, u'difficulti': 2408, u'crouched': 2120, u'difficulty': 2410, u'terminals': 7933, u'members': 4916, u'backed': 941, u'beginning': 1055, u'onsite': 5383, u'barbara': 992, u'diversion': 2524, u'conducted': 1883, u'harris': 3731, u'perman': 5669, u'taho': 7823, u'reinforced': 6373, u'copper': 2001, u'mistakenly': 5020, u'disregarded': 2502, u'juncture': 4366, u'utilized': 8517, u'done': 2557, u'approximately': 755, u'stormwater': 7555, u'cups': 2141, u'kon': 4441, u'twenty': 8282, u'construct': 1927, u'182': 91, u'paint': 5525, u'regulation': 6365, u'statement': 7482, u'185': 94, u'twenti': 8281, u'188': 95, u'compartment': 1812, u'catapult': 1470, u'conduit': 1889, u'traine': 8154, u'needle': 5187, u'park': 5568, u'pari': 5566, u'draped': 2596, u'appropri': 746, u'sawzal': 6784, u'doctors': 2539, u'obstructed': 5319, u'clarifying': 1650, u'exposur': 3011, u'mclaughlin': 4884, u'farming': 3105, u'contrari': 1969, u'quinnipiac': 6151, u'gotten': 3566, u'863': 347, u'864': 348, u'horizont': 3878, u'contrary': 1970, u'supposed': 7730, u'polishing': 5845, u'treated': 8198, u'vacant': 8522, u'ages': 545, u'stonecutt': 7533, u'showers': 7058, u'orders': 5422, u'mountain': 5105, u'drywal': 2644, u'built': 1303, u'depending': 2319, u'onset': 5381, u'majority': 4787, u'lifts': 4627, u'build': 1297, u'rafters': 6165, u'diversified': 2523, u'distribut': 2508, u'dayton': 2217, u'serve': 6923, u'chart': 1571, u'compl': 1820, u'serviced': 6927, u'most': 5093, u'charl': 1566, u'significant': 7097, u'services': 6928, u'extremely': 3037, u'charg': 1561, u'compar': 1809, u'compressor': 1844, u'kk': 4416, u'ki': 4395, u'jd486': 4305, u'kp': 4442, u'kv': 4444, u'weigh': 8722, u'ky': 4445, u'swelling': 7784, u'fins': 3219, u'hopper': 3876, u'hillside': 3822, u'chock': 1605, u'fine': 3207, u'find': 3205, u'fing': 3208, u'sluggishly': 7205, u'fullerton': 3428, u'flushing': 3308, u'generators': 3509, u'volatile': 8634, u'douglass': 2571, u'unus': 8461, u'permission': 5674, u'tremmi': 8207, u'express': 3013, u'batter': 1022, u'218': 151, u'theft': 7954, u'sill': 7100, u'restart': 6510, u'silo': 7102, u'spikes': 7341, u'manslaught': 4824, u'collapsed': 1746, u'remove': 6417, u'spiked': 7340, u'common': 1790, u'fluidized': 3299, u'locating': 4691, u'stadium': 7433, u'excavation': 2958, u'vinc': 8612, u'decompos': 2249, u'individual': 4072, u'tender': 7917, u'adrenal': 519, u'repairs': 6442, u'misalign': 5006, u'someth': 7270, u'halves': 3683, u'fans': 3101, u'burned': 1327, u'experi': 2990, u'altern': 618, u'unrol': 8430, u'mailbox': 4776, u'dilapid': 2420, u'barrack': 998, u'aircraft': 563, u'foothill': 3328, u'encapsulate': 2803, u'chatsworth': 1573, u'reenergize': 6323, u'restaurant': 6512, u'archway': 774, u'annual': 689, u'alon': 605, u'foreign': 3340, u'fgd': 3177, u'baltimore': 981, u'brinderson': 1264, u'point': 5828, u'fashion': 3112, u'suppli': 7720, u'asserted': 835, u'throughout': 8014, u'raise': 6177, u'pneumat': 5821, u'create': 2093, u'dropping': 2631, u'meeting': 4913, u'slips': 7187, u'stepladd': 7509, u'gav': 3494, u'ge432': 3499, u'gas': 3478, u'gar': 3468, u'gap': 3467, u'2in': 189, u'syg5502thb': 7799, u'workpiec': 8845, u'rupture': 6715, u'outriggers': 5460, u'convers': 1984, u'964': 375, u'fur': 3441, u'fus': 3450, u'solid': 7257, u'tiered': 8032, u'unifi': 8376, u'ful': 3424, u'fum': 3432, u'everyon': 2941, u'lull': 4753, u'vaults': 8544, u'propan': 6044, u'violently': 8619, u'encountered': 2814, u'itself': 4281, u'powerlink': 5905, u'facade': 3058, u'aches': 445, u'unmount': 8414, u'salina': 6752, u'wherein': 8765, u'newhal': 5207, u'corridor': 2023, u'docks': 2537, u'1533': 70, u'summerland': 7685, u'stripp': 7593, u'strips': 7597, u'assignment': 840, u'tiesat': 8034, u'moment': 5054, u'purpose': 6120, u'flagg': 3248, u'unistrut': 8389, u'travers': 8191, u'task': 7864, u'entri': 2869, u'protrus': 6067, u'spent': 7335, u'orthopedic': 5431, u'amps': 645, u'signalled': 7093, u'protrud': 6065, u'tast': 7867, u'prevention': 5976, u'ampu': 646, u'moving': 5117, u'modular': 5045, u'obscur': 5311, u'isolated': 4268, u'shape': 6971, u'openly': 5393, u'alternative': 619, u'injuries': 4126, u'alignment': 587, u'timber': 8048, u'superficial': 7703, u'cut': 2152, u'cur': 2142, u'cup': 2140, u'danger': 2199, u'snag': 7231, u'source': 7286, u'perspir': 5682, u'cub': 2135, u'appli': 729, u'snap': 7233, u'bridal': 1251, u'shoring': 7037, u'unloading': 8409, u'bin': 1102, u'overhanging': 5480, u'big': 1096, u'rebound': 6253, u'jerked': 4310, u'displace': 2496, u'bit': 1108, u'coalinga': 1720, u'knock': 4426, u'nozzl': 5286, u'volt': 8635, u'workboat': 8840, u'flue': 3297, u'glove': 3539, u'indication': 4069, u'ligament': 4629, u'back': 940, u'speculation': 7333, u'mirror': 5004, u'reattaching': 6250, u'30g': 198, u'pronounced': 6041, u'scald': 6793, u'contacts': 1942, u'pelv': 5636, u'integration': 4195, u'per': 5655, u'sm2129e': 7211, u'connecting': 1906, u'lattice': 4528, u'scalp': 6796, u'ped': 5625, u'carpent': 1432, u'peg': 5632, u'pea': 5621, u'nose': 5267, u'remembered': 6408, u'annular': 690, u'305': 196, u'420e': 247, u'erected': 2892, u'usc': 8497, u'moored': 5078, u'graft': 3580, u'piles': 5735, u'slings': 7183, u'preclud': 5922, u'piled': 5734, u'ounce': 5441, u'consequently': 1914, u'fccu': 3131, u'dispens': 2491, u'framed': 3380, u'martinez': 4854, u'frames': 3382, u'framer': 3381, u'downhill': 2576, u'ontario': 5384, u'conduits': 1890, u'agricultur': 555, u'borer': 1190, u'subst': 7646, u'mkt': 5029, u'infected': 4084, u'includ': 4043, u'forward': 3361, u'adjusting': 508, u'cellul': 1513, u'switchboard': 7792, u'directed': 2435, u'particulates': 5586, u'father': 3124, u'clips': 1689, u'jumbo': 4356, u'remaind': 6398, u'curv': 2148, u'groundwat': 3634, u'curr': 2146, u'stripped': 7594, u'ballasts': 978, u'engineering': 2837, u'curb': 2143, u'utilil': 8513, u'fabricating': 3053, u'transf': 8162, u'dragging': 2586, u'pennants': 5648, u'gainesville': 3459, u'plugged': 5806, u'pails': 5522, u'emanated': 2768, u'roel': 6634, u'accidental': 423, u'prepared': 5945, u'lens': 4594, u'intensified': 4204, u'restoration': 6516, u'antennae': 701, u'lent': 4595, u'reflectors': 6341, u'freeways': 3394, u'vehicles': 8554, u'unspool': 8443, u'2002': 132, u'2003': 133, u'2000': 129, u'2001': 131, u'2006': 136, u'2007': 137, u'vaors': 8536, u'2005': 135, u'2008': 138, u'2009': 139, u'noon': 5250, u'valves': 8529, u'extensively': 3022, u'bulkhead': 1307, u'demobil': 2294, u'westwood': 8746, u'backover': 951, u'granular': 3585, u'blaze': 1125, u'maryland': 4856, u'gravel': 3596, u'staffing': 7437, u'brigade': 1261, u'unhurt': 8375, u'automotive': 905, u'putting': 6130, u'clement': 1674, u'entire': 2865, u'recreation': 6302, u'uncovering': 8334, u'shock': 7020, u'furring': 3447, u'rappelled': 6204, u'integri': 4196, u'headquart': 3761, u'krhook': 4443, u'sewage': 6953, u'croz': 2123, u'bleeding': 1132, u'crow': 2121, u'crop': 2109, u'sulfide': 7679, u'insertion': 4152, u'grooves': 3626, u'retracting': 6543, u'avalanch': 913, u'chicago': 1589, u'giving': 3531, u'assisted': 845, u'furth': 3448, u'access': 415, u'lumber': 4756, u'secant': 6863, u'3c': 231, u'piped': 5754, u'body': 1163, u'wilkerson': 8792, u'multiemployer': 5129, u'440': 250, u'spacing': 7302, u'jointly': 4336, u'bodi': 1161, u'unclipped': 8324, u'backfed': 943, u'others': 5437, u'vertic': 8582, u'sinc': 7113, u'extreme': 3036, u'wmb50402416pc': 8830, u'39': 229, u'38': 227, u'33': 207, u'32': 202, u'31': 199, u'30': 192, u'37': 225, u'36': 223, u'35': 218, u'34': 214, u'cerv': 1541, u'climb': 1681, u'evacuating': 2928, u'eastbound': 2698, u'named': 5156, u'chlorin': 1603, u'crashing': 2084, u'baskets': 1018, u'privately': 5995, u'limb': 4644, u'tap': 7852, u'clockwise': 1691, u'lime': 4645, u'taxiing': 7874, u'tar': 7858, u'hammered': 3686, u'flat': 3268, u'chr': 1616, u'chs': 1619, u'themselves': 7959, u'oily': 5364, u'screening': 6834, u'lr1200': 4741, u'betacom': 1088, u'payne': 5620, u'trail': 8149, u'train': 8153, u'tearing': 7880, u'unspooling': 8444, u'tunnel': 8263, u'sutter': 7768, u'tag': 7819, u'closing': 1699, u'rehabilitation': 6369, u'something': 7271, u'employe': 2785, u'continuity': 1957, u'3638': 224, u'sanding': 6768, u'effectively': 2714, u'downhil': 2575, u'fulfillment': 3426, u'bones': 1178, u'plexigla': 5799, u'hangar': 3706, u'surfac': 7737, u'gce': 3497, u'monoxide': 5072, u'noises': 5231, u'responsibilities': 6506, u'appurten': 757, u'aft': 534, u'furnace': 3443, u'stock': 7527, u'frag': 3376, u'buildings': 1301, u'railings': 6171, u'specifications': 7326, u'fram': 3378, u'dclp': 2223, u'collection': 1755, u'inst': 4161, u'fray': 3388, u'bind': 1103, u'lines': 4657, u'liner': 4656, u'trembling': 8206, u'chief': 1591, u'tamper': 7843, u'subsequently': 7643, u'lined': 4653, u'furnish': 3445, u'ignite': 3965, u'caveon': 1500, u'hugged': 3913, u'agricultural': 556, u'georg': 3514, u'industries': 4078, u'bridges': 1255, u'revived': 6563, u'le': 4543, u'lb': 4540, u'lc': 4542, u'la': 4448, u'lo': 4676, u'labor': 4453, u'squatting': 7416, u'marsh': 4851, u'ls': 4742, u'bridged': 1254, u'couplers': 2048, u'dad': 2179, u'junction': 4364, u'greater': 3603, u'toppl': 8092, u'dam': 2187, u'dan': 2196, u'consci': 1910, u'mention': 4927, u'cutting': 2160, u'sl2000xl': 7158, u'day': 2215, u'dielectric': 2401, u'mixer': 5025, u'february': 3144, u'frayed': 3389, u'airports': 573, u'extr': 3030, u'verifying': 8575, u'warned': 8677, u'preclude': 5923, u'identified': 3956, u'februari': 3143, u'safeway': 6741, u'l1': 4446, u'disregard': 2501, u'tubing': 8251, u'circular': 1632, u'catenari': 1477, u'activate': 470, u'covina': 2061, u'330crt': 209, u'upriv': 8483, u'catenary': 1478, u'slumped': 7208, u'huntington': 3920, u'tubular': 8252, u'actuating': 481, u'rey': 6570, u'extinguishing': 3029, u'rep': 6438, u'rev': 6554, u'ren': 6420, u'smok': 7224, u'rec': 6257, u'electronics': 2750, u'smof': 7223, u'ref': 6328, u'red': 6308, u'clarifi': 1649, u'approached': 744, u'insid': 4153, u'retrieved': 6547, u'hazard': 3748, u'straightened': 7563, u'releas': 6384, u'afterward': 537, u'backwards': 956, u'3395': 213, u'grassy': 3591, u'mortar': 5092, u'vehicular': 8555, u'sn111': 7230, u'presid': 5953, u'barriers': 1007, u'retain': 6534, u'retail': 6533, u'facilitate': 3066, u'unrolling': 8431, u'south': 7288, u'strippers': 7595, u'arterial': 803, u'braced': 1219, u'reaches': 6224, u'facia': 3062, u'd9n': 2178, u'alleys': 598, u'sacr': 6729, u'reached': 6223, u'facil': 3064, u'sockets': 7244, u'braces': 1220, u'fractues': 3370, u'stencil': 7506, u'unspecified': 8442, u'fahrenheit': 3077, u'intermediate': 4217, u'dehumidifier': 2282, u'bosch': 1194, u'gear': 3500, u'completed': 1828, u'nobody': 5228, u'environmental': 2877, u'bulldoz': 1310, u'nobodi': 5227, u'resist': 6487, u'slack': 7161, u'shrapnel': 7061, u'flashed': 3265, u'compensation': 1817, u'visited': 8627, u'fermentation': 3173, u'thereaft': 7965, u'putzmeister': 6133, u'comfortable': 1781, u'tide': 8027, u'have': 3744, u'throat': 8012, u'apparently': 723, u'misaligned': 5007, u'magorian': 4775, u'mil': 4972, u'min': 4991, u'mid': 4960, u'mig': 4970, u'mix': 5023, u'concerns': 1857, u'hydrochlor': 3936, u'mooring': 5079, u'preliminari': 5931, u'eight': 2720, u'hydrochloric': 3937, u'atherosclerot': 857, u'preliminary': 5932, u'payment': 5618, u'gather': 3489, u'request': 6464, u'wiping': 8813, u'streetlighting': 7579, u'muriat': 5134, u'occasion': 5325, u'putzmeist': 6132, u'normally': 5255, u'planks': 5781, u'gore': 3561, u'recess': 6270, u'supported': 7726, u'homeowner': 3865, u'rotating': 6676, u'telehandl': 7897, u'dattelo': 2209, u'texa': 7941, u'setter': 6934, u'grabbed': 3569, u'knowledge': 4433, u'sparks': 7311, u'nonseri': 5248, u'controls': 1980, u'bracing': 1221, u'emitting': 2781, u'regularly': 6363, u'polyurethane': 5852, u'rusk': 6721, u'beav': 1036, u'coworker': 2063, u'tripl': 8226, u'bear': 1034, u'beam': 1031, u'bean': 1033, u'occupant': 5330, u'increas': 4053, u'areas': 779, u'substrate': 7652, u'reluct': 6394, u'organ': 5423, u'cycled': 2168, u'dripped': 2615, u'integr': 4192, u'tightening': 8038, u'fixed': 3241, u'constructing': 1929, u'national': 5165, u'malfunct': 4796, u'dislodge': 2480, u'phases': 5699, u'attempting': 875, u'clearing': 1669, u'ralph': 6183, u'helped': 3794, u'difficulties': 2409, u'routine': 6688, u'progress': 6026, u'nudged': 5292, u'horizontally': 3880, u'deliver': 2286, u'easthampton': 2699, u'jackhammer': 4288, u'dc390': 2221, u'effluent': 2717, u'instant': 4171, u'buster': 1348, u'burnishing': 1330, u'taking': 7836, u'attributed': 887, u'pulp': 6098, u'passing': 5600, u'highland': 3815, u'otherwise': 5439, u'comment': 1787, u'vent': 8561, u'unventilated': 8464, u'm15': 4763, u'commenc': 1785, u'asphyxia': 824, u'creat': 2092, u'ladderjack': 4474, u'muddy': 5125, u'electr': 2733, u'muddi': 5124, u'angled': 677, u'concours': 1864, u'finisher': 3215, u'deglov': 2272, u'stationed': 7490, u'cop': 1997, u'460': 255, u'assert': 834, u'finished': 3214, u'diffusers': 2412, u'angles': 678, u'bull': 1309, u'bulb': 1305, u'fellow': 3158, u'monoxid': 5071, u'homes': 3866, u'multi': 5127, u'atmospheric': 862, u'examine': 2951, u'rectangular': 6305, u'caving': 1501, u'bayview': 1028, u'ensuing': 2849, u'ill': 3975, u'intercoast': 4211, u'degloving': 2273, u'helper': 3795, u'manually': 4831, u'almost': 603, u'tendin': 7918, u'believ': 1060, u'substanti': 7648, u'claimed': 1645, u'inspector': 4160, u'participating': 5581, u'grinder': 3614, u'fabr': 3051, u'administration': 515, u'coronary': 2014, u'tumbling': 8259, u'mesothelioma': 4932, u'coronari': 2013, u'injured': 4122, u'tighten': 8036, u'boatwain': 1158, u'cofferdam': 1736, u'cubic': 2136, u'reporting': 6456, u'busbars': 1340, u'never': 5205, u'injures': 4123, u'canva': 1405, u'potholing': 5893, u'insure': 4189, u'retard': 6536, u'recourse': 6295, u'center': 1520, u'builder': 1298, u'antonio': 707, u'sett': 6933, u'sets': 6932, u'ravine': 6215, u'muscle': 5138, u'interlocked': 4215, u'ongoing': 5379, u'proximity': 6078, u'february10': 3145, u'domestic': 2554, u'clinic': 1686, u'stored': 7548, u'voltage': 8637, u'abat': 387, u'griffith': 3610, u'flashlight': 3267, u'gmc': 3547, u'lake': 4481, u'bench': 1070, u'ductwork': 2654, u'280': 183, u'hurry': 3925, u'284': 184, u'adh': 497, u'tests': 7940, u'molding': 5051, u'realiz': 6238, u'roofers': 6655, u'sutt': 7767, u'insert': 4149, u'displaced': 2497, u'southmore': 7295, u'clevis': 1677, u'crawled': 2088, u'unintellig': 8380, u'admitted': 517, u'rabbet': 6155, u'epoxy': 2885, u'works': 8849, u'soft': 7248, u'audible': 889, u'heel': 3781, u'italian': 4277, u'accessible': 417, u'haig': 3671, u'propel': 6046, u'alive': 588, u'hair': 3672, u'convey': 1988, u'proper': 6049, u'oversprayed': 5495, u'shrub': 7062, u'hurricane': 3924, u'slide': 7177, u'screwed': 6838, u'utilility': 8514, u'fusible': 3452, u'regain': 6353, u'conference': 1895, u'noise': 5230, u'dci': 2222, u'unevenly': 8359, u'host': 3893, u'although': 620, u'snapped': 7235, u'dcs': 2224, u'9310': 369, u'about': 397, u'actual': 478, u'socket': 7243, u'introduced': 4241, u'photovoltaic': 5708, u'rendered': 6425, u'unground': 8368, u'schuyler': 6811, u'guard': 3642, u'ungrounded': 8369, u'female': 3161, u'blower': 1144, u'leverag': 4604, u'1986': 108, u'1987': 109, u'1984': 106, u'1985': 107, u'3210': 204, u'rushed': 6720, u'styrene': 7624, u'3219': 205, u'rcr': 6220, u'1989': 110, u'joaquin': 4320, u'unexpect': 8360, u'bus': 1338, u'coke': 1740, u'preparations': 5941, u'landscaping': 4501, u'repeated': 6445, u'bul': 1304, u'subdivision': 7633, u'inlin': 4132, u'partially': 5579, u'dangerous': 2200, u'flip': 3282, u'polysubstance': 5850, u'hand': 3689, u'minutes': 5001, u'pik': 5728, u'pil': 5730, u'pin': 5740, u'domino': 2555, u'exceeded': 2962, u'pip': 5752, u'shooting': 7030, u'pit': 5763, u'campus': 1393, u'dichloromethane': 2395, u'automot': 904, u'unintelligible': 8381, u'48': 261, u'49': 266, u'46': 254, u'47': 257, u'baghous': 964, u'45': 251, u'42': 245, u'detail': 2356, u'40': 234, u'41': 240, u'sewer': 6954, u'ledge': 4575, u'granite': 3584, u'out': 5443, u'traumatic': 8186, u'flange': 3262, u'bundle': 1317, u'bladder': 1116, u'fluor': 3301, u'spreader': 7402, u'inboard': 4028, u'seismic': 6891, u'prestraightening': 5966, u'basketbal': 1016, u'baker': 968, u'kais': 4371, u'4s': 268, u'wastewater': 8692, u'spinous': 7353, u'yell': 8890, u'foothil': 3327, u'midrail': 4964, u'8th': 357, u'limited': 4647, u'hats': 3738, u'assembler': 830, u'hitch': 3838, u'facilities': 3067, u'derm': 2327, u'sleep': 7170, u'assembled': 829, u'carolinas': 1430, u'trolley': 8232, u'feeding': 3149, u'paris': 5567, u'charles': 1567, u'345': 217, u'halogen': 3680, u'340': 215, u'342': 216, u'under': 8337, u'everi': 2939, u'risk': 6609, u'incurs': 4059, u'rise': 6605, u'vitreous': 8632, u'every': 2940, u'jack': 4283, u'casas': 1457, u'upstream': 8488, u'fireplace': 3224, u'encounter': 2813, u'school': 6808, u'pooled': 5858, u'guiding': 3652, u'glued': 3545, u'methane': 4946, u'parted': 5576, u'leaders': 4548, u'direct': 2434, u'frosted': 3416, u'unscrewing': 8435, u'nail': 5149, u'surrounding': 7753, u'electricians': 2738, u'street': 7577, u'parapets': 5563, u'estimated': 2920, u'monorail': 5070, u'blue': 1150, u'worsen': 8854, u'selected': 6895, u'poison': 5831, u'lakesid': 4482, u'sheeted': 6991, u'204d': 146, u'polyest': 5847, u'conduct': 1882, u'supplier': 7722, u'seeks': 6883, u'diponio': 2433, u'pontoon': 5855, u'ramps': 6189, u'beco': 1042, u'ethanol': 2923, u'brigad': 1260, u'changed': 1558, u'yarmouth': 8886, u'precis': 5920, u'alongs': 608, u'jogging': 4329, u'fulltime': 3430, u'procedure': 6005, u'deere': 2263, u'settled': 6938, u'midway': 4968, u'york': 8896, u'barricad': 1002, u'agitator': 549, u'offs': 5359, u'strap': 7569, u'visible': 8624, u'describ': 2336, u'would': 8857, u'hospital': 3886, u'hanov': 3711, u'boomed': 1182, u'phone': 5703, u'moin': 5047, u'supplemental': 7719, u'must': 5142, u'shoot': 7028, u'md': 4886, u'ma': 4764, u'palomar': 5538, u'henri': 3803, u'mo': 5032, u'mn': 5030, u'mi': 4957, u'tissue': 8066, u'utilex': 8512, u'install': 4164, u'henry': 3804, u'appraisal': 738, u'shook': 7027, u'loosen': 4721, u'diminished': 2427, u'taxiway': 7875, u'cribbed': 2101, u'keep': 4381, u'end': 2815, u'bunk': 1320, u'sitting': 7122, u'imbedded': 3988, u'gath': 3488, u'adjacent': 504, u'toxic': 8125, u'gate': 3487, u'inpati': 4143, u'charging': 1565, u'collaps': 1744, u'uprais': 8479, u'shakeout': 6965, u'crossarm': 2111, u'befor': 1051, u'unguarded': 8371, u'jumping': 4360, u'lumb': 4754, u'parallel': 5554, u'girders': 3527, u'spout': 7393, u'acknowledged': 451, u'spous': 7391, u'unsteadi': 8447, u'upside': 8487, u'incorpor': 4049, u'enter': 2856, u'plumbing': 5812, u'vapor': 8537, u'unsteady': 8448, u'vitr': 8631, u'over': 5467, u'bleach': 1128, u'orang': 5413, u'becaus': 1040, u'underside': 8346, u'london': 4709, u'oven': 5466, u'gainesvill': 3458, u'beside': 1085, u'fittings': 3236, u'cli': 1678, u'bostitch': 1196, u'writing': 8871, u'imp': 3995, u'complex': 1832, u'compelling': 1814, u'strand': 7568, u'400': 235, u'iowa': 4254, u'prevented': 5974, u'plaster': 5789, u'washing': 8685, u'rental': 6433, u'cable': 1369, u'notified': 5280, u'accompanying': 430, u'chuck': 1620, u'detroit': 2369, u'by10': 1358, u'by12': 1359, u'galvanized': 3464, u'newport': 5211, u'fitness': 3231, u'lacerations': 4466, u'perimeter': 5665, u'hanger': 3708, u'lugger': 4751, u'unscrew': 8434, u'fairmont': 3088, u'sears': 6857, u'saturday': 6775, u'depress': 2324, u'jackets': 4286, u'gon': 3555, u'handholds': 3693, u'motel': 5095, u'washed': 8682, u'laid': 4478, u'got': 3565, u'clamps': 1648, u'gor': 3560, u'splashed': 7358, u'arizona': 782, u'hemorrhaging': 3801, u'rail': 6168, u'chisels': 1600, u'precaut': 5914, u'free': 3392, u'formation': 3351, u'splashes': 7359, u'25121': 171, u'wanted': 8672, u'laborer': 4457, u'days': 2216, u'8in': 356, u'fuse': 3451, u'unknown': 8400, u'onto': 5385, u'184mm': 93, u'separable': 6905, u'rand': 6194, u'rang': 6195, u'industrial': 4077, u'primary': 5986, u'hearing': 3769, u'restrict': 6522, u'subcontractor': 7630, u'alreadi': 611, u'swab': 7773, u'insulation': 4184, u'scissors': 6816, u'loaded': 4678, u'primari': 5983, u'portable': 5864, u'tox': 8124, u'their': 7955, u'tor': 8096, u'top': 8091, u'tow': 8112, u'tot': 8106, u'ton': 8082, u'too': 8085, u'toe': 8074, u'ceiling': 1509, u'consol': 1924, u'servo': 6930, u'centered': 1521, u'tool': 8087, u'brushes': 1285, u'leaking': 4554, u'took': 8086, u'wrapped': 8862, u'incur': 4057, u'western': 8744, u'nh3': 5214, u'injected': 4117, u'brushed': 1284, u'lather': 4524, u'strung': 7610, u'aztec': 937, u'final': 3203, u'flame': 3256, u'siemers': 7084, u'1600': 77, u'paved': 5613, u'flamm': 3259, u'bridge': 1253, u'lbs': 4541, u'1974': 104, u'ran': 6191, u'ram': 6184, u'torque': 8101, u'rak': 6180, u'278298': 181, u'talking': 7839, u'rat': 6207, u'pylon': 6136, u'screws': 6840, u'regulate': 6364, u'ray': 6216, u'deconstruct': 2252, u'1960': 101, u'snow': 7239, u'thorough': 7996, u'contact': 1939, u'hatch': 3735, u'juli': 4354, u'tibia': 8024, u'dermal': 2328, u'insur': 4187, u'though': 7999, u'freon': 3398, u'millimet': 4983, u'coil': 1737, u'insul': 4181, u'everyth': 2943, u'glov': 3538, u'eployee': 2883, u'rogers': 6636, u'partition': 5588, u'metal': 4934, u'swerved': 7786, u'freeway': 3393, u'declar': 2247, u'pankow': 5548, u'contacted': 1940, u'labels': 4452, u'sage': 6743, u'radio': 6160, u'solutions': 7262, u'carotid': 1431, u'earth': 2691, u'departed': 2316, u'configur': 1896, u'minnesota': 4997, u'knuckle': 4439, u'547': 283, u'borrowed': 1193, u'mixture': 5028, u'asbestos': 813, u'watch': 8694, u'fluid': 3298, u'report': 6453, u'reconstruct': 6289, u'toolbox': 8088, u'intracranial': 4239, u'peppertre': 5653, u'hospitalize': 3889, u'erupt': 2903, u'movement': 5114, u'automatic': 900, u'thumbs': 8020, u'nut': 5302, u'1960s': 102, u'detection': 2360, u'disturbing': 2515, u'combustion': 1776, u'capacity': 1413, u'mud': 5123, u'finger': 3209, u'approach': 743, u'jose': 4342, u'blaster': 1122, u'weak': 8705, u'however': 3905, u'boss': 1195, u'southeast': 7290, u'outages': 5446, u'wear': 8709, u'precipitator': 5919, u'contamination': 1951, u'news': 5212, u'blasted': 1121, u'protect': 6058, u'acoust': 455, u'fault': 3127, u'ventricular': 8565, u'mildly': 4974, u'faces': 3060, u'recircul': 6274, u'truss': 8244, u'2200': 156, u'bathroom': 1019, u'ropes': 6665, u'been': 1049, u'quickly': 6150, u'formwork': 3357, u'bees': 1050, u'expected': 2987, u'disengag': 2469, u'containers': 1946, u'loft': 4705, u'drugs': 2640, u'900': 359, u'enterprises': 2860, u'vulcan': 8646, u'els': 2764, u'catch': 1474, u'alerted': 583, u'kentucky': 4387, u'stopping': 7542, u'cracked': 2068, u'gave': 3495, u'kentucki': 4386, u'hangars': 3707, u'garag': 3469, u'handrail': 3701, u'planking': 5780, u'broth': 1272, u'accessories': 420, u'need': 5184, u'roadways': 6621, u'exterior': 3023, u'hardlin': 3721, u'surcharge': 7735, u'containing': 1947, u'suggest': 7674, u'wound': 8858, u'forehead': 3339, u'leached': 4545, u'several': 6947, u'groen': 3623, u'complet': 1826, u'screw': 6835, u'portal': 5865, u'tyson': 8290, u'cycle': 2167, u'dado': 2181, u'shortly': 7042, u'kicked': 4398, u'dade': 2180, u'9299': 368, u'ocean': 5343, u'mother': 5097, u'alarms': 579, u'jean': 4306, u'assembling': 832, u'graded': 3574, u'proposed': 6055, u'bruise': 1278, u'gorrie': 3564, u'grader': 3575, u'transporting': 8175, u'campbell': 1392, u'followed': 3319, u'scaffolds': 6792, u'elk': 2761, u'burns': 1331, u'monitored': 5064, u'collars': 1752, u'expos': 3006, u'cherry': 1584, u'patching': 5603, u'cherri': 1583, u'erratically': 2901, u'cramer': 2072, u'bands': 985, u'breaks': 1241, u'spanned': 7307, u'dismount': 2487, u'descending': 2334, u'judge': 4352, u'emptied': 2796, u'burnt': 1332, u'maxicrete': 4874, u'advanced': 523, u'apart': 716, u'atmospheres': 861, u'59': 293, u'58': 291, u'reclaimer': 6277, u'55': 284, u'54': 282, u'57': 290, u'56': 286, u'51': 274, u'50': 271, u'53': 280, u'52': 278, u'specific': 7325, u'offices': 5354, u'officer': 5353, u'hung': 3919, u'schematics': 6807, u'orlando': 5429, u'successfully': 7655, u'goleman': 3553, u'bitumin': 1109, u'sponge': 7376, u'meters': 4940, u'escape': 2906, u'ice': 3951, u'everything': 2944, u'skylight': 7155, u'mirage': 5003, u'pintle': 5749, u'icu': 3952, u'cord': 2004, u'core': 2006, u'dropped': 2630, u'corn': 2007, u'530': 281, u'ingests': 4104, u'overexposure': 5476, u'deadly': 2228, u'corp': 2016, u'saleable': 6749, u'corr': 2020, u'eye': 3042, u'permitted': 5676, u'plug': 5805, u'eaves': 2706, u'choke': 1608, u'burbank': 1322, u'caulk': 1484, u'plunging': 5816, u'ensure': 2851, u'efforts': 2719, u'produc': 6011, u'unrespons': 8428, u'discharging': 2454, u'destination': 2347, u'axle': 935, u'ppe': 5907, u'civil': 1643, u'tackl': 7815, u'worksite': 8851, u'decapit': 2237, u'ppm': 5908, u'accommodate': 427, u'laborers': 4458, u'batt': 1021, u'coastal': 1722, u'stringing': 7591, u'storag': 7545, u'giv': 3528, u'rely': 6396, u'sidings': 7082, u'transform': 8166, u'why': 8783, u'stuck': 7612, u'anderson': 671, u'crews': 2099, u'gin': 3524, u'smold': 7226, u'head': 3755, u'medium': 4911, u'steers': 7504, u'attempted': 874, u'heav': 3777, u'heat': 3771, u'hear': 3767, u'refriger': 6346, u'raft': 6163, u'sustained': 7764, u'removed': 6418, u'portions': 5869, u'sludg': 7202, u'latch': 4517, u'trim': 8221, u'sealant': 6850, u'trin': 8223, u'forearm': 3337, u'upset': 8485, u'backsid': 952, u'sealand': 6849, u'whereabout': 8762, u'sometime': 7273, u'shotcrete': 7045, u'hamm': 3684, u'check': 1574, u'constructed': 1928, u'assembl': 828, u'ni': 5215, u'no': 5226, u'whereas': 8764, u'when': 8756, u'ne': 5171, u'tir': 8061, u'til': 8039, u'tim': 8046, u'tin': 8054, u'setting': 6935, u'investigations': 4247, u'tid': 8026, u'tie': 8028, u'nr': 5288, u'techn': 7882, u'nt': 5290, u'hundr': 3917, u'nv': 5304, u'picture': 5722, u'thorac': 7991, u'toad': 8073, u'norm': 5253, u'miscellaneous': 5010, u'trailers': 8151, u'consid': 1915, u'discharge': 2451, u'flushed': 3307, u'thorax': 7995, u'longer': 4711, u'1800': 90, u'landed': 4492, u'uncovered': 8333, u'serious': 6918, u'backward': 955, u'smel': 7219, u'rol': 6638, u'llp': 4675, u'rod': 6631, u'rog': 6635, u'leads': 4551, u'signific': 7096, u'stumbl': 7616, u'rop': 6663, u'functioned': 3437, u'extremities': 3038, u'ros': 6667, u'rot': 6673, u'row': 6689, u'proxim': 6076, u'turbin': 8264, u'environment': 2876, u'charge': 1562, u'hammers': 3688, u'stove': 7558, u'henderson': 3802, u'methyl': 4950, u'crate': 2085, u'spools': 7381, u'85v': 345, u'flanges': 3263, u'tanks': 7851, u'420': 246, u'li': 4608, u'cool': 1993, u'level': 4600, u'necessit': 5180, u'hous': 3899, u'posts': 5886, u'brother': 1273, u'yale': 8883, u'quick': 6149, u'lever': 4603, u'accumulation': 439, u'reclaiming': 6278, u'specializes': 7319, u'says': 6787, u'inland': 4130, u'dried': 2604, u'reinstalling': 6377, u'spindle': 7350, u'drinks': 2613, u'disease': 2468, u'escorted': 2910, u'520': 279, u'kilomet': 4409, u'hd67737': 3753, u'water': 8697, u'entertain': 2862, u'groups': 3637, u'bystand': 1360, u'transfer': 8163, u'demolishing': 2298, u'tire': 8062, u'washer': 8683, u'fiberglass': 3180, u'descended': 2333, u'rafael': 6162, u'dioxid': 2430, u'threes': 8010, u'swerv': 7785, u'1st': 122, u'spoutless': 7394, u'employer': 2790, u'sledgehammer': 7169, u'bulbs': 1306, u'handled': 3697, u'iipp': 3972, u'memori': 4921, u'scan': 6797, u'properties': 6052, u'handles': 3699, u'handler': 3698, u'prev': 5972, u'prep': 5938, u'pres': 5947, u'collarbon': 1750, u'conductor': 1886, u'flying': 3310, u'fuel': 3422, u'drown': 2635, u'employed': 2786, u'sequoia': 6913, u'cases': 1459, u'suffoc': 7670, u'judg': 4351, u'modified': 5043, u'jude': 4350, u'compart': 1811, u'aircrafts': 564, u'handsaw': 3703, u'inadequ': 4020, u'purpos': 6119, u'overpass': 5489, u'1347a': 56, u'stream': 7576, u'0828003': 16, u'z40n11': 8900, u'stroke': 7601, u'surround': 7751, u'unguard': 8370, u'unfortun': 8364, u'hydrogen': 3938, u'gochnauer': 3550, u'requirements': 6470, u'sliver': 7189, u'660sj': 309, u'brand': 1232, u'alway': 625, u'fourth': 3367, u'asphyxiated': 825, u'plus': 5817, u'crashes': 2083, u'information': 4095, u'overall': 5469, u'motorists': 5101, u'crashed': 2082, u'4th': 269, u'tipped': 8058, u'courses': 2052, u'obvi': 5322, u'renovation': 6429, u'reposition': 6459, u'branches': 1231, u'practic': 5909, u'liquid': 4660, u'mezzanine': 4956, u'inform': 4094, u'fulltim': 3429, u'hilltop': 3823, u'anticip': 705, u'mainly': 4779, u'blocked': 1139, u'courthouse': 2054, u'apex': 719, u'platform': 5796, u'farmer': 3104, u'happened': 3715, u'profession': 6018, u'processes': 6010, u'sight': 7086, u'rhabdomyolyi': 6573, u'underneath': 8344, u'qualified': 6140, u'cyanid': 2164, u'feature': 3141, u'acetone': 441, u'escorting': 2911, u'term': 7930, u'name': 5155, u'stabilize': 7426, u'corners': 2010, u'belts': 1069, u'cerebr': 1530, u'individually': 4073, u'hydroxide': 3942, u'phalang': 5695, u'grat': 3592, u'individu': 4071, u'torch': 8097, u'jigs': 4317, u'catching': 1476, u'begun': 1056, u'dispos': 2499, u'adequately': 496, u'sunrise': 7697, u'sustains': 7766, u'factors': 3073, u'dredg': 2601, u'oklahoma': 5366, u'factory': 3074, u'underwrit': 8352, u'factori': 3072, u'skillsaw': 7146, u'jacking': 4289, u'maneuver': 4811, u'attended': 878, u'bolts': 1172, u'existed': 2976, u'postoperative': 5885, u'dispatched': 2490, u'stonecutter': 7534, u'refus': 6351, u'motion': 5098, u'turn': 8269, u'place': 5769, u'swing': 7789, u'charleston': 1568, u'discontinued': 2461, u'origin': 5425, u'pelican': 5635, u'cemment': 1518, u'suspend': 7759, u'omniair': 5368, u'overspray': 5494, u'flourmill': 3292, u'requirement': 6469, u'rollercon': 6645, u'walkthrough': 8662, u'suspens': 7761, u'bobcat': 1160, u'array': 790, u'fight': 3190, u'george': 3515, u'engineer': 2835, u'rented': 6434, u'surveys': 7756, u'district': 2511, u'plastic': 5792, u'circl': 1628, u'iat': 3948, u'white': 8776, u'pettybon': 5691, u'gives': 3530, u'girder': 3526, u'hug': 3910, u'sebastopol': 6861, u'releases': 6387, u'copi': 1998, u'specifi': 7324, u'eagl': 2683, u'released': 6386, u'copp': 2000, u'enclos': 2806, u'copy': 2002, u'holder': 3854, u'specify': 7329, u'serv': 6922, u'wide': 8786, u'serr': 6920, u'hauswald': 3742, u'tailpip': 7830, u'purposely': 6121, u'coat': 1723, u'miles': 4977, u'poisoning': 5833, u'driveway': 2622, u'pre': 5912, u'ana': 657, u'pro': 5996, u'pri': 5980, u'ani': 684, u'reno': 6426, u'hauling': 3741, u'rent': 6432, u'pry': 6079, u'any': 708, u'nonflammable': 5238, u'gantry': 3466, u'techniqu': 7887, u'moreov': 5084, u'phillips': 5701, u'ideal': 3954, u'gantri': 3465, u'fracture': 3372, u'blunt': 1151, u'kathabar': 4379, u'surg': 7742, u'sure': 7736, u'multiple': 5133, u'surl': 7749, u'appurtenances': 758, u'falls': 3093, u'surv': 7754, u'fci': 3132, u'cleared': 1668, u'shd7m': 6979, u'tendon': 7921, u'considered': 1919, u'misfire': 5011, u'later': 4520, u'888': 352, u'patio': 5609, u'quantity': 6143, u'slope': 7193, u'spaced': 7300, u'solar': 7252, u'spaces': 7301, u'permiss': 5673, u'southwestern': 7296, u'shingl': 7010, u'landis': 4497, u'brigg': 1262, u'written': 8872, u'wood': 8833, u'analyz': 661, u'supervisors': 7716, u'crimp': 2103, u'crimper': 2104, u'centrally': 1527, u'presbyterian': 5948, u'clavicl': 1656, u'boilers': 1168, u'cylinders': 2172, u'installed': 4167, u'homestead': 3867, u'closure': 1701, u'regarding': 6356, u'aluminum': 622, u'lul': 4752, u'1822': 92, u'instaling': 4163, u'unlicensed': 8404, u'fmcsa': 3312, u'reveals': 6556, u'pancrea': 5540, u'connections': 1908, u'turntable': 8276, u'3275': 206, u'college': 1758, u'parking': 5571, u'chocked': 1606, u'surfaces': 7740, u'fails': 3081, u'detect': 2358, u'subsequent': 7642, u'review': 6561, u'pettibon': 5689, u'outside': 5462, u'surfaced': 7739, u'arrival': 795, u'receivers': 6263, u'refine': 6332, u'comp': 1801, u'flow': 3293, u'cycl': 2166, u'coma': 1771, u'002504': 4, u'cities': 1640, u'come': 1778, u'3314': 210, u'dolli': 2551, u'reaction': 6228, u'region': 6357, u'ruptur': 6714, u'ligaments': 4631, u'contract': 1961, u'collapes': 1743, u'entir': 2864, u'duty': 2671, u'hsopitalized': 3907, u'filtering': 3198, u'afterwards': 538, u'bricks': 1249, u'pow': 5899, u'pot': 5887, u'period': 5667, u'pop': 5861, u'duti': 2669, u'61': 299, u'pole': 5837, u'63': 303, u'jammed': 4296, u'65': 306, u'67': 311, u'68': 312, u'69': 313, u'runaway': 6706, u'temecula': 7904, u'coupl': 2044, u'midsect': 4966, u'stucco': 7611, u'eyewitnesses': 3047, u'helicopter': 3790, u'500': 272, u'engine': 2834, u'v22': 8519, u'direction': 2437, u'6c': 315, u'636': 304, u'exclamatori': 2967, u'exclamatory': 2968, u'careful': 1426, u'pilot': 5739, u'case': 1458, u'refractori': 6344, u'casa': 1456, u'graz': 3598, u'mount': 5104, u'premature': 5934, u'casu': 1466, u'refractory': 6345, u'electrocuted': 2741, u'embank': 2769, u'mound': 5103, u'refineri': 6333, u'vest': 8587, u'coupled': 2046, u'telephone': 7901, u'refinery': 6334, u'coupler': 2047, u'someone': 7269, u'impaled': 4002, u'sawzall': 6785, u'helmet': 3792, u'd10': 2175, u'neith': 5194, u'author': 895, u'fender': 3170, u'locking': 4697, u'trip': 8225, u'shifts': 7005, u'0954270300042766': 18, u'eventu': 2937, u'events': 2936, u'generated': 3505, u'status': 7492, u'grossmont': 3627, u'nest': 5198, u'barges': 996, u'drives': 2621, u'weed': 8717, u'director': 2440, u'persons': 5681, u'excavated': 2956, u'campbel': 1391, u'conductors': 1887, u'unqualified': 8425, u'footprint': 3331, u'changing': 1559, u'weep': 8721, u'vantage': 8534, u'threaded': 8006, u'modes': 5039, u'ranch': 6192, u'facad': 3057, u'f012sd7712': 3048, u'threader': 8007, u'components': 1839, u'relied': 6389, u'inability': 4019, u'model': 5038, u'bodies': 1162, u'clod': 1692, u'kilz': 4413, u'tip': 8057, u'guided': 3651, u'loosening': 4723, u'clot': 1702, u'spliced': 7365, u'kill': 4403, u'kiln': 4407, u'clos': 1693, u'polish': 5844, u'uncap': 8320, u'kneeling': 4420, u'incurring': 4058, u'halfway': 3677, u'blow': 1143, u'wher': 8759, u'refrigerant': 6347, u'miscellan': 5009, u'ny': 5306, u'risers': 6607, u'rose': 6669, u'rosa': 6668, u'pallet': 5531, u'hing': 3827, u'samples': 6761, u'engulfed': 2841, u'flashing': 3266, u'disrupt': 2503, u'ross': 6672, u'scheduled': 6805, u'kills': 4406, u'blowout': 1147, u'virginia': 8620, u'jobsite': 4324, u'confined': 1899, u'daewoo': 2182, u'sheared': 6982, u'bonding': 1176, u'farwest': 3110, u'rollon': 6650, u'callap': 1385, u'particle': 5583, u'photographs': 5706, u'reduces': 6317, u'reducer': 6316, u'shelf': 6996, u'tower': 8117, u'reduced': 6315, u'interlock': 4214, u'hydraul': 3931, u'table': 7812, u'provided': 6071, u'micro': 4959, u'highest': 3814, u'landscap': 4499, u'moor': 5077, u'keyston': 4393, u'bents': 1078, u'provides': 6072, u'severed': 6949, u'methamphetamine': 4944, u'immun': 3993, u'2600': 176, u'nails': 5153, u'inspect': 4155, u'communicate': 1793, u'journeyman': 4343, u'concuss': 1868, u'earlier': 2688, u'on': 5370, u'of': 5348, u'paralysis': 5556, u'discussed': 2466, u'reinforcing': 6374, u'estimator': 2921, u'oz': 5507, u'concentrations': 1855, u'ov': 5465, u'or': 5412, u'op': 5386, u'amber': 629, u'routin': 6687, u'gari': 3475, u'communication': 1795, u'spinal': 7348, u'rising': 6608, u'determine': 2364, u'gary': 3477, u'tular': 8255, u'therm': 7971, u'inadvertent': 4024, u'unat': 8311, u'there': 7964, u'hazards': 3750, u'alleged': 591, u'dislocates': 2476, u'dislocated': 2475, u'actuator': 482, u'valley': 8526, u'energy': 2825, u'morrison': 5091, u'vicente': 8601, u'jug': 4353, u'jud': 4349, u'regard': 6355, u'jun': 4362, u'cabinet': 1364, u'diffus': 2411, u'ended': 2818, u'rouse': 6683, u'subcontractors': 7631, u'applying': 734, u'flatb': 3269, u'grasp': 3586, u'grass': 3589, u'footings': 3330, u'toilet': 8080, u'contributory': 1975, u'lumbar': 4755, u'alarm': 578, u'encompass': 2810, u'contributori': 1974, u'plowshar': 5803, u'stumbled': 7618, u'brick': 1245, u'rubbed': 6693, u'paddl': 5517, u'compel': 1813, u'erecting': 2893, u'rubber': 6694, u'narrowing': 5162, u'compet': 1818, u'underwater': 8349, u'trash': 8183, u'sully': 7682, u'requested': 6465, u'briefly': 1259, u'colon': 1763, u'separate': 6906, u'cordless': 2005, u'embolisms': 2775, u'briefli': 1258, u'hwy': 3930, u'included': 4045, u'spouse': 7392, u'prongs': 6039, u'groundman': 3631, u'unresponsive': 8429, u'bilateral': 1100, u'curve': 2149, u'103319': 26, u'derrick': 2329, u'booker': 1180, u'potenti': 5889, u'westvaco': 8745, u'degrad': 2274, u'all': 589, u'dist': 2505, u'embolism': 2774, u'southland': 7293, u'epipen': 2882, u'ladders': 4475, u'surgical': 7747, u'disc': 2449, u'follow': 3318, u'alt': 614, u'settlement': 6939, u'polarity': 5836, u'apartment': 717, u'dairi': 2185, u'laboratori': 4454, u'infirmari': 4086, u'thursday': 8022, u'removal': 6416, u'program': 6024, u'dairy': 2186, u'present': 5949, u'deenergize': 2257, u'precast': 5913, u'infirmary': 4087, u'activities': 475, u'far': 3102, u'fat': 3119, u'solex': 7256, u'sons': 7277, u'fan': 3100, u'fal': 3089, u'failur': 3082, u'fac': 3056, u'treating': 8199, u'neutr': 5201, u'list': 4662, u'finksburg': 3218, u'trench': 8209, u'joists': 4339, u'manslaughter': 4825, u'saliba': 6751, u'elevator': 2758, u'ten': 7913, u'haas': 3668, u'qualifi': 6139, u'jib': 4315, u'llc': 4673, u'rate': 6209, u'paralysi': 5555, u'design': 2341, u'functioning': 3438, u'rath': 6211, u'chalk': 1549, u'what': 8751, u'imported': 4012, u'sub': 7626, u'sun': 7691, u'brief': 1257, u'overload': 5485, u'crush': 2127, u'cannabinoids': 1399, u'sur': 7733, u'intersect': 4225, u'sup': 7700, u'ft130': 3421, u'toes': 8075, u'lacquer': 4471, u'skidder': 7139, u'pendant': 5641, u'condenser': 1873, u'compressed': 1842, u'berkeley': 1080, u'raker': 6182, u'courthous': 2053, u'pulverizing': 6100, u'runoff': 6711, u'exited': 2979, u'conditioning': 1878, u'suddenly': 7662, u'appliances': 730, u'vertebrae': 8581, u'1900': 98, u'smal': 7212, u'thedford': 7953, u'proceed': 6007, u'unapprov': 8309, u'tarpaulin': 7861, u'lakeside': 4483, u'chicken': 1590, u'minor': 4998, u'permanente': 5671, u'israel': 4270, u'bumped': 1314, u'grabbing': 3570, u'operators': 5404, u'flag': 3247, u'stick': 7516, u'flam': 3255, u'569990': 289, u'presumed': 5971, u'ensu': 2848, u'berth': 1083, u'eden': 2708, u'freightliner': 3396, u'irritations': 4262, u'jogged': 4328, u'caveat': 1498, u'protecta': 6059, u'brown': 1276, u'joints': 4337, u'methodist': 4948, u'sourc': 7285, u'protects': 6064, u'pond': 5854, u'airplane': 571, u'swung': 7798, u'extinguisher': 3028, u'cours': 2050, u'banding': 984, u'soffits': 7247, u'25at': 173, u'breaking': 1240, u'environ': 2875, u'divis': 2530, u'untied': 8458, u'occasionally': 5327, u'extinguished': 3027, u'detonation': 2368, u'acknowledging': 452, u'resourc': 6490, u'penetr': 5642, u'hoisting': 3849, u'reflect': 6338, u'lighting': 4635, u'numb': 5293, u'retrofitted': 6550, u'rollemployee': 6643, u'footer': 3326, u'supervision': 7713, u'ricochet': 6579, u'caus': 1486, u'shore': 7034, u'undersid': 8345, u'shade': 6960, u'caut': 1494, u'encased': 2805, u'began': 1053, u'september': 6910, u'developed': 2371, u'tagout': 7822, u'mission': 5017, u'1wa': 123, u'huger': 3912, u'reconnect': 6287, u'milwaukee': 4990, u'avenue': 916, u'style': 7622, u'inward': 4253, u'altec': 615, u'runat': 6705, u'acoustical': 457, u'scor': 6820, u'scop': 6818, u'might': 4971, u'alter': 616, u'pittman': 5766, u'return': 6551, u'framework': 3383, u'feeder': 3148, u'styren': 7623, u'gastr': 3483, u'70employee': 317, u'unventil': 8463, u'fasten': 3114, u'compris': 1846, u'respirators': 6498, u'hammering': 3687, u'malfunction': 4797, u'tilted': 8044, u'weight': 8726, u'generation': 3507, u'fixture': 3244, u'expect': 2986, u'alcohol': 580, u'join': 4333, u'hydraulic': 3932, u'adhere': 499, u'health': 3764, u'hill': 3820, u'shipment': 7014, u'aligned': 585, u'induced': 4075, u'remodeling': 6411, u'fiber': 3179, u'pneumothorax': 5825, u'advanc': 521, u'roofs': 6657, u'friday': 3408, u'enveloping': 2874, u'sidewalk': 7076, u'lag': 4477, u'bushes': 1343, u'hardware': 3725, u'thread': 8005, u'circuit': 1630, u'fallen': 3091, u'feed': 3147, u'notifi': 5278, u'cleasby': 1672, u'feel': 3151, u'femurs': 3165, u'traveled': 8188, u'feet': 3153, u'plummet': 5813, u'defects': 2266, u'cleasbi': 1671, u'blank': 1119, u'trapez': 8179, u'passes': 5599, u'story': 7556, u'scripp': 6841, u'temperature': 7906, u'automobile': 903, u'interviews': 4231, u'180': 89, u'rails': 6173, u'lobby': 4683, u'swarm': 7776, u'stori': 7549, u'orthopedics': 5432, u'passed': 5595, u'store': 7547, u'headache': 3757, u'mainstay': 4780, u'pipelines': 5759, u'pains': 5524, u'pump': 6101, u'exploded': 3000, u'hotel': 3895, u'dynapak': 2678, u'optical': 5411, u'explodes': 3001, u'kind': 4414, u'occasional': 5326, u'waterproofing': 8699, u'remot': 6412, u'double': 2570, u'remov': 6414, u'outdoors': 5449, u'dispenser': 2492, u'cleaner': 1662, u'vanes': 8532, u'exert': 2969, u'engulf': 2840, u'cleaned': 1661, u'remodel': 6409, u'dislodging': 2482, u'wilson': 8795, u'nights': 5218, u'muriatic': 5135, u'port': 5863, u'moist': 5049, u'larose': 4511, u'clovis': 1710, u'penetrated': 5643, u'finding': 3206, u'screwdriv': 6836, u'foreman': 3341, u'added': 488, u'electric': 2734, u'64': 305, u'eruption': 2904, u'77': 329, u'76': 327, u'75': 326, u'72': 322, u'71': 318, u'70': 316, u'nothing': 5273, u'measured': 4897, u'79': 333, u'78': 331, u'mineral': 4994, u'windows': 8802, u'destruct': 2348, u'part': 5575, u'notch': 5269, u'assistance': 843, u'lying': 4762, u'stones': 7536, u'contracted': 1962, u'asphalt': 822, u'memorandum': 4920, u'dosh': 2568, u'denatured': 2306, u'securing': 6876, u'grazed': 3599, u'hip': 3829, u'cott': 2028, u'his': 3833, u'triangle': 8215, u'furnaces': 3444, u'hil': 3819, u'him': 3825, u'dormer': 2565, u'batteries': 1024, u'investigate': 4244, u'activity': 476, u'dizziness': 2533, u'precaution': 5915, u'certif': 1536, u'arr': 789, u'stump': 7619, u'casters': 1462, u'dump': 2658, u'tarps': 7862, u'uses': 8502, u'pvc': 6134, u'arc': 766, u'injecting': 4118, u'are': 777, u'barg': 994, u'defici': 2267, u'unqualifi': 8424, u'compacted': 1803, u'barn': 997, u'mechanically': 4903, u'nailed': 5150, u'ridgelin': 6585, u'drooping': 2628, u'unions': 8388, u'determined': 2365, u'various': 8542, u'plywood': 5819, u'numerous': 5297, u'nailer': 5151, u'recently': 6266, u'pettibone': 5690, u'initially': 4114, u'induc': 4074, u'sole': 7255, u'outfit': 5452, u'lifelin': 4621, u'disturbance': 2513, u'fatality': 3121, u'competent': 1819, u'license': 4612, u'0597': 12, u'became': 1039, u'rollers': 6648, u'reasons': 6247, u'gutt': 3656, u'sweep': 7780, u'improper': 4014, u'incandescent': 4031, u'tehama': 7893, u'slots': 7197, u'ps': 6081, u'pp': 5906, u'gypsum': 3663, u'due': 2655, u'mouthcard': 5109, u'whos': 8781, u'whol': 8779, u'reduction': 6319, u'pa': 5510, u'refrigeration': 6348, u'supplying': 7724, u'dur': 2663, u'pi': 5713, u'pl': 5767, u'pm': 5820, u'winching': 8798, u'flight': 3281, u'sending': 6902, u'transferring': 8165, u'precision': 5921, u'dislodg': 2479, u'cummin': 2138, u'cve': 2162, u'p1': 5508, u'hansford': 3713, u'frozen': 3417, u'evaluated': 2930, u'barricade': 1003, u'abov': 398, u'porterville': 5867, u'welding': 8732, u'lodges': 4703, u'riv': 6610, u'ris': 6604, u'rip': 6600, u'styl': 7621, u'rim': 6597, u'lodged': 4702, u'rig': 6589, u'rid': 6581, u'exiting': 2980, u'rib': 6575, u'scarring': 6799, u'tailbon': 7826, u'shirt': 7018, u'movi': 5115, u'eyewear': 3045, u'higher': 3813, u'895': 354, u'paths': 5607, u'restraint': 6521, u'wherea': 8761, u'cement': 1517, u'flown': 3295, u'liquids': 4661, u'contractors': 1965, u'anhydrous': 683, u'culvert': 2137, u'cind': 1626, u'lower': 4734, u'particul': 5584, u'machineri': 4767, u'cheek': 1577, u'analysis': 660, u'edge': 2710, u'machinery': 4768, u'bounced': 1209, u'stating': 7486, u'propos': 6054, u'carport': 1440, u'facial': 3063, u'laidlaw': 4479, u'pebbl': 5623, u'immediately': 3992, u'prince': 5990, u'crusher': 2129, u'extracted': 3033, u'workers': 8843, u'contractor': 1964, u'violations': 8618, u'complaint': 1825, u'vendor': 8560, u'complains': 1824, u'loss': 4728, u'unlimited': 8406, u'entangled': 2855, u'modifications': 5042, u'rotate': 6674, u'shaped': 6972, u'earthquak': 2693, u'shapes': 6973, u'collect': 1753, u'unstable': 8446, u'unspecifi': 8441, u'polysubst': 5849, u'compressors': 1845, u'annu': 688, u'12194029b': 44, u'prop': 6043, u'pron': 6036, u'fragments': 3377, u'prob': 5997, u'spangl': 7304, u'sag': 6742, u'refused': 6352, u'aloft': 604, u'squeez': 7419, u'upraised': 8480, u'unconfirmed': 8328, u'pipeline': 5758, u'wrecking': 8866, u'bars': 1008, u'completing': 1830, u'firing': 3225, u'range': 6196, u'undoing': 8357, u'johns': 4331, u'erectors': 2896, u'sports': 7385, u'stitches': 7526, u'canal': 1395, u'sequence': 6912, u'fast': 3113, u'adjac': 503, u'sections': 6871, u'rhabdomyolyis': 6574, u'pebbles': 5624, u'potassium': 5888, u'searching': 6856, u'cloth': 1703, u'repeatedly': 6446, u'delta': 2292, u'upright': 8481, u'crane': 2076, u'raising': 6179, u'consist': 1920, u'tensil': 7926, u'called': 1387, u'sometimes': 7274, u'associated': 848, u'cattail': 1481, u'articulating': 810, u'associates': 849, u'bicep': 1094, u'ream': 6242, u'huron': 3921, u'dils': 2422, u'rainbow': 6175, u'counterweights': 2041, u'overseeing': 5492, u'sj111': 7133, u'club': 1711, u'backf': 942, u'mock': 5035, u'clements': 1675, u'problems': 6001, u'helping': 3796, u'insect': 4147, u'allowing': 602, u'puncture': 6107, u'suffers': 7667, u'vice': 8599, u'dismantl': 2483, u'hydroxid': 3941, u'weights': 8727, u'narrative': 5159, u'once': 5373, u'windi': 8800, u'unconsci': 8329, u'hooks': 3871, u'resistance': 6488, u'windy': 8806, u'overlap': 5483, u'winds': 8805, u'adjustment': 509, u'ventur': 8567, u'issues': 4274, u'simon': 7107, u'roofed': 6653, u'stable': 7429, u'disengage': 2470, u'include': 4044, u'rag': 6166, u'dandy': 2198, u'2912': 187, u'2913': 188, u'without': 8823, u'to10': 8072, u'engineered': 2836, u'spool': 7378, u'dandi': 2197, u'electron': 2748, u'electrod': 2744, u'artery': 806, u'drinking': 2612, u'bryant': 1286, u'dealt': 2232, u'mirag': 5002, u'noted': 5271, u'erector': 2895, u'concluded': 1859, u'smaller': 7214, u'gripping': 3618, u'trane': 8161, u'fold': 3314, u'helicopt': 3789, u'traveling': 8189, u'acid': 448, u'hourly': 3897, u'contus': 1981, u'waiting': 8655, u'relocate': 6392, u'noncontract': 5235, u'degree': 2279, u'eyebolt': 3043, u'pushing': 6127, u'wraps': 8864, u'desired': 2345, u'tarred': 7863, u'crossbrac': 2113, u'lubricant': 4747, u'astrid': 852, u'settling': 6940, u'streetlights': 7580, u'larger': 4509, u'leaving': 4572, u'shaded': 6961, u'shovel': 7051, u'apple': 728, u'duct': 2650, u'distributed': 2509, u'approxim': 753, u'respirator': 6496, u'motor': 5099, u'lodging': 4704, u'surles': 7750, u'apply': 733, u'redi': 6309, u'redo': 6312, u'nursing': 5301, u'use': 8499, u'from': 3411, u'usa': 8496, u'fel': 3154, u'frog': 3409, u'fev': 3174, u'few': 3176, u'usu': 8506, u'ust': 8504, u'examination': 2950, u'expanding': 2983, u'eagles': 2685, u'spr': 7395, u'possession': 5879, u'porch': 5862, u'inclined': 4042, u'potentially': 5891, u'infection': 4085, u'sore': 7280, u'heil': 3783, u'antennas': 702, u'incline': 4041, u'stabilized': 7427, u'saddle': 6734, u'strategically': 7574, u'column': 1768, u'condominium': 1880, u'stabilizer': 7428, u'chin': 1595, u'proof': 6042, u'boulder': 1205, u'patrol': 5610, u'razook': 6218, u'mowing': 5119, u'calculation': 1379, u'carrol': 1447, u'1637': 79, u'heaving': 3779, u'hilton': 3824, u'impeded': 4005, u'tal': 7837, u'serial': 6916, u'tak': 7832, u'united': 8392, u'sit': 7119, u'siz': 7129, u'six': 7126, u'sidewalks': 7077, u'inman': 4134, u'occur': 5337, u'backho': 946, u'prognosis': 6023, u'sid': 7071, u'instead': 4173, u'sil': 7099, u'tension': 7928, u'attend': 877, u'barricades': 1005, u'tach': 7813, u'tack': 7814, u'wrist': 8868, u'attent': 879, u'attenu': 881, u'barricaded': 1004, u'villag': 8610, u'light': 4632, u'straps': 7572, u'interrupter': 4224, u'secured': 6874, u'rusted': 6725, u'demobilized': 2295, u'interpreted': 4222, u'133': 53, u'130': 52, u'135': 57, u'134': 55, u'superior': 7708, u'longitudinal': 4713, u'inlet': 4131, u'previously': 5979, u'permanent': 5670, u'restrain': 6519, u'inspecting': 4157, u'orange': 5414, u'covered': 2057, u'receptacles': 6269, u'holiday': 3859, u'belted': 1068, u'eastward': 2700, u'violating': 8616, u'crash': 2081, u'citrus': 1641, u'flour': 3290, u'practice': 5910, u'flew': 3277, u'impaired': 4000, u'fled': 3273, u'trad': 8142, u'trac': 8130, u'tran': 8160, u'trak': 8159, u'trimmed': 8222, u'trap': 8178, u'blacktop': 1113, u'tray': 8194, u'avis': 920, u'related': 6380, u'avulsion': 924, u'88': 350, u'89': 353, u'backhoes': 948, u'83': 340, u'80': 335, u'81': 338, u'86': 346, u'84': 342, u'85': 344, u'cerebral': 1531, u'8800': 351, u'clockwis': 1690, u'supports': 7728, u'integrated': 4194, u'loyola': 4738, u'7620': 328, u'dumpster': 2662, u'anyhow': 709, u'tenant': 7914, u'repairing': 6441, u'tanker': 7849, u'substantiate': 7649, u'rivet': 6615, u'conversation': 1985, u'ltd': 4743, u'timbers': 8049, u'calcaneus': 1377, u'pneumatic': 5822, u'droop': 2627, u'spanit': 7306, u'redondo': 6313, u'trembl': 8205, u'rigg': 6590, u'rasmussen': 6206, u'nonoccup': 5241, u'priority': 5992, u'657': 307, u'1509': 67, u'inserting': 4151, u'boil': 1166, u'classroom': 1655, u'agility': 547, u'shell': 6997, u'317': 200, u'reversed': 6559, u'shallow': 6967, u'slides': 7178, u'schweizer': 6813, u'tended': 7916, u'diminish': 2426, u'july': 4355, u'holland': 3860, u'kickback': 4397, u'boring': 1191, u'cheekbone': 1579, u'portervill': 5866, u'reposit': 6458, u'clip': 1687, u'engag': 2829, u'splatter': 7361, u'sometim': 7272, u'wireman': 8816, u'clin': 1685, u'seism': 6890, u'biggs': 1098, u'angle': 676, u'refinishing': 6336, u'rout': 6684, u'agency': 543, u'rous': 6682, u'clovi': 1709, u'which': 8769, u'combin': 1772, u'divert': 2525, u'divers': 2521, u'vegetation': 8551, u'who': 8778, u'whi': 8768, u'ht': 3908, u'cracking': 2069, u'frict': 3406, u'class': 1652, u'polyester': 5848, u'dens': 2309, u'neighboring': 5193, u'rollat': 6640, u'denv': 2313, u'pipe': 5753, u'deni': 2307, u'hi': 3809, u'determin': 2363, u'gain': 3456, u'insulators': 4186, u'agreed': 553, u'cannabinoid': 1398, u'perfor': 5658, u'planning': 5782, u'fear': 3134, u'overflow': 5477, u'ear': 2686, u'locat': 4688, u'furnished': 3446, u'operational': 5400, u'mylar': 5147, u'neared': 5175, u'inhabit': 4106, u'he': 3754, u'local': 4687, u'spun': 7410, u'topple': 8093, u'contribut': 1971, u'watching': 8696, u'midnight': 4963, u'spud': 7409, u'ones': 5377, u'cutout': 2154, u'qu': 6138, u'600s': 297, u'cotter': 2031, u'partit': 5587, u'sediment': 6878, u'view': 8606, u'unkn': 8397, u'vibrate': 8593, u'expel': 2988, u'acquired': 459, u'knowledg': 4432, u'module': 5046, u'barrels': 1000, u'gutters': 3658, u'closer': 1696, u'penetrations': 5645, u'uncut': 8335, u'superh': 7704, u'closet': 1698, u'725': 324, u'closed': 1695, u'wetting': 8748, u'crude': 2126, u'limit': 4646, u'gooseneck': 3559, u'jos': 4341, u'weighing': 8724, u'opening': 5391, u'joy': 4344, u'tending': 7919, u'job': 4321, u'hobb': 3843, u'joe': 4326, u'spoil': 7373, u'jog': 4327, u'withstanding': 8825, u'foremen': 3342, u'addit': 490, u'canopi': 1400, u'acknowledge': 450, u'april': 759, u'grain': 3581, u'canopy': 1401, u'articul': 808, u'safely': 6738, u'grounds': 3632, u'unclear': 8322, u'wall': 8664, u'pulmonari': 6096, u'narrower': 5161, u'arriv': 794, u'environments': 2878, u'walk': 8659, u'owensboro': 5501, u'respect': 6492, u'pulmonary': 6097, u'rpm': 6690, u'occured': 5338, u'rusty': 6727, u'versalift': 8578, u'charts': 1572, u'compon': 1837, u'tutor': 8278, u'besid': 1084, u'shims': 7009, u'painted': 5526, u'sufficient': 7669, u'51529': 276, u'ensuring': 2852, u'exploding': 3002, u'tibula': 8025, u'overturn': 5498, u'hma': 3840, u'painter': 5527, u'reverse': 6558, u'abandoned': 386, u'align': 584, u'will': 8793, u'monrovia': 5073, u'fingertip': 3211, u'cutter': 2157, u'observ': 5313, u'supply': 7723, u'layer': 4536, u'apprehend': 739, u'draining': 2593, u'avi': 919, u'dual': 2649, u'scupp': 6844, u'subcontract': 7628, u'cross': 2110, u'member': 4915, u'units': 8393, u'gets': 3521, u'incl': 4038, u'difficult': 2407, u'overpasses': 5490, u'lobbi': 4682, u'student': 7614, u'pedal': 5626, u'collar': 1749, u'collap': 1742, u'gutter': 3657, u'splint': 7366, u'whole': 8780, u'banded': 983, u'fighting': 3192, u'scissor': 6814, u'catastrophically': 1473, u'breaker': 1238, u'bending': 1074, u'excessive': 2966, u'looked': 4715, u'cristo': 2105, u'gastritis': 3484, u'boot': 1186, u'obtain': 5320, u'replenish': 6452, u'unshor': 8439, u'fibril': 3182, u'simultan': 7110, u'rapid': 6201, u'console': 1925, u'bell': 1062, u'smith': 7222, u'hall': 3678, u'concourse': 1865, u'other': 5436, u'stowed': 7560, u'ski': 7136, u'knob': 4425, u'sick': 7068, u'provisions': 6075, u'mcginn': 4880, u'know': 4431, u'knot': 4429, u'press': 5955, u'amerage': 635, u'unplan': 8418, u'miami': 4958, u'waalking': 8650, u'loses': 4726, u'tennessee': 7924, u'clutch': 1714, u'conclusion': 1861, u'farthest': 3109, u'exceed': 2961, u'because': 1041, u'retractable': 6541, u'tumble': 8258, u'unsuccessful': 8450, u'reclamation': 6280, u'5154': 277, u'ventilated': 8563, u'platforms': 5797, u'110': 34, u'113': 36, u'townhouse': 8121, u'empire': 2783, u'employment': 2793, u'cutters': 2159, u'rohm': 6637, u'lead': 4546, u'leak': 4552, u'miner': 4993, u'leas': 4563, u'leap': 4559, u'leav': 4569, u'settl': 6936, u'leader': 4547, u'locate': 4689, u'investig': 4243, u'atherosclerotic': 858, u'june': 4367, u'd24x40': 2176, u'slum': 7206, u'fluorescent': 3303, u'pike': 5729, u'carried': 1444, u'extension': 3020, u'getting': 3522, u'hookup': 3872, u'spilled': 7344, u'epoxi': 2884, u'shipping': 7016, u'carries': 1446, u'carrier': 1445, u'sweat': 7777, u'constructor': 1931, u'prestress': 5967, u'fatally': 3122, u'esophag': 2912, u'chamf': 1552, u'own': 5502, u'chamb': 1550, u'automat': 899, u'aceton': 440, u'weather': 8712, u'brush': 1283, u'parkways': 5574, u'roadhead': 6617, u'van': 8530, u'val': 8525, u'garbag': 3471, u'vac': 8521, u'spiral': 7355, u'trenches': 8210, u'intention': 4207, u'misjudg': 5012, u'appl': 727, u'dynamite': 2677, u'cowork': 2062, u'contamin': 1950, u'1055d': 29, u'contradictori': 1967, u'shank': 6968, u'directing': 2436, u'tasked': 7865, u'contradictory': 1968, u'squeeze': 7420, u'taglin': 7820, u'made': 4773, u'whether': 8767, u'injur': 4121, u'ligamentous': 4630, u'record': 6291, u'below': 1066, u'ruling': 6703, u'castlewood': 1463, u'lubricated': 4748, u'inadequate': 4021, u'trailing': 8152, u'percent': 5657, u'cave': 1497, u'book': 1179, u'boom': 1181, u'branch': 1230, u'contacting': 1941, u'sloping': 7195, u'lance': 4490, u'innovative': 4140, u'truckers': 8239, u'apportioned': 736, u'ultimately': 8299, u'surfacing': 7741, u'pumps': 6104, u'preform': 5928, u'imitis': 3989, u'pertaining': 5685, u'ultraviolet': 8301, u'upwards': 8490, u'experienc': 2991, u'auxiliary': 910, u'overloading': 5487, u'intentionally': 4208, u'emerg': 2776, u'auxiliari': 909}\n"
     ]
    }
   ],
   "source": [
    "print(v.vocabulary_)"
   ]
  },
  {
   "cell_type": "code",
   "execution_count": 28,
   "metadata": {},
   "outputs": [
    {
     "name": "stdout",
     "output_type": "stream",
     "text": [
      "  (0, 8866)\t0.13872852898947638\n",
      "  (0, 8857)\t0.041315480241252346\n",
      "  (0, 8821)\t0.053612801857731665\n",
      "  (0, 8788)\t0.06270098025871126\n",
      "  (0, 8778)\t0.06983116946237235\n",
      "  (0, 8776)\t0.05732134493368609\n",
      "  (0, 8772)\t0.023544077525919645\n",
      "  (0, 8769)\t0.05232151407358126\n",
      "  (0, 8760)\t0.046365583298624426\n",
      "  (0, 8741)\t0.13893926497397757\n",
      "  (0, 8738)\t0.018030965257932897\n",
      "  (0, 8736)\t0.0366682577411112\n",
      "  (0, 8734)\t0.04434438179351785\n",
      "  (0, 8726)\t0.04157886896721309\n",
      "  (0, 8680)\t0.09945279690773544\n",
      "  (0, 8630)\t0.06270098025871126\n",
      "  (0, 8622)\t0.06270098025871126\n",
      "  (0, 8516)\t0.04824215320324002\n",
      "  (0, 8330)\t0.051370467090507674\n",
      "  (0, 8198)\t0.0286614297765033\n",
      "  (0, 8174)\t0.023381827478198648\n",
      "  (0, 8148)\t0.04772240029465143\n",
      "  (0, 8071)\t0.12143002646947967\n",
      "  (0, 8009)\t0.030085418218236896\n",
      "  (0, 7990)\t0.026600289003153258\n",
      "  :\t:\n",
      "  (799, 2893)\t0.11894674550804162\n",
      "  (799, 2787)\t0.10870058988740594\n",
      "  (799, 2778)\t0.06552982085319516\n",
      "  (799, 2682)\t0.09530996789258653\n",
      "  (799, 2570)\t0.112955558374462\n",
      "  (799, 2396)\t0.06607077913607103\n",
      "  (799, 2259)\t0.0801438746549461\n",
      "  (799, 1972)\t0.12139966237479127\n",
      "  (799, 1879)\t0.12139966237479127\n",
      "  (799, 1808)\t0.06739049715818195\n",
      "  (799, 1482)\t0.24836110032080866\n",
      "  (799, 1198)\t0.1406217491346159\n",
      "  (799, 1101)\t0.13583495350870017\n",
      "  (799, 854)\t0.03190558714223471\n",
      "  (799, 755)\t0.03630625178010343\n",
      "  (799, 670)\t0.06815785588040021\n",
      "  (799, 656)\t0.034869425354186266\n",
      "  (799, 566)\t0.1273908495083709\n",
      "  (799, 504)\t0.0985202672405531\n",
      "  (799, 422)\t0.0630176558015829\n",
      "  (799, 192)\t0.057995281624439454\n",
      "  (799, 182)\t0.09319026970154613\n",
      "  (799, 140)\t0.07842175989192797\n",
      "  (799, 51)\t0.07909361567005398\n",
      "  (799, 19)\t0.11501048400981327\n"
     ]
    }
   ],
   "source": [
    "\n",
    "print(Train_X_Tfidf)"
   ]
  },
  {
   "cell_type": "code",
   "execution_count": 89,
   "metadata": {},
   "outputs": [
    {
     "data": {
      "text/plain": [
       "SVC(C=0.8, cache_size=200, class_weight=None, coef0=0.0,\n",
       "  decision_function_shape='ovr', degree=3, gamma='auto_deprecated',\n",
       "  kernel='linear', max_iter=-1, probability=False, random_state=None,\n",
       "  shrinking=True, tol=0.001, verbose=False)"
      ]
     },
     "execution_count": 89,
     "metadata": {},
     "output_type": "execute_result"
    }
   ],
   "source": [
    "SVM = svm.SVC(C=0.80,kernel='linear')\n",
    "SVM.fit(Train_X_Tfidf,Train_Y)"
   ]
  },
  {
   "cell_type": "code",
   "execution_count": 90,
   "metadata": {},
   "outputs": [],
   "source": [
    "\n",
    "predictions_SVM = SVM.predict(Test_X_Tfidf)"
   ]
  },
  {
   "cell_type": "code",
   "execution_count": 91,
   "metadata": {},
   "outputs": [
    {
     "name": "stdout",
     "output_type": "stream",
     "text": [
      "[[ 3  1  0  0  0  1  0  0  0  7  1]\n",
      " [ 0 30  0  0  0  7  0  0  0  1  0]\n",
      " [ 0  1 20  0  0  0  0  0  0  0  0]\n",
      " [ 0  5  0  0  0  1  0  0  0  1  0]\n",
      " [ 0  2  0  0  0  2  0  0  0  0  0]\n",
      " [ 0 12  0  0  0 37  0  0  0  0  0]\n",
      " [ 0  4  1  0  0  1  8  0  0  1  0]\n",
      " [ 0  4  0  0  0  4  0  0  0  1  0]\n",
      " [ 0  5  0  0  0  0  0  0  0  1  0]\n",
      " [ 0  7  0  0  0  1  0  0  0 19  0]\n",
      " [ 0  4  0  0  0  0  0  0  0  2  5]]\n",
      "                                  precision    recall  f1-score   support\n",
      "\n",
      "       Caught in/between objects       1.00      0.23      0.38        13\n",
      "              Collapse of object       0.40      0.79      0.53        38\n",
      "                   Electrocution       0.95      0.95      0.95        21\n",
      " Exposure to chemical substances       0.00      0.00      0.00         7\n",
      "Exposure to extreme temperatures       0.00      0.00      0.00         4\n",
      "                           Falls       0.69      0.76      0.72        49\n",
      "            Fires and explosions       1.00      0.53      0.70        15\n",
      "        Struck by moving objects       0.00      0.00      0.00         9\n",
      "       Struck by falling objects       0.00      0.00      0.00         6\n",
      "                         Traffic       0.58      0.70      0.63        27\n",
      "                          Others       0.83      0.45      0.59        11\n",
      "\n",
      "                       micro avg       0.61      0.61      0.61       200\n",
      "                       macro avg       0.50      0.40      0.41       200\n",
      "                    weighted avg       0.61      0.61      0.57       200\n",
      "\n",
      "0.61\n"
     ]
    }
   ],
   "source": [
    "from sklearn.metrics import classification_report, confusion_matrix, accuracy_score\n",
    "target_names = ['Caught in/between objects','Collapse of object','Electrocution','Exposure to chemical substances','Exposure to extreme temperatures','Falls','Fires and explosions','Struck by moving objects','Struck by falling objects','Traffic','Others']\n",
    "\n",
    "print(confusion_matrix(Test_Y,predictions_SVM))\n",
    "print(classification_report(Test_Y,predictions_SVM,target_names = target_names))\n",
    "print(accuracy_score(Test_Y, predictions_SVM))"
   ]
  },
  {
   "cell_type": "code",
   "execution_count": 98,
   "metadata": {},
   "outputs": [
    {
     "data": {
      "text/plain": [
       "MultinomialNB(alpha=1.0, class_prior=None, fit_prior=True)"
      ]
     },
     "execution_count": 98,
     "metadata": {},
     "output_type": "execute_result"
    }
   ],
   "source": [
    "Naive = naive_bayes.MultinomialNB()\n",
    "Naive.fit(Train_X_Tfidf,Train_Y)"
   ]
  },
  {
   "cell_type": "code",
   "execution_count": 99,
   "metadata": {},
   "outputs": [],
   "source": [
    "predictions_NB = Naive.predict(Test_X_Tfidf)"
   ]
  },
  {
   "cell_type": "code",
   "execution_count": 100,
   "metadata": {},
   "outputs": [
    {
     "name": "stdout",
     "output_type": "stream",
     "text": [
      "[[ 0  5  0  0  0  8  0  0  0  0  0]\n",
      " [ 0 19  0  0  0 19  0  0  0  0  0]\n",
      " [ 0  3  4  0  0 14  0  0  0  0  0]\n",
      " [ 0  0  0  0  0  7  0  0  0  0  0]\n",
      " [ 0  1  0  0  0  3  0  0  0  0  0]\n",
      " [ 0  1  0  0  0 48  0  0  0  0  0]\n",
      " [ 0  5  0  0  0 10  0  0  0  0  0]\n",
      " [ 0  1  0  0  0  8  0  0  0  0  0]\n",
      " [ 0  6  0  0  0  0  0  0  0  0  0]\n",
      " [ 0 11  0  0  0 16  0  0  0  0  0]\n",
      " [ 0  7  0  0  0  4  0  0  0  0  0]]\n",
      "                                  precision    recall  f1-score   support\n",
      "\n",
      "       Caught in/between objects       0.00      0.00      0.00        13\n",
      "              Collapse of object       0.32      0.50      0.39        38\n",
      "                   Electrocution       1.00      0.19      0.32        21\n",
      " Exposure to chemical substances       0.00      0.00      0.00         7\n",
      "Exposure to extreme temperatures       0.00      0.00      0.00         4\n",
      "                           Falls       0.35      0.98      0.52        49\n",
      "            Fires and explosions       0.00      0.00      0.00        15\n",
      "        Struck by moving objects       0.00      0.00      0.00         9\n",
      "       Struck by falling objects       0.00      0.00      0.00         6\n",
      "                         Traffic       0.00      0.00      0.00        27\n",
      "                          Others       0.00      0.00      0.00        11\n",
      "\n",
      "                       micro avg       0.35      0.35      0.36       200\n",
      "                       macro avg       0.15      0.15      0.11       200\n",
      "                    weighted avg       0.25      0.35      0.23       200\n",
      "\n",
      "0.355\n"
     ]
    }
   ],
   "source": [
    "from sklearn.metrics import classification_report, confusion_matrix, accuracy_score\n",
    "\n",
    "print(confusion_matrix(Test_Y,predictions_NB))\n",
    "print(classification_report(Test_Y,predictions_NB,target_names = target_names))\n",
    "print(accuracy_score(Test_Y, predictions_NB))"
   ]
  },
  {
   "cell_type": "code",
   "execution_count": 101,
   "metadata": {},
   "outputs": [],
   "source": [
    "from sklearn.tree import DecisionTreeClassifier"
   ]
  },
  {
   "cell_type": "code",
   "execution_count": 102,
   "metadata": {},
   "outputs": [],
   "source": [
    "clf3 = DecisionTreeClassifier()\n",
    "\n",
    "# Train Decision Tree Classifer\n",
    "clf3.fit(Train_X_Tfidf,Train_Y)\n",
    "\n",
    "#Predict the response for test dataset\n",
    "y_pred = clf3.predict((Test_X_Tfidf))"
   ]
  },
  {
   "cell_type": "code",
   "execution_count": 103,
   "metadata": {},
   "outputs": [
    {
     "name": "stdout",
     "output_type": "stream",
     "text": [
      "[[ 8  2  0  1  0  0  0  0  1  0  1]\n",
      " [ 2 24  1  2  0  7  0  0  0  1  1]\n",
      " [ 0  0 15  1  1  1  3  0  0  0  0]\n",
      " [ 0  1  0  1  0  0  1  3  0  1  0]\n",
      " [ 0  1  0  0  0  1  1  0  0  1  0]\n",
      " [ 0 10  1  0  0 32  0  1  4  1  0]\n",
      " [ 0  1  5  0  0  0  6  1  1  1  0]\n",
      " [ 0  4  0  1  0  1  0  1  0  1  1]\n",
      " [ 0  2  0  0  0  2  0  0  2  0  0]\n",
      " [ 2  5  2  0  0  1  0  0  0 16  1]\n",
      " [ 0  2  0  1  0  1  0  0  0  2  5]]\n",
      "                                  precision    recall  f1-score   support\n",
      "\n",
      "       Caught in/between objects       0.67      0.62      0.64        13\n",
      "              Collapse of object       0.46      0.63      0.53        38\n",
      "                   Electrocution       0.62      0.71      0.67        21\n",
      " Exposure to chemical substances       0.14      0.14      0.14         7\n",
      "Exposure to extreme temperatures       0.00      0.00      0.00         4\n",
      "                           Falls       0.70      0.65      0.67        49\n",
      "            Fires and explosions       0.55      0.40      0.46        15\n",
      "        Struck by moving objects       0.17      0.11      0.13         9\n",
      "       Struck by falling objects       0.25      0.33      0.29         6\n",
      "                         Traffic       0.67      0.59      0.63        27\n",
      "                          Others       0.56      0.45      0.50        11\n",
      "\n",
      "                       micro avg       0.55      0.55      0.55       200\n",
      "                       macro avg       0.43      0.42      0.42       200\n",
      "                    weighted avg       0.55      0.55      0.54       200\n",
      "\n",
      "0.55\n"
     ]
    }
   ],
   "source": [
    "from sklearn.metrics import classification_report, confusion_matrix, accuracy_score\n",
    "\n",
    "print(confusion_matrix(Test_Y,y_pred))\n",
    "print(classification_report(Test_Y,y_pred,target_names = target_names))\n",
    "print(accuracy_score(Test_Y, y_pred))"
   ]
  },
  {
   "cell_type": "code",
   "execution_count": 104,
   "metadata": {},
   "outputs": [],
   "source": [
    "from sklearn.neighbors import KNeighborsClassifier\n",
    "classifier = KNeighborsClassifier(n_neighbors=25)"
   ]
  },
  {
   "cell_type": "code",
   "execution_count": 105,
   "metadata": {},
   "outputs": [
    {
     "data": {
      "text/plain": [
       "KNeighborsClassifier(algorithm='auto', leaf_size=30, metric='minkowski',\n",
       "           metric_params=None, n_jobs=None, n_neighbors=25, p=2,\n",
       "           weights='uniform')"
      ]
     },
     "execution_count": 105,
     "metadata": {},
     "output_type": "execute_result"
    }
   ],
   "source": [
    "\n",
    "classifier.fit(Train_X_Tfidf,Train_Y)"
   ]
  },
  {
   "cell_type": "code",
   "execution_count": 106,
   "metadata": {},
   "outputs": [],
   "source": [
    "y_pred = classifier.predict((Test_X_Tfidf))"
   ]
  },
  {
   "cell_type": "code",
   "execution_count": 107,
   "metadata": {},
   "outputs": [
    {
     "name": "stdout",
     "output_type": "stream",
     "text": [
      "[[ 5  3  0  0  0  2  0  0  0  2  1]\n",
      " [ 0 28  0  0  0  8  0  0  0  2  0]\n",
      " [ 1  2 15  0  0  3  0  0  0  0  0]\n",
      " [ 0  2  0  0  0  4  0  0  0  1  0]\n",
      " [ 0  2  0  0  0  2  0  0  0  0  0]\n",
      " [ 0  6  0  0  0 43  0  0  0  0  0]\n",
      " [ 0  2  4  0  0  3  5  0  0  1  0]\n",
      " [ 0  2  1  0  0  5  0  0  0  1  0]\n",
      " [ 0  2  0  0  0  2  0  0  1  1  0]\n",
      " [ 3  1  1  0  0  9  0  0  0 11  2]\n",
      " [ 0  3  0  0  0  1  0  0  0  2  5]]\n",
      "                                  precision    recall  f1-score   support\n",
      "\n",
      "       Caught in/between objects       0.56      0.38      0.45        13\n",
      "              Collapse of object       0.53      0.74      0.62        38\n",
      "                   Electrocution       0.71      0.71      0.71        21\n",
      " Exposure to chemical substances       0.00      0.00      0.00         7\n",
      "Exposure to extreme temperatures       0.00      0.00      0.00         4\n",
      "                           Falls       0.52      0.88      0.66        49\n",
      "            Fires and explosions       1.00      0.33      0.50        15\n",
      "        Struck by moving objects       0.00      0.00      0.00         9\n",
      "       Struck by falling objects       1.00      0.17      0.29         6\n",
      "                         Traffic       0.52      0.41      0.46        27\n",
      "                          Others       0.62      0.45      0.53        11\n",
      "\n",
      "                       micro avg       0.56      0.56      0.56       200\n",
      "                       macro avg       0.50      0.37      0.38       200\n",
      "                    weighted avg       0.55      0.56      0.52       200\n",
      "\n",
      "0.565\n"
     ]
    }
   ],
   "source": [
    "from sklearn.metrics import classification_report, confusion_matrix, accuracy_score\n",
    "\n",
    "print(confusion_matrix(Test_Y,y_pred))\n",
    "print(classification_report(Test_Y,y_pred,target_names = target_names))\n",
    "print(accuracy_score(Test_Y, y_pred))"
   ]
  },
  {
   "cell_type": "code",
   "execution_count": 144,
   "metadata": {},
   "outputs": [],
   "source": [
    "from sklearn.pipeline import Pipeline\n",
    "from sklearn.feature_selection import SelectKBest, chi2\n",
    "import pickle"
   ]
  },
  {
   "cell_type": "code",
   "execution_count": 145,
   "metadata": {},
   "outputs": [],
   "source": [
    "from sklearn.linear_model import LogisticRegression\n",
    "X= data['summary.new']\n",
    "Y = data['Tagged2']\n",
    "X_train, X_test, y_train, y_test = model_selection.train_test_split(X, Y, test_size=0.2)"
   ]
  },
  {
   "cell_type": "code",
   "execution_count": 146,
   "metadata": {},
   "outputs": [],
   "source": [
    "pipeline = Pipeline([('vect', v),\n",
    "                     ('chi',  SelectKBest(chi2, k=1200)),\n",
    "                     ('clf', LogisticRegression(random_state=0))])\n",
    "\n"
   ]
  },
  {
   "cell_type": "code",
   "execution_count": 147,
   "metadata": {},
   "outputs": [],
   "source": [
    "model = pipeline.fit(X_train, y_train)\n",
    "with open('LogisticRegression.pickle', 'wb') as f:\n",
    "    pickle.dump(model, f)\n"
   ]
  },
  {
   "cell_type": "code",
   "execution_count": 148,
   "metadata": {},
   "outputs": [],
   "source": [
    "ytest = np.array(y_test)"
   ]
  },
  {
   "cell_type": "code",
   "execution_count": 149,
   "metadata": {},
   "outputs": [
    {
     "name": "stdout",
     "output_type": "stream",
     "text": [
      "                                  precision    recall  f1-score   support\n",
      "\n",
      "       caught in/between objects       1.00      0.19      0.32        16\n",
      "              collapse of object       0.40      0.68      0.50        40\n",
      "                   electrocution       1.00      0.87      0.93        23\n",
      " exposure to chemical substances       0.00      0.00      0.00         6\n",
      "exposure to extreme temperatures       0.00      0.00      0.00         4\n",
      "                           falls       0.60      0.89      0.72        53\n",
      "             fires and explosion       1.00      0.20      0.33         5\n",
      "                          others       0.00      0.00      0.00         7\n",
      "        struck by falling object       0.00      0.00      0.00        10\n",
      "        struck by moving objects       0.61      0.58      0.60        24\n",
      "                         traffic       0.50      0.33      0.40        12\n",
      "\n",
      "                       micro avg       0.58      0.58      0.58       200\n",
      "                       macro avg       0.46      0.34      0.35       200\n",
      "                    weighted avg       0.56      0.58      0.53       200\n",
      "\n",
      "[[ 3  5  0  0  0  2  0  0  0  5  1]\n",
      " [ 0 27  0  0  0 12  0  0  0  0  1]\n",
      " [ 0  1 20  0  0  2  0  0  0  0  0]\n",
      " [ 0  4  0  0  0  2  0  0  0  0  0]\n",
      " [ 0  0  0  0  0  4  0  0  0  0  0]\n",
      " [ 0  6  0  0  0 47  0  0  0  0  0]\n",
      " [ 0  2  0  0  0  2  1  0  0  0  0]\n",
      " [ 0  3  0  0  0  3  0  0  0  1  0]\n",
      " [ 0  8  0  0  0  0  0  0  0  1  1]\n",
      " [ 0  7  0  0  0  2  0  0  0 14  1]\n",
      " [ 0  4  0  0  0  2  0  0  0  2  4]]\n"
     ]
    }
   ],
   "source": [
    "print(classification_report(ytest, model.predict(X_test)))\n",
    "print(confusion_matrix(ytest, model.predict(X_test)))\n",
    "\n"
   ]
  },
  {
   "cell_type": "code",
   "execution_count": 203,
   "metadata": {},
   "outputs": [
    {
     "name": "stdout",
     "output_type": "stream",
     "text": [
      "<type 'list'>\n",
      "[1, 0, 1, 0, 1, 0]\n"
     ]
    }
   ],
   "source": [
    "import random\n",
    "best=-100000\n",
    "populations = [random.randint(0.0,1.0) for x in range(6)] \n",
    "print(type(populations))\n",
    "parents=[]\n",
    "new_populations = []\n",
    "print(populations)"
   ]
  },
  {
   "cell_type": "code",
   "execution_count": null,
   "metadata": {},
   "outputs": [],
   "source": []
  },
  {
   "cell_type": "code",
   "execution_count": null,
   "metadata": {},
   "outputs": [],
   "source": []
  }
 ],
 "metadata": {
  "kernelspec": {
   "display_name": "Python 2",
   "language": "python",
   "name": "python2"
  },
  "language_info": {
   "codemirror_mode": {
    "name": "ipython",
    "version": 2
   },
   "file_extension": ".py",
   "mimetype": "text/x-python",
   "name": "python",
   "nbconvert_exporter": "python",
   "pygments_lexer": "ipython2",
   "version": "2.7.16"
  }
 },
 "nbformat": 4,
 "nbformat_minor": 2
}
